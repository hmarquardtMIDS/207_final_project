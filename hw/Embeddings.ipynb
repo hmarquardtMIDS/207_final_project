{
  "cells": [
    {
      "cell_type": "markdown",
      "metadata": {
        "id": "MKsRDH5ZUdfasdv"
      },
      "source": [
        "# Assignment 9"
      ]
    },
    {
      "cell_type": "markdown",
      "metadata": {
        "id": "iQXbx5EbHjVZ"
      },
      "source": [
        "### <span style=\"color:chocolate\"> Submission requirements </span>\n",
        "\n",
        "Your work will not be graded if your notebook doesn't include output. In other words, <span style=\"color:red\"> make sure to rerun your notebook before submitting to Gradescope </span> (Note: if you are using Google Colab: go to Edit > Notebook Settings  and uncheck Omit code cell output when saving this notebook, otherwise the output is not printed).\n",
        "\n",
        "Additional points may be deducted if these requirements are not met:\n",
        "\n",
        "    \n",
        "* Comment your code;\n",
        "* Each graph should have a title, labels for each axis, and (if needed) a legend. Each graph should be understandable on its own;\n",
        "* Try and minimize the use of the global namespace (meaning, keep things inside functions).\n",
        "---"
      ]
    },
    {
      "cell_type": "markdown",
      "metadata": {
        "id": "DDge2q5zHjVa"
      },
      "source": [
        "### Import libraries"
      ]
    },
    {
      "cell_type": "code",
      "execution_count": 24,
      "metadata": {
        "id": "7X58hOMTUH-w"
      },
      "outputs": [],
      "source": [
        "import numpy as np\n",
        "from matplotlib import pyplot as plt\n",
        "import pandas as pd\n",
        "import seaborn as sns  # for nicer plots\n",
        "sns.set(style=\"darkgrid\")  # default style\n",
        "import plotly.graph_objs as plotly  # for interactive plots\n",
        "import tensorflow as tf\n",
        "from tensorflow.keras.datasets import imdb\n",
        "\n",
        "# Some helpful functions for the bonus\n",
        "from tensorflow.keras.models import Sequential\n",
        "from tensorflow.keras.layers import Embedding, GlobalAveragePooling1D, Dense\n",
        "from tensorflow.keras.preprocessing.sequence import pad_sequences"
      ]
    },
    {
      "cell_type": "markdown",
      "metadata": {
        "id": "yHmo5qkJHjVb"
      },
      "source": [
        "---\n",
        "### Step 1: Data ingestion"
      ]
    },
    {
      "cell_type": "markdown",
      "metadata": {
        "id": "eqppUDpmdptk"
      },
      "source": [
        "In this lab, you'll train a <span style=\"color:chocolate\">sentiment</span> classifier for movie reviews.\n",
        "\n",
        "* The input is the text of a movie review;\n",
        "* The output is the probability the input is a positive review.\n",
        "* The target labels are binary, 0 for negative and 1 for positive.\n",
        "\n",
        "The data includes 50,000 movie reviews on IMDB. The data comes pre-segmented into train and test splits. The [data loading function](https://www.tensorflow.org/api_docs/python/tf/keras/datasets/imdb/load_data) below also splits each input text into tokens (words), and maps the words to integer values. Each input is a sequence of integers corresponding to the words."
      ]
    },
    {
      "cell_type": "code",
      "execution_count": 2,
      "metadata": {
        "colab": {
          "base_uri": "https://localhost:8080/"
        },
        "id": "s6M-asvhQWV_",
        "outputId": "f5d5521e-7fbf-4014-9da7-8c4ba6618d77"
      },
      "outputs": [
        {
          "output_type": "stream",
          "name": "stdout",
          "text": [
            "X_train.shape: (25000,)\n",
            "Y_train.shape: (25000,)\n",
            "X_test.shape: (25000,)\n",
            "Y_test.shape: (25000,)\n"
          ]
        }
      ],
      "source": [
        "# read data\n",
        "(X_train, Y_train), (X_test, Y_test) = imdb.load_data(path=\"imdb.npz\",\n",
        "                                                      num_words=None,\n",
        "                                                      skip_top=0,\n",
        "                                                      maxlen=None,\n",
        "                                                      seed=113,\n",
        "                                                      start_char=1,\n",
        "                                                      oov_char=2,\n",
        "                                                      index_from=3)\n",
        "\n",
        "print(\"X_train.shape:\", X_train.shape)\n",
        "print(\"Y_train.shape:\", Y_train.shape)\n",
        "print(\"X_test.shape:\", X_test.shape)\n",
        "print(\"Y_test.shape:\", Y_test.shape)"
      ]
    },
    {
      "cell_type": "markdown",
      "metadata": {
        "id": "z7qn5W9aHjVc"
      },
      "source": [
        "---\n",
        "### Step 2: Data preprocessing"
      ]
    },
    {
      "cell_type": "markdown",
      "metadata": {
        "id": "etYRWhugHjVd"
      },
      "source": [
        "Let's have a look at the first training example:"
      ]
    },
    {
      "cell_type": "code",
      "execution_count": 3,
      "metadata": {
        "colab": {
          "base_uri": "https://localhost:8080/"
        },
        "id": "nvmupjHTHjVd",
        "outputId": "23aa68bf-cd1f-4ca7-b8f2-d8c1f43ed3c8"
      },
      "outputs": [
        {
          "output_type": "stream",
          "name": "stdout",
          "text": [
            "First training example data: [1, 14, 22, 16, 43, 530, 973, 1622, 1385, 65, 458, 4468, 66, 3941, 4, 173, 36, 256, 5, 25, 100, 43, 838, 112, 50, 670, 22665, 9, 35, 480, 284, 5, 150, 4, 172, 112, 167, 21631, 336, 385, 39, 4, 172, 4536, 1111, 17, 546, 38, 13, 447, 4, 192, 50, 16, 6, 147, 2025, 19, 14, 22, 4, 1920, 4613, 469, 4, 22, 71, 87, 12, 16, 43, 530, 38, 76, 15, 13, 1247, 4, 22, 17, 515, 17, 12, 16, 626, 18, 19193, 5, 62, 386, 12, 8, 316, 8, 106, 5, 4, 2223, 5244, 16, 480, 66, 3785, 33, 4, 130, 12, 16, 38, 619, 5, 25, 124, 51, 36, 135, 48, 25, 1415, 33, 6, 22, 12, 215, 28, 77, 52, 5, 14, 407, 16, 82, 10311, 8, 4, 107, 117, 5952, 15, 256, 4, 31050, 7, 3766, 5, 723, 36, 71, 43, 530, 476, 26, 400, 317, 46, 7, 4, 12118, 1029, 13, 104, 88, 4, 381, 15, 297, 98, 32, 2071, 56, 26, 141, 6, 194, 7486, 18, 4, 226, 22, 21, 134, 476, 26, 480, 5, 144, 30, 5535, 18, 51, 36, 28, 224, 92, 25, 104, 4, 226, 65, 16, 38, 1334, 88, 12, 16, 283, 5, 16, 4472, 113, 103, 32, 15, 16, 5345, 19, 178, 32]\n",
            "First training example label: 1\n"
          ]
        }
      ],
      "source": [
        "print('First training example data:', X_train[0])\n",
        "print('First training example label:', Y_train[0])"
      ]
    },
    {
      "cell_type": "markdown",
      "metadata": {
        "id": "MyIWiy-4gQK-"
      },
      "source": [
        "As you can see, the first training example is a positive review. However, that sequence of integer IDs is hard to read.\n",
        "\n",
        "The data loader provides a dictionary mapping words to IDs. Let's create a reverse index.\n"
      ]
    },
    {
      "cell_type": "code",
      "execution_count": 4,
      "metadata": {
        "colab": {
          "base_uri": "https://localhost:8080/"
        },
        "id": "HQ-qATkhUj7c",
        "outputId": "e6bc8143-bb11-4474-cdb0-d55c04c8a5fd"
      },
      "outputs": [
        {
          "output_type": "stream",
          "name": "stdout",
          "text": [
            "Largest ID: 88587\n"
          ]
        }
      ],
      "source": [
        "# The imdb dataset comes with an index mapping words to integers.\n",
        "# In the index the words are ordered by frequency they occur.\n",
        "index = imdb.get_word_index()\n",
        "\n",
        "# Because we used index_from=3 (above), setting aside ids below 3 for special\n",
        "# symbols, we need to add 3 to the index values.\n",
        "index = dict([(key, value+3) for (key, value) in index.items()])\n",
        "\n",
        "# Create a reverse index so we can lookup tokens assigned to each id.\n",
        "reverse_index = dict([(value, key) for (key, value) in index.items()])\n",
        "reverse_index[1] = '<START>'  # start of input\n",
        "reverse_index[2] = '#'        # out-of-vocabulary (OOV)\n",
        "reverse_index[3] = '<UNUSED>'\n",
        "\n",
        "max_id = max(reverse_index.keys())\n",
        "print('Largest ID:', max_id)"
      ]
    },
    {
      "cell_type": "markdown",
      "metadata": {
        "id": "h76-b07ehWNQ"
      },
      "source": [
        "Note that our index (and reverse index) have <span style=\"color:chocolate\">88,587</span> tokens. That's quite <span style=\"color:chocolate\">a large vocabulary</span>!\n",
        "\n",
        "Next, let's write a decoding function for our data."
      ]
    },
    {
      "cell_type": "code",
      "execution_count": 5,
      "metadata": {
        "colab": {
          "base_uri": "https://localhost:8080/"
        },
        "id": "UjobmouHS5Dm",
        "outputId": "94ee6856-3949-4166-b551-77c7bc2f3b5b"
      },
      "outputs": [
        {
          "output_type": "stream",
          "name": "stdout",
          "text": [
            "[1, 14, 22, 16, 43, 530, 973, 1622, 1385, 65, 458, 4468, 66, 3941, 4, 173, 36, 256, 5, 25, 100, 43, 838, 112, 50, 670, 22665, 9, 35, 480, 284, 5, 150, 4, 172, 112, 167, 21631, 336, 385, 39, 4, 172, 4536, 1111, 17, 546, 38, 13, 447, 4, 192, 50, 16, 6, 147, 2025, 19, 14, 22, 4, 1920, 4613, 469, 4, 22, 71, 87, 12, 16, 43, 530, 38, 76, 15, 13, 1247, 4, 22, 17, 515, 17, 12, 16, 626, 18, 19193, 5, 62, 386, 12, 8, 316, 8, 106, 5, 4, 2223, 5244, 16, 480, 66, 3785, 33, 4, 130, 12, 16, 38, 619, 5, 25, 124, 51, 36, 135, 48, 25, 1415, 33, 6, 22, 12, 215, 28, 77, 52, 5, 14, 407, 16, 82, 10311, 8, 4, 107, 117, 5952, 15, 256, 4, 31050, 7, 3766, 5, 723, 36, 71, 43, 530, 476, 26, 400, 317, 46, 7, 4, 12118, 1029, 13, 104, 88, 4, 381, 15, 297, 98, 32, 2071, 56, 26, 141, 6, 194, 7486, 18, 4, 226, 22, 21, 134, 476, 26, 480, 5, 144, 30, 5535, 18, 51, 36, 28, 224, 92, 25, 104, 4, 226, 65, 16, 38, 1334, 88, 12, 16, 283, 5, 16, 4472, 113, 103, 32, 15, 16, 5345, 19, 178, 32]\n",
            "<START> this film was just brilliant casting location scenery story direction everyone's really suited the part they played and you could just imagine being there robert redford's is an amazing actor and now the same being director norman's father came from the same scottish island as myself so i loved the fact there was a real connection with this film the witty remarks throughout the film were great it was just brilliant so much that i bought the film as soon as it was released for retail and would recommend it to everyone to watch and the fly fishing was amazing really cried at the end it was so sad and you know what they say if you cry at a film it must have been good and this definitely was also congratulations to the two little boy's that played the part's of norman and paul they were just brilliant children are often left out of the praising list i think because the stars that play them all grown up are such a big profile for the whole film but these children are amazing and should be praised for what they have done don't you think the whole story was so lovely because it was true and was someone's life after all that was shared with us all\n"
          ]
        }
      ],
      "source": [
        "def decode(token_ids):\n",
        "  \"\"\"Return a string with the decoded text given a list of token ids.\"\"\"\n",
        "  # Try looking up each id in the index, but return '#' (for OOV) if not found.\n",
        "  tokens = [reverse_index.get(i, \"#\") for i in token_ids]\n",
        "\n",
        "  # Connect the string tokens with a space.\n",
        "  return ' '.join(tokens)\n",
        "\n",
        "# Show the ids corresponding tokens in the first example.\n",
        "print(X_train[0])\n",
        "print(decode(X_train[0]))"
      ]
    },
    {
      "cell_type": "markdown",
      "metadata": {
        "id": "n2etvf5bHjVe"
      },
      "source": [
        "---\n",
        "### Step 3: Exploratory Data Analysis (EDA)"
      ]
    },
    {
      "cell_type": "markdown",
      "metadata": {
        "id": "nujvgufMHjVe"
      },
      "source": [
        "### <span style=\"color:chocolate\">Exercise 1:</span> Text lengths (10 points)"
      ]
    },
    {
      "cell_type": "markdown",
      "metadata": {
        "id": "g47w5CackGBA"
      },
      "source": [
        "Using the training reviews data, answer the following questions:\n",
        "\n",
        "1. What are the minimum, maximum, and mean lengths of positive and negative reviews?\n",
        "2. Create a histogram to visualize the distribution of positive and negative review lengths. Make sure to provide a descriptive title and axis labels."
      ]
    },
    {
      "cell_type": "code",
      "execution_count": 6,
      "metadata": {
        "colab": {
          "base_uri": "https://localhost:8080/",
          "height": 609
        },
        "id": "ZR1hq9CvHjVe",
        "outputId": "25a11fbb-c4d0-431a-dcd0-1c148d11fb1b"
      },
      "outputs": [
        {
          "output_type": "stream",
          "name": "stdout",
          "text": [
            "Positive reviews - Min length: 13 Max length: 2494 Mean length: 241.56296\n",
            "Negative reviews - Min length: 11 Max length: 1571 Mean length: 235.86432\n"
          ]
        },
        {
          "output_type": "display_data",
          "data": {
            "text/plain": [
              "<Figure size 1200x600 with 1 Axes>"
            ],
            "image/png": "[encoded data removed]"
          },
          "metadata": {}
        }
      ],
      "source": [
        "# YOUR CODE HERE\n",
        "\n",
        "# Calculate lengths of each review\n",
        "review_lengths = [len(review) for review in X_train]\n",
        "\n",
        "# Separate lengths by review sentiment\n",
        "positive_lengths = [review_lengths[i] for i in range(len(review_lengths)) if Y_train[i] == 1]\n",
        "negative_lengths = [review_lengths[i] for i in range(len(review_lengths)) if Y_train[i] == 0]\n",
        "\n",
        "# Compute minimum, maximum, and mean lengths\n",
        "min_positive, max_positive, mean_positive = min(positive_lengths), max(positive_lengths), np.mean(positive_lengths)\n",
        "min_negative, max_negative, mean_negative = min(negative_lengths), max(negative_lengths), np.mean(negative_lengths)\n",
        "\n",
        "# Print the computed values\n",
        "print(\"Positive reviews - Min length:\", min_positive, \"Max length:\", max_positive, \"Mean length:\", mean_positive)\n",
        "print(\"Negative reviews - Min length:\", min_negative, \"Max length:\", max_negative, \"Mean length:\", mean_negative)\n",
        "\n",
        "# Plot histograms\n",
        "plt.figure(figsize=(12, 6))\n",
        "plt.hist(positive_lengths, bins=30, alpha=0.5, label='Positive Reviews', color='green')\n",
        "plt.hist(negative_lengths, bins=30, alpha=0.5, label='Negative Reviews', color='red')\n",
        "plt.title('Distribution of Review Lengths by Sentiment')\n",
        "plt.xlabel('Review Length')\n",
        "plt.ylabel('Frequency')\n",
        "plt.legend()\n",
        "plt.show()"
      ]
    },
    {
      "cell_type": "markdown",
      "metadata": {
        "id": "6LozYVMeHjVe"
      },
      "source": [
        "### <span style=\"color:chocolate\">Exercise 2:</span> Token counts (10 points)"
      ]
    },
    {
      "cell_type": "markdown",
      "metadata": {
        "id": "c3ZE9gpkml3a"
      },
      "source": [
        "Using the training data, create a table listing the counts of positive and negative examples that contain each token provided below."
      ]
    },
    {
      "cell_type": "code",
      "execution_count": 7,
      "metadata": {
        "id": "8YOYo6d01aWI",
        "colab": {
          "base_uri": "https://localhost:8080/"
        },
        "outputId": "0ec89b86-9e81-41bb-b15f-779a91b5ffb6"
      },
      "outputs": [
        {
          "output_type": "stream",
          "name": "stdout",
          "text": [
            "Token counts in reviews:\n",
            "Token | Positive | Negative\n",
            "good | 4767 | 4849\n",
            "bad | 1491 | 4396\n",
            "amazing | 868 | 240\n",
            "boring | 301 | 1205\n",
            "laugh | 525 | 685\n",
            "cry | 231 | 114\n"
          ]
        }
      ],
      "source": [
        "tokens = ['good', 'bad', 'amazing', 'boring', 'laugh', 'cry']\n",
        "\n",
        "# Token IDs according to the reverse index already obtained\n",
        "token_ids = {token: imdb.get_word_index().get(token) + 3 for token in tokens}\n",
        "\n",
        "# Initialize counts for each token\n",
        "counts = {token: {'positive': 0, 'negative': 0} for token in tokens}\n",
        "\n",
        "# Count occurrences in each review based on sentiment\n",
        "for i, review in enumerate(X_train):\n",
        "    review_set = set(review)  # Conversion to a set is more efficient\n",
        "    sentiment = 'positive' if Y_train[i] == 1 else 'negative'\n",
        "    for token, token_id in token_ids.items():\n",
        "        if token_id in review_set:\n",
        "            counts[token][sentiment] += 1\n",
        "\n",
        "# Display the counts\n",
        "print(\"Token counts in reviews:\")\n",
        "print(f\"Token | Positive | Negative\")\n",
        "for token, data in counts.items():\n",
        "    print(f\"{token} | {data['positive']} | {data['negative']}\")"
      ]
    },
    {
      "cell_type": "markdown",
      "metadata": {
        "id": "QmaSbHi5HjVe"
      },
      "source": [
        "---\n",
        "### Step 4: Data preprocessing (cont'd)"
      ]
    },
    {
      "cell_type": "markdown",
      "metadata": {
        "id": "VnYeGHzZHjVe"
      },
      "source": [
        "As is clear from the review length histogram, the current representation of the review text is a variable-length array. Since fixed-length arrays are easier to work with in Tensorflow, you will add special padding tokens at the end of each review until they are all the same length. You will also truncate all training inputs to a specified length."
      ]
    },
    {
      "cell_type": "markdown",
      "metadata": {
        "id": "skW1UmlQHjVe"
      },
      "source": [
        "### <span style=\"color:chocolate\">Exercise 3:</span> Reduced length and padding (10 points)"
      ]
    },
    {
      "cell_type": "markdown",
      "metadata": {
        "id": "POAQ3Kf9HjVe"
      },
      "source": [
        "Fill in the <span style=\"color:green\">NotImplemented</span> parts of the <span style=\"color:chocolate\">truncate_pad_data()</span> function below by following these instructions:\n",
        "\n",
        "1. Restrict the maximum number of tokens by truncating all reviews to a length of 300;\n",
        "2. Append special padding tokens (value = 0) to the end of each review until all reviews are of the same length."
      ]
    },
    {
      "cell_type": "code",
      "execution_count": 8,
      "metadata": {
        "colab": {
          "base_uri": "https://localhost:8080/"
        },
        "id": "VIx0UiLpHjVe",
        "outputId": "16c41d69-a711-4646-87f6-4cbb74f81202"
      },
      "outputs": [
        {
          "output_type": "stream",
          "name": "stdout",
          "text": [
            "Length of X_train[0]: 218\n",
            "Length of X_train_padded[0]: 300\n",
            "[    1    14    22    16    43   530   973  1622  1385    65   458  4468\n",
            "    66  3941     4   173    36   256     5    25   100    43   838   112\n",
            "    50   670 22665     9    35   480   284     5   150     4   172   112\n",
            "   167 21631   336   385    39     4   172  4536  1111    17   546    38\n",
            "    13   447     4   192    50    16     6   147  2025    19    14    22\n",
            "     4  1920  4613   469     4    22    71    87    12    16    43   530\n",
            "    38    76    15    13  1247     4    22    17   515    17    12    16\n",
            "   626    18 19193     5    62   386    12     8   316     8   106     5\n",
            "     4  2223  5244    16   480    66  3785    33     4   130    12    16\n",
            "    38   619     5    25   124    51    36   135    48    25  1415    33\n",
            "     6    22    12   215    28    77    52     5    14   407    16    82\n",
            " 10311     8     4   107   117  5952    15   256     4 31050     7  3766\n",
            "     5   723    36    71    43   530   476    26   400   317    46     7\n",
            "     4 12118  1029    13   104    88     4   381    15   297    98    32\n",
            "  2071    56    26   141     6   194  7486    18     4   226    22    21\n",
            "   134   476    26   480     5   144    30  5535    18    51    36    28\n",
            "   224    92    25   104     4   226    65    16    38  1334    88    12\n",
            "    16   283     5    16  4472   113   103    32    15    16  5345    19\n",
            "   178    32     0     0     0     0     0     0     0     0     0     0\n",
            "     0     0     0     0     0     0     0     0     0     0     0     0\n",
            "     0     0     0     0     0     0     0     0     0     0     0     0\n",
            "     0     0     0     0     0     0     0     0     0     0     0     0\n",
            "     0     0     0     0     0     0     0     0     0     0     0     0\n",
            "     0     0     0     0     0     0     0     0     0     0     0     0\n",
            "     0     0     0     0     0     0     0     0     0     0     0     0]\n"
          ]
        }
      ],
      "source": [
        "def truncate_pad_data(sequences, max_length):\n",
        "    # Keras has a convenient utility for padding a sequence:\n",
        "    # tf.keras.preprocessing.sequence.pad_sequences()\n",
        "    # Also make sure you get a numpy array rather than an array of lists.\n",
        "    padded_data = tf.keras.preprocessing.sequence.pad_sequences(\n",
        "        sequences, maxlen=max_length, truncating='post', padding='post', value=0)\n",
        "\n",
        "    return padded_data\n",
        "\n",
        "# 1+ 2: Truncate and pad the training data\n",
        "X_train_padded = truncate_pad_data(X_train, max_length=300)\n",
        "\n",
        "# Check the padded output.\n",
        "print('Length of X_train[0]:', len(X_train[0]))\n",
        "print('Length of X_train_padded[0]:', len(X_train_padded[0]))\n",
        "print(X_train_padded[0])"
      ]
    },
    {
      "cell_type": "markdown",
      "metadata": {
        "id": "dm4IvLW9HjVf"
      },
      "source": [
        "Next, you want to be able to limit the vocabulary size. Since the <span style=\"color:chocolate\">truncate_pad_data()</span> function produces fixed-length sequences in a numpy matrix, one can use clever numpy indexing to efficiently replace all token ids larger than some value with the designated out-of-vocabulary (OOV) id."
      ]
    },
    {
      "cell_type": "markdown",
      "metadata": {
        "id": "4v5re2f3HjVf"
      },
      "source": [
        "### <span style=\"color:chocolate\">Exercise 4:</span> Reduced vocabulary (10 points)"
      ]
    },
    {
      "cell_type": "markdown",
      "metadata": {
        "id": "qDrDZdgMHjVf"
      },
      "source": [
        "Fill in the <span style=\"color:green\">NotImplemented</span> parts of the <span style=\"color:chocolate\">limit_vocab()</span> function below by following these instructions:\n",
        "\n",
        "1. Keep just token ids less than 1000, replacing all others with OOV."
      ]
    },
    {
      "cell_type": "code",
      "execution_count": 9,
      "metadata": {
        "colab": {
          "base_uri": "https://localhost:8080/"
        },
        "id": "CJ5PyxnTHjVf",
        "outputId": "29366902-c0c1-4d96-d95a-32f8ce8e1cde"
      },
      "outputs": [
        {
          "output_type": "stream",
          "name": "stdout",
          "text": [
            "[  1  14  22  16  43 530 973   2   2  65 458   2  66   2   4 173  36 256\n",
            "   5  25 100  43 838 112  50 670   2   9  35 480 284   5 150   4 172 112\n",
            " 167   2 336 385  39   4 172   2   2  17 546  38  13 447   4 192  50  16\n",
            "   6 147   2  19  14  22   4   2   2 469   4  22  71  87  12  16  43 530\n",
            "  38  76  15  13   2   4  22  17 515  17  12  16 626  18   2   5  62 386\n",
            "  12   8 316   8 106   5   4   2   2  16 480  66   2  33   4 130  12  16\n",
            "  38 619   5  25 124  51  36 135  48  25   2  33   6  22  12 215  28  77\n",
            "  52   5  14 407  16  82   2   8   4 107 117   2  15 256   4   2   7   2\n",
            "   5 723  36  71  43 530 476  26 400 317  46   7   4   2   2  13 104  88\n",
            "   4 381  15 297  98  32   2  56  26 141   6 194   2  18   4 226  22  21\n",
            " 134 476  26 480   5 144  30   2  18  51  36  28 224  92  25 104   4 226\n",
            "  65  16  38   2  88  12  16 283   5  16   2 113 103  32  15  16   2  19\n",
            " 178  32   0   0   0   0   0   0   0   0   0   0   0   0   0   0   0   0\n",
            "   0   0   0   0   0   0   0   0   0   0   0   0   0   0   0   0   0   0\n",
            "   0   0   0   0   0   0   0   0   0   0   0   0   0   0   0   0   0   0\n",
            "   0   0   0   0   0   0   0   0   0   0   0   0   0   0   0   0   0   0\n",
            "   0   0   0   0   0   0   0   0   0   0   0   0]\n",
            "<START> this film was just brilliant casting # # story direction # really # the part they played and you could just imagine being there robert # is an amazing actor and now the same being director # father came from the same # # as myself so i loved the fact there was a real # with this film the # # throughout the film were great it was just brilliant so much that i # the film as soon as it was released for # and would recommend it to everyone to watch and the # # was amazing really # at the end it was so sad and you know what they say if you # at a film it must have been good and this definitely was also # to the two little # that played the # of # and paul they were just brilliant children are often left out of the # # i think because the stars that play them all # up are such a big # for the whole film but these children are amazing and should be # for what they have done don't you think the whole story was so # because it was true and was # life after all that was # with us all # # # # # # # # # # # # # # # # # # # # # # # # # # # # # # # # # # # # # # # # # # # # # # # # # # # # # # # # # # # # # # # # # # # # # # # # # # # # # # # # # #\n"
          ]
        }
      ],
      "source": [
        "def limit_vocab(sequences, max_token_id, oov_id=2):\n",
        "  \"\"\"Replace token ids greater than or equal to max_token_id with the oov_id.\"\"\"\n",
        "  # YOUR CODE HERE\n",
        "  reduced_sequences = np.where(sequences >= max_token_id, oov_id, sequences)\n",
        "  return reduced_sequences\n",
        "\n",
        "# Reduce vocabulary to 1000 tokens.\n",
        "X_train_reduced = limit_vocab(X_train_padded, max_token_id=1000)\n",
        "print(X_train_reduced[0])\n",
        "\n",
        "# Decode to see what this looks like in tokens. Note the '#' for OOVs.\n",
        "print(decode(X_train_reduced[0]))"
      ]
    },
    {
      "cell_type": "markdown",
      "metadata": {
        "id": "G9L_yy0pHjVf"
      },
      "source": [
        "### <span style=\"color:chocolate\">Exercise 5:</span> One-hot encoding (0 points)"
      ]
    },
    {
      "cell_type": "markdown",
      "metadata": {
        "id": "-ecSkUHWHjVf"
      },
      "source": [
        "The current feature representations are **sparse**. That is, one only keeps track of the token ids that are present in the input. A **one-hot** encoding replaces a value like 22 (corresponding to 'film') with an array with a single 1 at position 22 and zeros everywhere else. This will be very memory-inefficient, but we'll do it anyway for clarity.\n",
        "\n",
        "To avoid any memory limitations, let's dramatically reduce both the number of token positions (review length) and the number of token ids (vocabulary).\n",
        "\n",
        "The code below clips each review after 20 tokens and keeps only the first 1000 tokens."
      ]
    },
    {
      "cell_type": "code",
      "execution_count": 10,
      "metadata": {
        "colab": {
          "base_uri": "https://localhost:8080/"
        },
        "id": "9sUW8-t9HjVf",
        "outputId": "89319af7-b5eb-4b90-fe8b-eee1b491f846"
      },
      "outputs": [
        {
          "output_type": "stream",
          "name": "stdout",
          "text": [
            "X_train_one_hot shape: (25000, 20, 1000)\n"
          ]
        }
      ],
      "source": [
        "# Keras has a util to create one-hot encodings.\n",
        "X_train_padded = truncate_pad_data(X_train, max_length=20)\n",
        "X_train_reduced = limit_vocab(X_train_padded, max_token_id=1000)\n",
        "X_train_one_hot = tf.keras.utils.to_categorical(X_train_reduced)\n",
        "print('X_train_one_hot shape:', X_train_one_hot.shape)"
      ]
    },
    {
      "cell_type": "markdown",
      "metadata": {
        "id": "Cl5HySuyHjVf"
      },
      "source": [
        "Note the shape of the one-hot encoded features. For each of the 25000 training examples, you have a 20 x 1000 matrix. That is, for each of 20 token positions, you have a vector of 1000 elements containing a single 1 and 999 zeros.\n",
        "\n",
        "You can think of these 1000-dimensional one-hot arrays as **embeddings**. Each token in the input has a 1000-dimensional representation. But because of the one-hot setup, the distance between each pair of tokens is the same ([1,0,0,...], [0,1,0,...], etc.). By contrast, learned embeddings result in meaningful distances between pairs of tokens. You'll get to that soon."
      ]
    },
    {
      "cell_type": "markdown",
      "metadata": {
        "id": "eOh9UcsRHjVf"
      },
      "source": [
        "---\n",
        "### Step 5: Modeling"
      ]
    },
    {
      "cell_type": "markdown",
      "metadata": {
        "id": "ht7NoRgMHjVf"
      },
      "source": [
        "### <span style=\"color:chocolate\">Baseline model:</span> Logistic regression with one-hot encodings"
      ]
    },
    {
      "cell_type": "markdown",
      "metadata": {
        "id": "296Cnt647b5c"
      },
      "source": [
        "You will start with something familiar -- logistic regression. Since your feature representation is in 2 dimensions (20 x 1000), you need to flatten it to pass it to Keras (remember you did this with the pixel data too). Try two strategies for flattening.\n",
        "\n",
        "1. Flatten by *concatenating* (as you did with pixels), turning (20 x 1000) data into (20000,) data. The result is a separate feature for each token at each position;\n",
        "2. Flatten by *averaging* over token positions, turning (20 x 1000) data into (1000,) data. The result is an array with average token counts, ignoring position."
      ]
    },
    {
      "cell_type": "code",
      "execution_count": 11,
      "metadata": {
        "id": "6m6eebM-0dUW"
      },
      "outputs": [],
      "source": [
        "def build_onehot_model(average_over_positions=False):\n",
        "  \"\"\"Build a tf.keras model for one-hot data.\"\"\"\n",
        "  # Clear session and remove randomness.\n",
        "  tf.keras.backend.clear_session()\n",
        "  tf.random.set_seed(0)\n",
        "\n",
        "  model = tf.keras.Sequential()\n",
        "\n",
        "  if average_over_positions:\n",
        "    # This layer averages over the first dimension of the input by default.\n",
        "    model.add(tf.keras.layers.GlobalAveragePooling1D())\n",
        "  else:\n",
        "    # Concatenate.\n",
        "    model.add(tf.keras.layers.Flatten())\n",
        "\n",
        "  model.add(tf.keras.layers.Dense(\n",
        "      units=1,                     # output dim (for binary classification)\n",
        "      activation=\"sigmoid\"         # sigmoid activation for binary classification\n",
        "  ))\n",
        "\n",
        "  model.compile(loss='binary_crossentropy',   # this is a classification task\n",
        "                optimizer='adam',             # fancy optimizer\n",
        "                metrics=['accuracy'])\n",
        "\n",
        "  return model"
      ]
    },
    {
      "cell_type": "markdown",
      "metadata": {
        "id": "NY3W_1-OSZ2X"
      },
      "source": [
        "Now let's try fitting the model to your training data and check performance metrics on the validation data. But first, here's a function for plotting the learning curves given the training history object we get from Keras."
      ]
    },
    {
      "cell_type": "code",
      "execution_count": 12,
      "metadata": {
        "id": "cOVmajSuMjN6"
      },
      "outputs": [],
      "source": [
        "def plot_history(history):\n",
        "  plt.ylabel('Loss')\n",
        "  plt.xlabel('Epoch')\n",
        "  plt.xticks(range(0, len(history['loss'] + 1)))\n",
        "  plt.plot(history['loss'], label=\"training\", marker='o')\n",
        "  plt.plot(history['val_loss'], label=\"validation\", marker='o')\n",
        "  plt.ylim(0,1)\n",
        "  plt.legend()\n",
        "  plt.show()"
      ]
    },
    {
      "cell_type": "code",
      "execution_count": 13,
      "metadata": {
        "colab": {
          "base_uri": "https://localhost:8080/",
          "height": 875
        },
        "id": "MyE4PgX70_op",
        "outputId": "aca398b2-aa83-4113-ee1c-28a4faa3acfe"
      },
      "outputs": [
        {
          "output_type": "stream",
          "name": "stdout",
          "text": [
            "Epoch 1/5\n",
            "352/352 [==============================] - 4s 10ms/step - loss: 0.6828 - accuracy: 0.5763 - val_loss: 0.6749 - val_accuracy: 0.6124\n",
            "Epoch 2/5\n",
            "352/352 [==============================] - 2s 7ms/step - loss: 0.6479 - accuracy: 0.6883 - val_loss: 0.6625 - val_accuracy: 0.6264\n",
            "Epoch 3/5\n",
            "352/352 [==============================] - 2s 7ms/step - loss: 0.6198 - accuracy: 0.7182 - val_loss: 0.6533 - val_accuracy: 0.6252\n",
            "Epoch 4/5\n",
            "352/352 [==============================] - 2s 6ms/step - loss: 0.5962 - accuracy: 0.7427 - val_loss: 0.6470 - val_accuracy: 0.6288\n",
            "Epoch 5/5\n",
            "352/352 [==============================] - 2s 6ms/step - loss: 0.5758 - accuracy: 0.7590 - val_loss: 0.6419 - val_accuracy: 0.6304\n",
            "Model: \"sequential\"\n",
            "_________________________________________________________________\n",
            " Layer (type)                Output Shape              Param #   \n",
            "=================================================================\n",
            " flatten (Flatten)           (None, 20000)             0         \n",
            "                                                                 \n",
            " dense (Dense)               (None, 1)                 20001     \n",
            "                                                                 \n",
            "=================================================================\n",
            "Total params: 20001 (78.13 KB)\n",
            "Trainable params: 20001 (78.13 KB)\n",
            "Non-trainable params: 0 (0.00 Byte)\n",
            "_________________________________________________________________\n"
          ]
        },
        {
          "output_type": "display_data",
          "data": {
            "text/plain": [
              "<Figure size 640x480 with 1 Axes>"
            ],
            "image/png": "[encoded data removed]"
          },
          "metadata": {}
        }
      ],
      "source": [
        "model1 = build_onehot_model()\n",
        "\n",
        "# Fit the model.\n",
        "history1 = model1.fit(\n",
        "  x = X_train_one_hot,  # one-hot training data\n",
        "  y = Y_train,          # corresponding binary labels\n",
        "  epochs=5,             # number of passes through the training data\n",
        "  batch_size=64,        # mini-batch size\n",
        "  validation_split=0.1, # use a fraction of the examples for validation\n",
        "  verbose=1             # display some progress output during training\n",
        "  )\n",
        "\n",
        "model1.summary()\n",
        "# Convert the return value into a DataFrame so we can see the train loss\n",
        "# and binary accuracy after every epoch.\n",
        "history1 = pd.DataFrame(history1.history)\n",
        "plot_history(history1)"
      ]
    },
    {
      "cell_type": "code",
      "source": [
        "model2 = build_onehot_model(average_over_positions=True)\n",
        "\n",
        "# Fit the model.\n",
        "history2 = model2.fit(\n",
        "  x = X_train_one_hot,  # one-hot training data\n",
        "  y = Y_train,          # corresponding binary labels\n",
        "  epochs=5,             # number of passes through the training data\n",
        "  batch_size=64,        # mini-batch size\n",
        "  validation_split=0.1, # use a fraction of the examples for validation\n",
        "  verbose=1             # display some progress output during training\n",
        "  )\n",
        "\n",
        "model2.summary()\n",
        "# Convert the return value into a DataFrame so we can see the train loss\n",
        "# and binary accuracy after every epoch.\n",
        "history2 = pd.DataFrame(history2.history)\n",
        "plot_history(history2)"
      ],
      "metadata": {
        "colab": {
          "base_uri": "https://localhost:8080/",
          "height": 893
        },
        "id": "jbc2xYGbKGuK",
        "outputId": "b2f1f2d6-a60c-4c12-ddc5-bfc4c9e4c698"
      },
      "execution_count": 14,
      "outputs": [
        {
          "output_type": "stream",
          "name": "stdout",
          "text": [
            "Epoch 1/5\n",
            "352/352 [==============================] - 3s 6ms/step - loss: 0.6919 - accuracy: 0.5640 - val_loss: 0.6903 - val_accuracy: 0.5876\n",
            "Epoch 2/5\n",
            "352/352 [==============================] - 2s 5ms/step - loss: 0.6882 - accuracy: 0.6190 - val_loss: 0.6869 - val_accuracy: 0.6084\n",
            "Epoch 3/5\n",
            "352/352 [==============================] - 2s 6ms/step - loss: 0.6848 - accuracy: 0.6228 - val_loss: 0.6836 - val_accuracy: 0.6196\n",
            "Epoch 4/5\n",
            "352/352 [==============================] - 2s 6ms/step - loss: 0.6817 - accuracy: 0.6346 - val_loss: 0.6807 - val_accuracy: 0.6236\n",
            "Epoch 5/5\n",
            "352/352 [==============================] - 3s 7ms/step - loss: 0.6787 - accuracy: 0.6380 - val_loss: 0.6780 - val_accuracy: 0.6264\n",
            "Model: \"sequential\"\n",
            "_________________________________________________________________\n",
            " Layer (type)                Output Shape              Param #   \n",
            "=================================================================\n",
            " global_average_pooling1d (  (None, 1000)              0         \n",
            " GlobalAveragePooling1D)                                         \n",
            "                                                                 \n",
            " dense (Dense)               (None, 1)                 1001      \n",
            "                                                                 \n",
            "=================================================================\n",
            "Total params: 1001 (3.91 KB)\n",
            "Trainable params: 1001 (3.91 KB)\n",
            "Non-trainable params: 0 (0.00 Byte)\n",
            "_________________________________________________________________\n"
          ]
        },
        {
          "output_type": "display_data",
          "data": {
            "text/plain": [
              "<Figure size 640x480 with 1 Axes>"
            ],
            "image/png": "[encoded data removed]"
          },
          "metadata": {}
        }
      ]
    },
    {
      "cell_type": "markdown",
      "metadata": {
        "id": "8noHIrL7HjVl"
      },
      "source": [
        "### <span style=\"color:chocolate\">Exercise 6:</span>  Comparing logistic regression models (20 points)"
      ]
    },
    {
      "cell_type": "markdown",
      "metadata": {
        "id": "QuCh9aQPv7F_"
      },
      "source": [
        "Train the one-hot model using both the concatenating and the averaging strategies and compare the results. Let's call these *LR-C* (Logistic Regression Concatenating) and *LR-A* (Logistic Regression Averaging). Then answer the following questions:\n",
        "\n",
        "1. What are the final training and validation accuracies for LR-C and LR-A?\n",
        "2. How many parameters are there in each model?\n",
        "3. Would you say that either model is overfitting? Why or why not?\n",
        "4. Briefly describe how LR-C differs from LR-A. How do you explain the relationship between their respective validation accuracy results?"
      ]
    },
    {
      "cell_type": "markdown",
      "metadata": {
        "id": "CEAN5BejHc__"
      },
      "source": [
        "*Written answer:*\n",
        "\n",
        "1.\n",
        "   \n",
        "    LR-C:  The training accuracy reached 76.02% and validation accuracy reached 63.32% after five epochs.\n",
        "    \n",
        "    LR-A: For this model, final training accuracy was 63.08%, and validation accuracy was 62.24%.\n",
        "\n",
        "2.\n",
        "    LR-C: Since each of the 20,000 features connects to one output unit (since a logistic regression setup without hidden layers), there are 20,000 weights plus one bias, totaling 20,001 parameters.\n",
        "    \n",
        "    LR-A: For this model, each of the 1000 averaged features connects to the output, resulting in 1000 weights plus one bias, totaling 1001 parameters.\n",
        "\n",
        "\n",
        "3.\n",
        "    LR-C: The larger gap between training and validation accuracy might suggest some degree of overfitting, as the model learns to predict well on the training data but generalizes less effectively to unseen data.\n",
        "    \n",
        "    LR-A: This model shows closer training and validation accuracies, suggesting less overfitting.\n",
        "\n",
        "\n",
        "4.\n",
        "    LR-C: This model will treat each position’s token as unique, leading to a high-dimensional input which can potentially capture more contextual nuances at the cost of higher complexity.\n",
        "\n",
        "    LR-A: Will average tokens, reducing dimensionality and potentially losing some positional context, which might explain its slightly poorer performance compared to LR-C but with better generalization as indicated by closer training and validation results.\n"
      ]
    },
    {
      "cell_type": "markdown",
      "metadata": {
        "id": "ufoDC-CbHjVl"
      },
      "source": [
        "### <span style=\"color:chocolate\">Improvement over baseline:</span> Logistic regression with embeddings"
      ]
    },
    {
      "cell_type": "markdown",
      "metadata": {
        "id": "sJIBRqK7lsjG"
      },
      "source": [
        "Next, you will train a model that replaces one-hot representations of each token with learned embeddings.\n",
        "\n",
        "The code below uses a Keras Embedding layer, which expects to receive a sparse (rather than one-hot) representation. That is, it expects a (padded) sequence of token ids; for each id, it looks up the corresponding embedding vector."
      ]
    },
    {
      "cell_type": "code",
      "execution_count": 15,
      "metadata": {
        "id": "ho6uOeCaBs2e"
      },
      "outputs": [],
      "source": [
        "def build_embeddings_model(average_over_positions=False,\n",
        "                           vocab_size=1000,\n",
        "                           sequence_length=20,\n",
        "                           embedding_dim=2):\n",
        "  \"\"\"Build a tf.keras model using embeddings.\"\"\"\n",
        "  # Clear session and remove randomness.\n",
        "  tf.keras.backend.clear_session()\n",
        "  tf.random.set_seed(0)\n",
        "\n",
        "  model = tf.keras.Sequential()\n",
        "  model.add(tf.keras.layers.Embedding(\n",
        "      input_dim=vocab_size,\n",
        "      output_dim=embedding_dim,\n",
        "      input_length=sequence_length)\n",
        "  )\n",
        "\n",
        "  if average_over_positions:\n",
        "    # This layer averages over the first dimension of the input by default.\n",
        "    model.add(tf.keras.layers.GlobalAveragePooling1D())\n",
        "  else:\n",
        "    # Concatenate.\n",
        "    model.add(tf.keras.layers.Flatten())\n",
        "\n",
        "  model.add(tf.keras.layers.Dense(\n",
        "      units=1,                     # output dim (for binary classification)\n",
        "      activation='sigmoid'         # apply the sigmoid function!\n",
        "  ))\n",
        "\n",
        "  model.compile(loss='binary_crossentropy',\n",
        "                optimizer='adam',\n",
        "                metrics=['accuracy'])\n",
        "\n",
        "  return model"
      ]
    },
    {
      "cell_type": "markdown",
      "metadata": {
        "id": "eyhoEjAiFSNB"
      },
      "source": [
        "You will train this model, this time using the averaging strategy instead of the concatenating strategy for handling the token sequence. You'll look up the embedding vectors for each token and average them to produce a single vector. Then, you'll use this averaged vector to train a logistic regression model to predict the binary label."
      ]
    },
    {
      "cell_type": "code",
      "execution_count": 16,
      "metadata": {
        "colab": {
          "base_uri": "https://localhost:8080/",
          "height": 928
        },
        "id": "uYUE5UwkxoU8",
        "outputId": "06cb8a4f-859e-4ff7-c5b8-386916643ce3"
      },
      "outputs": [
        {
          "output_type": "stream",
          "name": "stdout",
          "text": [
            "Epoch 1/5\n",
            "352/352 [==============================] - 3s 5ms/step - loss: 0.6898 - accuracy: 0.5869 - val_loss: 0.6849 - val_accuracy: 0.6116\n",
            "Epoch 2/5\n",
            "352/352 [==============================] - 1s 3ms/step - loss: 0.6775 - accuracy: 0.6314 - val_loss: 0.6707 - val_accuracy: 0.6256\n",
            "Epoch 3/5\n",
            "352/352 [==============================] - 1s 3ms/step - loss: 0.6616 - accuracy: 0.6428 - val_loss: 0.6553 - val_accuracy: 0.6340\n",
            "Epoch 4/5\n",
            "352/352 [==============================] - 1s 2ms/step - loss: 0.6457 - accuracy: 0.6560 - val_loss: 0.6418 - val_accuracy: 0.6456\n",
            "Epoch 5/5\n",
            "352/352 [==============================] - 1s 3ms/step - loss: 0.6312 - accuracy: 0.6656 - val_loss: 0.6299 - val_accuracy: 0.6560\n",
            "Model: \"sequential\"\n",
            "_________________________________________________________________\n",
            " Layer (type)                Output Shape              Param #   \n",
            "=================================================================\n",
            " embedding (Embedding)       (None, 20, 2)             2000      \n",
            "                                                                 \n",
            " global_average_pooling1d (  (None, 2)                 0         \n",
            " GlobalAveragePooling1D)                                         \n",
            "                                                                 \n",
            " dense (Dense)               (None, 1)                 3         \n",
            "                                                                 \n",
            "=================================================================\n",
            "Total params: 2003 (7.82 KB)\n",
            "Trainable params: 2003 (7.82 KB)\n",
            "Non-trainable params: 0 (0.00 Byte)\n",
            "_________________________________________________________________\n"
          ]
        },
        {
          "output_type": "display_data",
          "data": {
            "text/plain": [
              "<Figure size 640x480 with 1 Axes>"
            ],
            "image/png": "[encoded data removed]"
          },
          "metadata": {}
        }
      ],
      "source": [
        "model2 = build_embeddings_model(average_over_positions=True,\n",
        "                               vocab_size=1000,\n",
        "                               sequence_length=20,\n",
        "                               embedding_dim=2)\n",
        "history2 = model2.fit(\n",
        "  x = X_train_reduced,  # our sparse padded training data\n",
        "  y = Y_train,          # corresponding binary labels\n",
        "  epochs=5,             # number of passes through the training data\n",
        "  batch_size=64,        # mini-batch size\n",
        "  validation_split=0.1, # use a fraction of the examples for validation\n",
        "  verbose=1             # display some progress output during training\n",
        "  )\n",
        "\n",
        "model2.summary()\n",
        "\n",
        "history2 = pd.DataFrame(history2.history)\n",
        "plot_history(history2)"
      ]
    },
    {
      "cell_type": "code",
      "source": [
        "# Parameters\n",
        "vocab_size = 1000\n",
        "sequence_length = 20\n",
        "embedding_sizes = [2, 4, 8, 16, 32, 64]\n",
        "results = []\n",
        "\n",
        "# Lets run some experiments  ;)\n",
        "for embedding_dim in embedding_sizes:\n",
        "    model = build_embeddings_model(average_over_positions=True,\n",
        "                                   vocab_size=vocab_size,\n",
        "                                   sequence_length=sequence_length,\n",
        "                                   embedding_dim=embedding_dim)\n",
        "    history = model.fit(\n",
        "        x=X_train_reduced,  # Sparse padded training data\n",
        "        y=Y_train,          # Corresponding binary labels\n",
        "        epochs=5,           # Number of passes through the training data\n",
        "        batch_size=64,      # Mini-batch size\n",
        "        validation_split=0.1,  # Use a fraction of the examples for validation\n",
        "        verbose=1           # Display progress output during training\n",
        "    )\n",
        "    # Storing results\n",
        "    results.append({\n",
        "        'Embedding Size': embedding_dim,\n",
        "        'Training Accuracy': history.history['accuracy'][-1],\n",
        "        'Validation Accuracy': history.history['val_accuracy'][-1],\n",
        "        'Number of Parameters': model.count_params()\n",
        "    })\n",
        "\n",
        "# Convert results to DataFrame for easy squeezy! viewing and analysis\n",
        "results_df = pd.DataFrame(results)\n",
        "print(results_df)\n",
        "\n",
        "plt.figure(figsize=(10, 5))\n",
        "plt.plot(results_df['Embedding Size'], results_df['Training Accuracy'], label='Training Accuracy')\n",
        "plt.plot(results_df['Embedding Size'], results_df['Validation Accuracy'], label='Validation Accuracy')\n",
        "plt.xlabel('Embedding Size')\n",
        "plt.ylabel('Accuracy')\n",
        "plt.title('Impact of Embedding Size on Model Performance')\n",
        "plt.legend()\n",
        "plt.show()"
      ],
      "metadata": {
        "colab": {
          "base_uri": "https://localhost:8080/",
          "height": 1000
        },
        "id": "3G4lK-eBNPzz",
        "outputId": "cbc7a01c-36d0-4c0c-ce63-adc39e04fd63"
      },
      "execution_count": 17,
      "outputs": [
        {
          "output_type": "stream",
          "name": "stdout",
          "text": [
            "Epoch 1/5\n",
            "352/352 [==============================] - 2s 3ms/step - loss: 0.6885 - accuracy: 0.5866 - val_loss: 0.6828 - val_accuracy: 0.6092\n",
            "Epoch 2/5\n",
            "352/352 [==============================] - 1s 4ms/step - loss: 0.6750 - accuracy: 0.6306 - val_loss: 0.6682 - val_accuracy: 0.6276\n",
            "Epoch 3/5\n",
            "352/352 [==============================] - 1s 4ms/step - loss: 0.6589 - accuracy: 0.6460 - val_loss: 0.6529 - val_accuracy: 0.6384\n",
            "Epoch 4/5\n",
            "352/352 [==============================] - 1s 3ms/step - loss: 0.6430 - accuracy: 0.6570 - val_loss: 0.6396 - val_accuracy: 0.6468\n",
            "Epoch 5/5\n",
            "352/352 [==============================] - 1s 3ms/step - loss: 0.6286 - accuracy: 0.6677 - val_loss: 0.6279 - val_accuracy: 0.6564\n",
            "Epoch 1/5\n",
            "352/352 [==============================] - 3s 6ms/step - loss: 0.6873 - accuracy: 0.5923 - val_loss: 0.6797 - val_accuracy: 0.6148\n",
            "Epoch 2/5\n",
            "352/352 [==============================] - 2s 5ms/step - loss: 0.6678 - accuracy: 0.6398 - val_loss: 0.6583 - val_accuracy: 0.6332\n",
            "Epoch 3/5\n",
            "352/352 [==============================] - 2s 7ms/step - loss: 0.6450 - accuracy: 0.6541 - val_loss: 0.6383 - val_accuracy: 0.6456\n",
            "Epoch 4/5\n",
            "352/352 [==============================] - 3s 9ms/step - loss: 0.6248 - accuracy: 0.6694 - val_loss: 0.6228 - val_accuracy: 0.6564\n",
            "Epoch 5/5\n",
            "352/352 [==============================] - 3s 8ms/step - loss: 0.6084 - accuracy: 0.6806 - val_loss: 0.6105 - val_accuracy: 0.6660\n",
            "Epoch 1/5\n",
            "352/352 [==============================] - 2s 3ms/step - loss: 0.6857 - accuracy: 0.5940 - val_loss: 0.6743 - val_accuracy: 0.6188\n",
            "Epoch 2/5\n",
            "352/352 [==============================] - 1s 3ms/step - loss: 0.6569 - accuracy: 0.6444 - val_loss: 0.6437 - val_accuracy: 0.6428\n",
            "Epoch 3/5\n",
            "352/352 [==============================] - 1s 3ms/step - loss: 0.6265 - accuracy: 0.6675 - val_loss: 0.6203 - val_accuracy: 0.6576\n",
            "Epoch 4/5\n",
            "352/352 [==============================] - 1s 3ms/step - loss: 0.6038 - accuracy: 0.6822 - val_loss: 0.6051 - val_accuracy: 0.6664\n",
            "Epoch 5/5\n",
            "352/352 [==============================] - 1s 3ms/step - loss: 0.5882 - accuracy: 0.6903 - val_loss: 0.5947 - val_accuracy: 0.6708\n",
            "Epoch 1/5\n",
            "352/352 [==============================] - 2s 5ms/step - loss: 0.6805 - accuracy: 0.5984 - val_loss: 0.6620 - val_accuracy: 0.6260\n",
            "Epoch 2/5\n",
            "352/352 [==============================] - 1s 3ms/step - loss: 0.6383 - accuracy: 0.6573 - val_loss: 0.6235 - val_accuracy: 0.6552\n",
            "Epoch 3/5\n",
            "352/352 [==============================] - 1s 4ms/step - loss: 0.6042 - accuracy: 0.6805 - val_loss: 0.6016 - val_accuracy: 0.6684\n",
            "Epoch 4/5\n",
            "352/352 [==============================] - 2s 4ms/step - loss: 0.5838 - accuracy: 0.6940 - val_loss: 0.5903 - val_accuracy: 0.6772\n",
            "Epoch 5/5\n",
            "352/352 [==============================] - 1s 3ms/step - loss: 0.5722 - accuracy: 0.6984 - val_loss: 0.5839 - val_accuracy: 0.6864\n",
            "Epoch 1/5\n",
            "352/352 [==============================] - 2s 3ms/step - loss: 0.6738 - accuracy: 0.6084 - val_loss: 0.6477 - val_accuracy: 0.6376\n",
            "Epoch 2/5\n",
            "352/352 [==============================] - 1s 3ms/step - loss: 0.6189 - accuracy: 0.6692 - val_loss: 0.6055 - val_accuracy: 0.6668\n",
            "Epoch 3/5\n",
            "352/352 [==============================] - 1s 3ms/step - loss: 0.5858 - accuracy: 0.6912 - val_loss: 0.5884 - val_accuracy: 0.6780\n",
            "Epoch 4/5\n",
            "352/352 [==============================] - 1s 3ms/step - loss: 0.5705 - accuracy: 0.6999 - val_loss: 0.5823 - val_accuracy: 0.6896\n",
            "Epoch 5/5\n",
            "352/352 [==============================] - 1s 3ms/step - loss: 0.5636 - accuracy: 0.7028 - val_loss: 0.5798 - val_accuracy: 0.6888\n",
            "Epoch 1/5\n",
            "352/352 [==============================] - 2s 5ms/step - loss: 0.6659 - accuracy: 0.6147 - val_loss: 0.6310 - val_accuracy: 0.6504\n",
            "Epoch 2/5\n",
            "352/352 [==============================] - 2s 6ms/step - loss: 0.6008 - accuracy: 0.6800 - val_loss: 0.5922 - val_accuracy: 0.6728\n",
            "Epoch 3/5\n",
            "352/352 [==============================] - 2s 6ms/step - loss: 0.5739 - accuracy: 0.6965 - val_loss: 0.5823 - val_accuracy: 0.6892\n",
            "Epoch 4/5\n",
            "352/352 [==============================] - 1s 4ms/step - loss: 0.5641 - accuracy: 0.7032 - val_loss: 0.5801 - val_accuracy: 0.6932\n",
            "Epoch 5/5\n",
            "352/352 [==============================] - 1s 4ms/step - loss: 0.5608 - accuracy: 0.7028 - val_loss: 0.5795 - val_accuracy: 0.6908\n",
            "   Embedding Size  Training Accuracy  Validation Accuracy  \\\n",
            "0               2           0.667689               0.6564   \n",
            "1               4           0.680578               0.6660   \n",
            "2               8           0.690267               0.6708   \n",
            "3              16           0.698444               0.6864   \n",
            "4              32           0.702756               0.6888   \n",
            "5              64           0.702800               0.6908   \n",
            "\n",
            "   Number of Parameters  \n",
            "0                  2003  \n",
            "1                  4005  \n",
            "2                  8009  \n",
            "3                 16017  \n",
            "4                 32033  \n",
            "5                 64065  \n"
          ]
        },
        {
          "output_type": "display_data",
          "data": {
            "text/plain": [
              "<Figure size 1000x500 with 1 Axes>"
            ],
            "image/png": "[encoded data removed]"
          },
          "metadata": {}
        }
      ]
    },
    {
      "cell_type": "markdown",
      "metadata": {
        "id": "D_TxwoQMHjVl"
      },
      "source": [
        "### <span style=\"color:chocolate\">Exercise 7:</span> Embedding size tuning (20 points)"
      ]
    },
    {
      "cell_type": "markdown",
      "metadata": {
        "id": "V3k__61hFnag"
      },
      "source": [
        "Experiment with embedding sizes {2, 4, 8, 16, 32, 64}, while keeping other settings fixed and using the averaging strategy instead of the concatenating strategy. Then:\n",
        "\n",
        "1. Construct a table showing the training and validation accuracies for each model after 5 training epochs;\n",
        "2. Calculate the number of parameters in each model;\n",
        "3. Analyze whether learned embeddings improve performance compared to one-hot encoding, and explain why this might be the case."
      ]
    },
    {
      "cell_type": "markdown",
      "metadata": {
        "id": "O7t46ZdX2ofd"
      },
      "source": [
        "*Written answer:*\n",
        "\n",
        "1. Here's a table showing the training and validation accuracies for each model after 5 training epochs:\n",
        "\n",
        "\n",
        "| Embedding Size | Training Accuracy | Validation Accuracy |\n",
        "|----------------|-------------------|---------------------|\n",
        "| 2              | 66.48%            | 65.28%              |\n",
        "| 4              | 67.86%            | 66.60%              |\n",
        "| 8              | 69.13%            | 67.12%              |\n",
        "| 16             | 69.83%            | 68.60%              |\n",
        "| 32             | 70.27%            | 68.68%              |\n",
        "| 64             | 70.25%            | 69.00%              |\n",
        "\n",
        "\n",
        "---\n",
        "\n",
        "\n",
        "\n",
        "2.  The number of parameters for each embedding size can be calculated using the formula: (vocab_size * embedding_dim + embedding_dim + 1) where +1 accounts for the bias in the dense layer.\n",
        "\n",
        "\n",
        "\n",
        "| Embedding Size | Number of Parameters |\n",
        "|----------------|----------------------|\n",
        "| 2              | 2,003                |\n",
        "| 4              | 4,005                |\n",
        "| 8              | 8,009                |\n",
        "| 16             | 16,017               |\n",
        "| 32             | 32,033               |\n",
        "| 64             | 64,065               |\n",
        "\n",
        "\n",
        "\n",
        "---\n",
        "\n",
        "\n",
        "3.  Learned embeddings offer a more compact and semantically rich representation of text when compared to one-hot encodings. This advantage stems primarily from three factors. First, dimensionality reduction: embeddings reduce the size of the data representation by mapping words into a smaller, dense vector space, unlike one-hot vectors that expand linearly with the size of the vocabulary. Second, semantic capture: unlike one-hot encodings, which are purely syntactic and sparse, embeddings are capable of capturing nuanced semantic relationships between words. Third, improved generalization: the denser representations provided by embeddings facilitate better model generalization to new, unseen data. This is demonstrated by the consistent improvement in validation accuracies as the size of the embeddings increases. Consequently, models equipped with learned embeddings tend to outperform those using one-hot encodings, especially as the complexity and capacity of the embedding layer grow, enabling a more nuanced understanding and representation of the input data.\n"
      ]
    },
    {
      "cell_type": "markdown",
      "metadata": {
        "id": "1YbjIE36HjVm"
      },
      "source": [
        "---"
      ]
    },
    {
      "cell_type": "markdown",
      "metadata": {
        "id": "i2dWOuxqKHA6"
      },
      "source": [
        "### Inspecting Learned Embeddings\n",
        "You will now retrieve the learned embedding parameters from the trained model2 and plot the token embeddings.\n",
        "\n",
        "The model layers in a Keras Sequential model are stored as a list and the embeddings are the first layer. You can use the <span style=\"color:chocolate\">get_weights()</span> function to get a numpy array with the parameters."
      ]
    },
    {
      "cell_type": "code",
      "execution_count": 18,
      "metadata": {
        "colab": {
          "base_uri": "https://localhost:8080/",
          "height": 88
        },
        "id": "bfsbGSwkaFjo",
        "outputId": "6a11160b-b840-4aab-c5ee-6567f519ce9f"
      },
      "outputs": [
        {
          "output_type": "display_data",
          "data": {
            "text/plain": [
              "[<keras.src.layers.core.embedding.Embedding at 0x7ee4fda63940>,\n",
              " <keras.src.layers.pooling.global_average_pooling1d.GlobalAveragePooling1D at 0x7ee4fda609d0>,\n",
              " <keras.src.layers.core.dense.Dense at 0x7ee4fda51960>]"
            ]
          },
          "metadata": {}
        },
        {
          "output_type": "display_data",
          "data": {
            "text/plain": [
              "(1000, 2)"
            ]
          },
          "metadata": {}
        }
      ],
      "source": [
        "# Display the model layers.\n",
        "display(model2.layers)\n",
        "\n",
        "# Retrieve the embeddings layer, which itself is wrapped in a list.\n",
        "embeddings2 = model2.layers[0].get_weights()[0]\n",
        "display(embeddings2.shape)"
      ]
    },
    {
      "cell_type": "markdown",
      "metadata": {
        "id": "apPWscNwcXTE"
      },
      "source": [
        "Now you'll use a fancy plotting tool called *plotly* to show the embeddings with hovertext so you can move your mouse over the points to see the corresponding tokens."
      ]
    },
    {
      "cell_type": "code",
      "execution_count": 19,
      "metadata": {
        "colab": {
          "base_uri": "https://localhost:8080/",
          "height": 542
        },
        "id": "5RZMTrA0KttL",
        "outputId": "e8a5dc68-97b7-4a02-c8d9-33cbc34feee6"
      },
      "outputs": [
        {
          "output_type": "display_data",
          "data": {
            "text/html": [
              "<html>\n",
              "<head><meta charset=\"utf-8\" /></head>\n",
              "<body>\n",
              "    <div>            <script src=\"https://cdnjs.cloudflare.com/ajax/libs/mathjax/2.7.5/MathJax.js?config=TeX-AMS-MML_SVG\"></script><script type=\"text/javascript\">if (window.MathJax && window.MathJax.Hub && window.MathJax.Hub.Config) {window.MathJax.Hub.Config({SVG: {font: \"STIX-Web\"}});}</script>                <script type=\"text/javascript\">window.PlotlyConfig = {MathJaxConfig: 'local'};</script>\n",
              "        <script charset=\"utf-8\" src=\"https://cdn.plot.ly/plotly-2.24.1.min.js\"></script>                <div id=\"3d7590f2-5946-4033-96c0-562f917bf64b\" class=\"plotly-graph-div\" style=\"height:525px; width:100%;\"></div>            <script type=\"text/javascript\">                                    window.PLOTLYENV=window.PLOTLYENV || {};                                    if (document.getElementById(\"3d7590f2-5946-4033-96c0-562f917bf64b\")) {                    Plotly.newPlot(                        \"3d7590f2-5946-4033-96c0-562f917bf64b\",                        [{\"hoverinfo\":\"text\",\"mode\":\"markers\",\"text\":[\"game\",\"past\",\"able\",\"b\",\"days\",\"turns\",\"child\",\"they're\",\"hand\",\"flick\",\"enjoyed\",\"act\",\"genre\",\"town\",\"favorite\",\"soon\",\"kill\",\"starts\",\"sometimes\",\"car\",\"gave\",\"run\",\"late\",\"eyes\",\"actress\",\"etc\",\"directed\",\"horrible\",\"won't\",\"viewer\",\"brilliant\",\"parts\",\"self\",\"themselves\",\"hour\",\"expect\",\"thinking\",\"stories\",\"stuff\",\"girls\",\"obviously\",\"blood\",\"decent\",\"city\",\"voice\",\"highly\",\"myself\",\"feeling\",\"fight\",\"except\",\"slow\",\"matter\",\"type\",\"anyway\",\"kid\",\"roles\",\"killed\",\"heard\",\"god\",\"age\",\"says\",\"moment\",\"took\",\"leave\",\"writer\",\"strong\",\"cannot\",\"violence\",\"police\",\"hit\",\"stop\",\"happens\",\"particularly\",\"known\",\"involved\",\"happened\",\"extremely\",\"daughter\",\"obvious\",\"told\",\"chance\",\"living\",\"coming\",\"lack\",\"alone\",\"experience\",\"wouldn't\",\"including\",\"murder\",\"attempt\",\"s\",\"please\",\"james\",\"happen\",\"wonder\",\"crap\",\"ago\",\"brother\",\"film's\",\"gore\",\"none\",\"complete\",\"interest\",\"score\",\"group\",\"cut\",\"simple\",\"save\",\"ok\",\"hell\",\"looked\",\"career\",\"number\",\"song\",\"possible\",\"seriously\",\"annoying\",\"shown\",\"exactly\",\"sad\",\"running\",\"musical\",\"serious\",\"taken\",\"yourself\",\"whose\",\"released\",\"cinematography\",\"david\",\"scary\",\"ends\",\"english\",\"hero\",\"usually\",\"hours\",\"reality\",\"opening\",\"i'll\",\"across\",\"today\",\"jokes\",\"light\",\"hilarious\",\"somewhat\",\"usual\",\"started\",\"cool\",\"ridiculous\",\"body\",\"relationship\",\"view\",\"level\",\"opinion\",\"change\",\"happy\",\"middle\",\"taking\",\"wish\",\"husband\",\"finds\",\"saying\",\"order\",\"talking\",\"ones\",\"documentary\",\"shots\",\"huge\",\"novel\",\"female\",\"mostly\",\"robert\",\"power\",\"episodes\",\"room\",\"important\",\"rating\",\"talent\",\"five\",\"major\",\"turned\",\"strange\",\"word\",\"modern\",\"call\",\"apparently\",\"disappointed\",\"single\",\"events\",\"due\",\"four\",\"songs\",\"basically\",\"attention\",\"7\",\"knows\",\"clearly\",\"supporting\",\"knew\",\"british\",\"television\",\"comic\",\"non\",\"fast\",\"earth\",\"country\",\"future\",\"cheap\",\"class\",\"thriller\",\"8\",\"silly\",\"king\",\"problems\",\"aren't\",\"easily\",\"words\",\"tells\",\"miss\",\"jack\",\"local\",\"sequence\",\"bring\",\"entertainment\",\"paul\",\"beyond\",\"upon\",\"whether\",\"predictable\",\"moving\",\"similar\",\"straight\",\"romantic\",\"sets\",\"review\",\"falls\",\"oscar\",\"mystery\",\"enjoyable\",\"needs\",\"appears\",\"talk\",\"rock\",\"george\",\"giving\",\"eye\",\"richard\",\"within\",\"ten\",\"animation\",\"message\",\"theater\",\"near\",\"above\",\"dull\",\"nearly\",\"sequel\",\"theme\",\"points\",\"'\",\"stand\",\"mention\",\"lady\",\"bunch\",\"add\",\"feels\",\"herself\",\"release\",\"red\",\"team\",\"storyline\",\"surprised\",\"ways\",\"using\",\"named\",\"haven't\",\"lots\",\"easy\",\"fantastic\",\"begins\",\"actual\",\"working\",\"effort\",\"york\",\"die\",\"hate\",\"french\",\"minute\",\"tale\",\"clear\",\"stay\",\"9\",\"elements\",\"feature\",\"among\",\"follow\",\"comments\",\"re\",\"viewers\",\"avoid\",\"sister\",\"showing\",\"typical\",\"editing\",\"what's\",\"famous\",\"tried\",\"sorry\",\"dialog\",\"check\",\"fall\",\"period\",\"season\",\"form\",\"certain\",\"filmed\",\"weak\",\"soundtrack\",\"means\",\"buy\",\"material\",\"somehow\",\"realistic\",\"figure\",\"crime\",\"doubt\",\"gone\",\"peter\",\"tom\",\"kept\",\"viewing\",\"t\",\"general\",\"leads\",\"greatest\",\"space\",\"lame\",\"suspense\",\"dance\",\"imagine\",\"brought\",\"third\",\"atmosphere\",\"hear\",\"particular\",\"sequences\",\"whatever\",\"parents\",\"move\",\"lee\",\"indeed\",\"learn\",\"rent\",\"de\",\"eventually\",\"note\",\"deal\",\"average\",\"reviews\",\"wait\",\"forget\",\"japanese\",\"sexual\",\"poorly\",\"premise\",\"okay\",\"zombie\",\"surprise\",\"believable\",\"stage\",\"possibly\",\"sit\",\"who's\",\"decided\",\"expected\",\"you've\",\"subject\",\"nature\",\"became\",\"difficult\",\"free\",\"killing\",\"screenplay\",\"truth\",\"romance\",\"dr\",\"nor\",\"reading\",\"needed\",\"question\",\"leaves\",\"street\",\"20\",\"meets\",\"hot\",\"unless\",\"begin\",\"baby\",\"superb\",\"credits\",\"imdb\",\"otherwise\",\"write\",\"shame\",\"let's\",\"situation\",\"dramatic\",\"memorable\",\"directors\",\"earlier\",\"meet\",\"disney\",\"open\",\"dog\",\"badly\",\"joe\",\"male\",\"weird\",\"acted\",\"forced\",\"laughs\",\"sci\",\"emotional\",\"older\",\"realize\",\"fi\",\"dream\",\"society\",\"writers\",\"interested\",\"footage\",\"forward\",\"comment\",\"crazy\",\"deep\",\"sounds\",\"plus\",\"beauty\",\"whom\",\"america\",\"fantasy\",\"directing\",\"keeps\",\"ask\",\"development\",\"features\",\"air\",\"quickly\",\"mess\",\"creepy\",\"towards\",\"perfectly\",\"mark\",\"worked\",\"box\",\"cheesy\",\"unique\",\"setting\",\"hands\",\"plenty\",\"result\",\"previous\",\"brings\",\"effect\",\"e\",\"total\",\"personal\",\"incredibly\",\"rate\",\"fire\",\"monster\",\"business\",\"leading\",\"apart\",\"casting\",\"admit\",\"joke\",\"powerful\",\"appear\",\"background\",\"telling\",\"girlfriend\",\"meant\",\"christmas\",\"hardly\",\"present\",\"battle\",\"potential\",\"create\",\"bill\",\"break\",\"pay\",\"masterpiece\",\"gay\",\"political\",\"return\",\"dumb\",\"fails\",\"fighting\",\"various\",\"era\"],\"textposition\":\"bottom left\",\"x\":[0.13387025892734528,-0.0302740428596735,0.22024434804916382,-0.2844296395778656,-0.008366730995476246,0.08090335130691528,0.2899744510650635,-0.21357853710651398,-0.21399183571338654,-0.12968595325946808,0.880641758441925,-0.09367512911558151,0.20141655206680298,-0.10433568805456161,0.7503594756126404,0.08709074556827545,-0.030135449022054672,-0.6088340282440186,0.039100781083106995,-0.056458257138729095,-0.3584127426147461,0.19826771318912506,0.326673299074173,-0.11696378886699677,0.00744754821062088,-0.04019523411989212,-0.020204804837703705,-0.8085759282112122,-0.011382604017853737,0.11512230336666107,0.7212034463882446,0.05515396222472191,-0.36705565452575684,-0.036883968859910965,-0.3118407726287842,0.02609158866107464,-0.4678262174129486,0.23246151208877563,-0.0384364016354084,-0.263344943523407,-0.1749678999185562,0.008691675961017609,-0.4154745042324066,0.26882433891296387,0.13892537355422974,0.2531707286834717,-0.2518387734889984,0.07205548137426376,0.22939974069595337,-0.33470889925956726,-0.22401203215122223,-0.016825290396809578,0.044576674699783325,-0.09448173642158508,0.18894778192043304,0.22598591446876526,-0.14291797578334808,0.08131102472543716,-0.5062547326087952,0.22799845039844513,-0.11532049626111984,-0.017981592565774918,0.2515542209148407,0.08645313233137131,-0.021736077964305878,0.21029578149318695,-0.27064040303230286,-0.1349800080060959,0.12528906762599945,0.2852092385292053,-0.15525537729263306,-0.17598117887973785,-0.10460863262414932,0.1534387320280075,-0.22905823588371277,-0.027163080871105194,-0.026646332815289497,0.14515699446201324,-0.26218315958976746,0.3483477532863617,0.22381643950939178,0.09470967203378677,0.026584481820464134,-0.1896573007106781,-0.16314589977264404,0.18941782414913177,0.007776136044412851,-0.009333356283605099,0.05382651463150978,-0.40120673179626465,-0.186769500374794,-0.4005744457244873,0.27897799015045166,-0.09114518761634827,-0.2275327444076538,-0.6252434849739075,0.37887412309646606,-0.04387829825282097,0.059850964695215225,-0.3693610727787018,0.008314698003232479,-0.4897076487541199,0.23427385091781616,0.011924072168767452,-0.24219238758087158,0.05640995502471924,0.4585999548435211,-0.36499160528182983,-0.5056896209716797,-0.3177383542060852,-0.3244388699531555,-0.01796538010239601,0.1180405467748642,0.29766541719436646,-0.34873756766319275,-0.3492020070552826,-0.3410566747188568,-0.009241201914846897,-0.15949682891368866,-0.04050999507308006,-0.11440218240022659,0.2174151986837387,0.010214848443865776,-0.037228215485811234,0.02176005393266678,0.05876859650015831,0.316831111907959,0.17725235223770142,0.14236974716186523,-0.1776648312807083,0.03356067091226578,-0.12139354646205902,-0.040658026933670044,-0.11937934160232544,-0.26497146487236023,0.1558980494737625,0.021974360570311546,-0.3007035255432129,0.17643216252326965,0.176714226603508,-0.22646544873714447,0.3017997145652771,0.46086761355400085,-0.010710956528782845,0.016582872718572617,-0.1797676384449005,0.0360952652990818,-0.6840826869010925,-0.10788724571466446,0.08926097303628922,0.2782520353794098,0.0699782744050026,0.2794136703014374,-0.0441257506608963,0.06832554191350937,0.1368541717529297,0.029517700895667076,-0.20644760131835938,-0.04263211041688919,-0.0656329020857811,-0.2877236604690552,-0.04262327030301094,0.13415507972240448,-0.07948559522628784,0.3505691885948181,-0.20205771923065186,-0.16226229071617126,-0.025382816791534424,0.04929794743657112,0.07026255875825882,0.22108682990074158,-0.19881509244441986,0.23519733548164368,0.1486087441444397,0.09945689886808395,-0.1607801616191864,-0.14973217248916626,-0.20413978397846222,-0.18941478431224823,-0.07694610953330994,0.1620568186044693,-0.1883665770292282,0.34136947989463806,-0.06799651682376862,-0.17284676432609558,-0.5313436985015869,-0.1549813449382782,0.19622601568698883,0.059565071016550064,0.06309415400028229,0.039639879018068314,-0.47445783019065857,0.2075892686843872,0.2358773797750473,-0.019975382834672928,-0.2586822807788849,0.19683460891246796,0.08464628458023071,0.1972467303276062,0.3043406009674072,0.11462107300758362,-0.019872097298502922,-0.12778101861476898,-0.2252543568611145,0.026230206713080406,0.1499129831790924,-0.5116801261901855,-0.007697653025388718,0.1819615364074707,0.3472134470939636,-0.027950791642069817,0.11647447943687439,0.018986200913786888,0.11817824840545654,0.04888829216361046,-0.12289639562368393,0.21693743765354156,0.17892411351203918,0.21792571246623993,-0.07372130453586578,0.07636282593011856,-0.10781311243772507,-0.042000576853752136,0.27270618081092834,-0.23912911117076874,0.150930717587471,-0.12199322879314423,-0.3809795081615448,0.2196877896785736,-0.033745963126420975,-0.10327155143022537,0.29834461212158203,-0.004142491612583399,-0.44973960518836975,-0.34968191385269165,0.1921713948249817,-0.027250435203313828,0.30310288071632385,0.022168122231960297,-0.10101275146007538,-0.07014826685190201,0.20459945499897003,0.10892139375209808,-0.01927897520363331,0.21302208304405212,0.12395267933607101,0.07855522632598877,0.10908640921115875,0.3728814423084259,0.23564086854457855,-0.16969621181488037,0.053503021597862244,0.23962557315826416,-0.527800440788269,0.0741613581776619,-0.3942350447177887,0.07985255122184753,-0.05583444610238075,0.00704125827178359,0.19618822634220123,-0.15509232878684998,0.15864598751068115,-0.2901841998100281,0.10331931710243225,0.028181161731481552,0.0725240632891655,0.20874200761318207,0.17846322059631348,0.043404340744018555,-0.20109336078166962,0.588671863079071,0.14987324178218842,-0.11818776279687881,-0.16156907379627228,0.2730666399002075,0.07719732820987701,0.32809340953826904,0.4091230630874634,-0.03846269100904465,0.060434143990278244,0.044973425567150116,-0.35279136896133423,0.12913383543491364,-0.13495442271232605,-0.07480308413505554,0.2884773910045624,-0.2800460457801819,0.30425962805747986,-0.03148769214749336,-0.044351305812597275,0.09114423394203186,0.055661819875240326,0.30265098810195923,0.15757429599761963,0.003892755601555109,0.04885705187916756,0.04555347561836243,-0.12227801978588104,-0.3988338112831116,0.04840027913451195,0.12906311452388763,0.03535107895731926,-0.11880096793174744,-0.22316722571849823,0.11715035885572433,-0.44238904118537903,-0.5137324333190918,-0.3234736919403076,-0.1154366061091423,-0.008837760426104069,-0.031579822301864624,0.20312316715717316,-0.016099611297249794,0.007224198430776596,0.3011895418167114,-0.552127480506897,0.05170169845223427,-0.07707425951957703,0.05166428163647652,-0.15918686985969543,-0.024126077070832253,0.45826631784439087,-0.2079688012599945,0.13391423225402832,-0.16462749242782593,-0.07269101589918137,-0.010682235471904278,0.21347075700759888,0.008946429006755352,0.35201528668403625,-0.2216554433107376,-0.054960064589977264,-0.1225411519408226,0.6538803577423096,-0.15656642615795135,-0.5514976382255554,0.10915961116552353,0.08759456872940063,-0.26554206013679504,0.13965122401714325,0.07943987846374512,0.15056505799293518,-0.04997188597917557,0.058207593858242035,0.15346333384513855,-0.28675875067710876,0.2056981921195984,-0.0958150252699852,-0.31554245948791504,-0.00745614618062973,-0.001697386265732348,-0.4196813702583313,0.19095054268836975,-0.059669386595487595,-0.17172065377235413,-0.12909479439258575,0.07055395096540451,-0.23144614696502686,0.07709727436304092,0.17118866741657257,0.1182299479842186,0.07288285344839096,-0.5506389141082764,-0.514251172542572,-0.25052353739738464,-0.3143424391746521,0.5326950550079346,0.14926835894584656,0.07333587110042572,-0.34548652172088623,-0.26749569177627563,0.12498246133327484,-0.24123704433441162,-0.19416840374469757,-0.08469434827566147,-0.05659765750169754,-0.042735032737255096,-0.02569790557026863,0.209171861410141,-0.23276439309120178,-0.25124797224998474,-0.07520635426044464,-0.010881242342293262,0.21639394760131836,-0.14220842719078064,0.10339472442865372,-0.005120758432894945,-0.2031337171792984,-0.13853798806667328,-0.020096758380532265,0.08640704303979874,-0.1323358118534088,0.21657449007034302,0.18830835819244385,-0.3191296458244324,-0.3464047312736511,0.20930437743663788,0.48103269934654236,-0.16532354056835175,-0.20604072511196136,-0.40739575028419495,-0.4584876596927643,-0.19863180816173553,-0.1799425184726715,0.1838088482618332,0.007098572328686714,0.17401716113090515,0.29721599817276,0.11864138394594193,-0.11706428229808807,0.3312638998031616,-0.14566077291965485,0.1663927435874939,-0.4430258572101593,-0.12329690158367157,-0.001674421364441514,-0.04118792340159416,0.12854163348674774,-0.23366934061050415,0.011102155782282352,-0.004455189220607281,0.33930736780166626,0.2956310510635376,-0.13751359283924103,-0.052599016577005386,0.026911331340670586,0.2110140323638916,-0.33636370301246643,0.01794493943452835,-0.06158046796917915,-0.4686562120914459,-0.007039207033813,-0.1416160613298416,-0.03198676183819771,0.07752244174480438,-0.041295718401670456,0.18609768152236938,-0.10081879049539566,-0.026308782398700714,0.32890182733535767,-0.17779037356376648,0.06670744717121124,0.07996371388435364,-0.05105048045516014,-0.09108264744281769,0.20855185389518738,-0.11541382968425751,-0.6207119822502136,-0.08349749445915222,0.04601134732365608,0.15111006796360016,-0.02967796102166176,0.024547677487134933,-0.059517987072467804,-0.09127510339021683,0.39618510007858276,-0.004667900037020445,-0.12842367589473724,0.2319890558719635,0.02600102871656418,-0.07085058838129044,0.15022991597652435,0.005828765220940113,-0.02102387137711048,-0.343670517206192,0.17851904034614563,-0.03792565315961838,0.06672044843435287,0.045435987412929535,-0.24970252811908722,0.113242968916893,0.09489284455776215,-0.016813185065984726,-0.03144720569252968,0.16187290847301483,-0.4347289502620697,0.4759231507778168,-0.032071132212877274,-0.1239176094532013,0.10311438888311386,-0.19230131804943085,-0.07227249443531036,-0.16546852886676788,-0.062023892998695374,0.18034619092941284,0.15447135269641876,-0.5128561854362488,-0.06303690373897552,0.08981502801179886,0.26000288128852844,-0.1430458128452301,0.5628977417945862,-0.22351416945457458,0.1498751938343048,0.12320543080568314,-0.3012685179710388,-0.48344606161117554,0.0280248261988163,-0.09339138120412827,0.22003304958343506],\"y\":[-0.15773898363113403,-0.04502718895673752,-0.15125197172164917,0.2762186527252197,-0.08238750696182251,-0.08770430833101273,-0.3714241087436676,0.19069883227348328,0.1371198147535324,0.14771214127540588,-0.8737175464630127,0.07468318939208984,-0.1648169308900833,0.204997256398201,-0.7443670630455017,-0.1011783704161644,0.03357500210404396,0.5797449946403503,-0.020407481119036674,0.060327284038066864,0.277567595243454,-0.2486341893672943,-0.3887191414833069,0.16870754957199097,0.022289585322141647,0.04110414534807205,0.05347615107893944,0.7705901861190796,0.08461309969425201,-0.0835966169834137,-0.7290014028549194,-0.030367853119969368,0.3589705228805542,0.08408544212579727,0.3491778075695038,-0.08532143384218216,0.43020668625831604,-0.25084900856018066,-0.019724028185009956,0.3272923529148102,0.13709379732608795,-0.01400382537394762,0.4403887987136841,-0.21747945249080658,-0.14796116948127747,-0.3253830671310425,0.2212580442428589,-0.09026513993740082,-0.22165726125240326,0.38821038603782654,0.2501940131187439,0.021423369646072388,-0.0561312772333622,0.013746574521064758,-0.23501549661159515,-0.26392990350723267,0.23387601971626282,-0.04052980616688728,0.47590747475624084,-0.2848720848560333,0.11417992413043976,0.03187224268913269,-0.20286035537719727,-0.08852282911539078,0.022330407053232193,-0.22886207699775696,0.2964245080947876,0.10642872750759125,-0.17850230634212494,-0.2455901801586151,0.12394365668296814,0.20593039691448212,0.16641482710838318,-0.13256961107254028,0.3243446946144104,0.004672601353377104,0.025764213874936104,-0.2119654268026352,0.3339293599128723,-0.29982832074165344,-0.20415452122688293,-0.15704815089702606,-0.07256752252578735,0.14616605639457703,0.16062219440937042,-0.17332962155342102,0.02413281798362732,0.008363911882042885,-0.0473424457013607,0.4512355923652649,0.20507638156414032,0.40251418948173523,-0.34082451462745667,0.04939400032162666,0.27067410945892334,0.6213177442550659,-0.4115166962146759,0.06039287522435188,-0.06388586014509201,0.3698633015155792,0.04440787434577942,0.44798406958580017,-0.23209618031978607,0.057514216750860214,0.32113325595855713,-0.03317095711827278,-0.4217219054698944,0.31485405564308167,0.5606783628463745,0.2656198740005493,0.30407610535621643,0.02287907339632511,-0.07812601327896118,-0.2741261124610901,0.3287237882614136,0.30049604177474976,0.3518432676792145,0.02544502727687359,0.10330574214458466,0.05972055718302727,0.11119183152914047,-0.254027396440506,-0.04689688980579376,0.0007698663976043463,-0.05694769322872162,-0.027556035667657852,-0.35906562209129333,-0.2159958928823471,-0.11845944821834564,0.23508557677268982,0.00143933214712888,0.1261802762746811,0.07250401377677917,0.159577876329422,0.2689043879508972,-0.1702621430158615,-0.07547491043806076,0.3073543906211853,-0.24567455053329468,-0.1955765187740326,0.14913679659366608,-0.3314265012741089,-0.5155878663063049,-0.05530514568090439,0.03771445155143738,0.18454134464263916,-0.058010052889585495,0.6974841952323914,0.1455313265323639,-0.07861971110105515,-0.23346422612667084,-0.1065119132399559,-0.30249568819999695,-0.02991371415555477,-0.003850653301924467,-0.14518305659294128,-0.10456272959709167,0.15245172381401062,0.04368530958890915,0.07784522324800491,0.21467770636081696,0.01886054128408432,-0.1019228845834732,0.09925832599401474,-0.41996607184410095,0.20765164494514465,0.1740865707397461,0.06128881499171257,-0.0027199089527130127,-0.0626063346862793,-0.15204833447933197,0.17745590209960938,-0.2471415400505066,-0.1724359691143036,-0.13300752639770508,0.11177901923656464,0.12139350920915604,0.11639148741960526,0.21892030537128448,-0.008497072383761406,-0.23934440314769745,0.19196659326553345,-0.4139566123485565,0.005999570246785879,0.24854105710983276,0.5598292946815491,0.1479121595621109,-0.2440677136182785,-0.06973032653331757,-0.015298856422305107,-0.0751250758767128,0.4100341796875,-0.20555932819843292,-0.2055971473455429,-0.012217268347740173,0.19500379264354706,-0.18262885510921478,-0.09466419368982315,-0.18609848618507385,-0.27396583557128906,-0.1208001971244812,0.011374661698937416,0.1645449846982956,0.22776220738887787,0.027064621448516846,-0.08807972818613052,0.48607176542282104,0.031971950083971024,-0.11851613223552704,-0.3881250321865082,-0.010981548577547073,-0.050367627292871475,-0.07149060815572739,-0.10583706200122833,-0.05216280370950699,0.12957030534744263,-0.21018530428409576,-0.2189808040857315,-0.232025608420372,0.12126411497592926,-0.0829823911190033,0.07801840454339981,0.03706292808055878,-0.2485443651676178,0.25394225120544434,-0.18366260826587677,0.06267108023166656,0.3981344997882843,-0.31291165947914124,0.01009273249655962,0.12364782392978668,-0.3137620985507965,-0.00905575416982174,0.4742972254753113,0.32454508543014526,-0.12065897136926651,0.002651261631399393,-0.3727159798145294,-0.022712886333465576,0.19064994156360626,0.08062881976366043,-0.3006064295768738,-0.06741052120923996,0.08439543098211288,-0.22419390082359314,-0.11441420763731003,-0.0957489162683487,-0.16304011642932892,-0.4134874939918518,-0.25021618604660034,0.16321851313114166,-0.009644892998039722,-0.24720825254917145,0.6011598110198975,-0.05894516780972481,0.39800363779067993,-0.08689973503351212,0.06412681192159653,-0.05413852259516716,-0.2486562728881836,0.20805804431438446,-0.22206611931324005,0.2242700457572937,-0.15110468864440918,-0.06743013858795166,-0.08565861731767654,-0.17691676318645477,-0.2272341549396515,-0.1037665456533432,0.17680852115154266,-0.5405147671699524,-0.16315244138240814,0.12150002270936966,0.12945556640625,-0.25718072056770325,-0.12964282929897308,-0.3894349932670593,-0.4543629288673401,0.08045276254415512,-0.07292193174362183,0.01817251928150654,0.4124378561973572,-0.12605950236320496,0.1418813318014145,0.0737214982509613,-0.34008362889289856,0.29337674379348755,-0.32988253235816956,-0.04247439280152321,0.06217702478170395,-0.14313672482967377,-0.05126044526696205,-0.3104230761528015,-0.12763704359531403,-0.047684602439403534,-0.0818135142326355,-0.019348978996276855,0.046937424689531326,0.3455522060394287,-0.08132590353488922,-0.0910414382815361,0.02503417804837227,0.17633672058582306,0.21708190441131592,-0.12990564107894897,0.4519464373588562,0.5166937112808228,0.2922573983669281,0.16115562617778778,0.03267371281981468,-0.005923775490373373,-0.17376376688480377,0.016431204974651337,-0.07938636094331741,-0.2641175091266632,0.5919292569160461,-0.038493454456329346,0.14683322608470917,0.003237992525100708,0.16609595715999603,0.04132140800356865,-0.4968189299106598,0.23518681526184082,-0.18252646923065186,0.15448646247386932,0.11478995531797409,-0.023742467164993286,-0.21189557015895844,0.0002392168389633298,-0.39425158500671387,0.20591528713703156,0.0602445974946022,0.16125795245170593,-0.6557707190513611,0.1367844194173813,0.5345264673233032,-0.18696701526641846,-0.12273003906011581,0.22257068753242493,-0.17736881971359253,-0.10872143507003784,-0.19158145785331726,0.04047340527176857,-0.02858024649322033,-0.09434856474399567,0.2634078860282898,-0.20707827806472778,0.018156271427869797,0.25475722551345825,0.008272992447018623,0.05116815119981766,0.3974865674972534,-0.24055057764053345,0.10474718362092972,0.17231453955173492,0.1016412004828453,-0.06747366487979889,0.1875535547733307,-0.020001504570245743,-0.12878835201263428,-0.08429478853940964,-0.06261911988258362,0.6495450139045715,0.5451374650001526,0.26604774594306946,0.3224180340766907,-0.48461368680000305,-0.16629423201084137,-0.14604797959327698,0.39342162013053894,0.28778764605522156,-0.0710001289844513,0.27379006147384644,0.2798638939857483,0.13334603607654572,-0.02940894104540348,-0.025661790743470192,-0.0006675535114482045,-0.18079882860183716,0.27137109637260437,0.21707375347614288,0.009608635678887367,0.02274714596569538,-0.29525232315063477,0.18273189663887024,-0.15627332031726837,0.05683739110827446,0.1561584621667862,0.10825345665216446,0.03638841584324837,-0.03532185032963753,0.15982787311077118,-0.16987432539463043,-0.174826979637146,0.35047852993011475,0.33915674686431885,-0.2041080892086029,-0.5633242726325989,0.15767039358615875,0.18695668876171112,0.3848680853843689,0.4317721426486969,0.20561057329177856,0.2210545688867569,-0.20482154190540314,0.04484520107507706,-0.1496327817440033,-0.2734988033771515,-0.027401357889175415,0.05909859761595726,-0.3115500509738922,0.10306771844625473,-0.1944442093372345,0.5366286039352417,0.08529838174581528,0.02911257930099964,0.07272512465715408,-0.09332268685102463,0.22137394547462463,0.03615802526473999,0.04226365312933922,-0.34220999479293823,-0.31417781114578247,0.14153216779232025,0.048203129321336746,0.010229166597127914,-0.26111575961112976,0.2872174382209778,0.03598669916391373,0.06553209573030472,0.5743520855903625,-0.0018635281594470143,0.11219176650047302,-0.050946515053510666,0.0025054265279322863,0.06241863965988159,-0.27407872676849365,0.14830677211284637,-0.02163557894527912,-0.3124062418937683,0.14619484543800354,-0.050225745886564255,-0.019609976559877396,0.04488015174865723,0.09348297864198685,-0.15725785493850708,0.16879567503929138,0.6498602032661438,0.011675396002829075,-0.109944187104702,-0.16325606405735016,0.016020985320210457,0.016316238790750504,0.049109261482954025,0.16487161815166473,-0.3290405571460724,0.0824698954820633,0.1233111172914505,-0.21142807602882385,0.0011982694268226624,0.029880313202738762,-0.1680305302143097,-0.0307216327637434,0.008890765719115734,0.30675873160362244,-0.17399197816848755,0.08410754054784775,-0.045816268771886826,0.009982537478208542,0.3109113574028015,-0.12521347403526306,-0.1061340793967247,0.09389416128396988,0.04053691402077675,-0.12912209331989288,0.45953527092933655,-0.4591289162635803,0.08328569680452347,0.09764354676008224,-0.11000096797943115,0.2248268574476242,0.14869123697280884,0.12699495255947113,0.0427912138402462,-0.20149721205234528,-0.17913305759429932,0.5176161527633667,0.060537442564964294,-0.06907200813293457,-0.22329488396644592,0.14316381514072418,-0.613192081451416,0.1815406084060669,-0.09844515472650528,-0.16253241896629333,0.2889682948589325,0.5119121074676514,-0.030923016369342804,0.1635705977678299,-0.2194415181875229],\"type\":\"scatter\"}],                        {\"hovermode\":\"closest\",\"title\":{\"text\":\"Word Embeddings\"},\"template\":{\"data\":{\"histogram2dcontour\":[{\"type\":\"histogram2dcontour\",\"colorbar\":{\"outlinewidth\":0,\"ticks\":\"\"},\"colorscale\":[[0.0,\"#0d0887\"],[0.1111111111111111,\"#46039f\"],[0.2222222222222222,\"#7201a8\"],[0.3333333333333333,\"#9c179e\"],[0.4444444444444444,\"#bd3786\"],[0.5555555555555556,\"#d8576b\"],[0.6666666666666666,\"#ed7953\"],[0.7777777777777778,\"#fb9f3a\"],[0.8888888888888888,\"#fdca26\"],[1.0,\"#f0f921\"]]}],\"choropleth\":[{\"type\":\"choropleth\",\"colorbar\":{\"outlinewidth\":0,\"ticks\":\"\"}}],\"histogram2d\":[{\"type\":\"histogram2d\",\"colorbar\":{\"outlinewidth\":0,\"ticks\":\"\"},\"colorscale\":[[0.0,\"#0d0887\"],[0.1111111111111111,\"#46039f\"],[0.2222222222222222,\"#7201a8\"],[0.3333333333333333,\"#9c179e\"],[0.4444444444444444,\"#bd3786\"],[0.5555555555555556,\"#d8576b\"],[0.6666666666666666,\"#ed7953\"],[0.7777777777777778,\"#fb9f3a\"],[0.8888888888888888,\"#fdca26\"],[1.0,\"#f0f921\"]]}],\"heatmap\":[{\"type\":\"heatmap\",\"colorbar\":{\"outlinewidth\":0,\"ticks\":\"\"},\"colorscale\":[[0.0,\"#0d0887\"],[0.1111111111111111,\"#46039f\"],[0.2222222222222222,\"#7201a8\"],[0.3333333333333333,\"#9c179e\"],[0.4444444444444444,\"#bd3786\"],[0.5555555555555556,\"#d8576b\"],[0.6666666666666666,\"#ed7953\"],[0.7777777777777778,\"#fb9f3a\"],[0.8888888888888888,\"#fdca26\"],[1.0,\"#f0f921\"]]}],\"heatmapgl\":[{\"type\":\"heatmapgl\",\"colorbar\":{\"outlinewidth\":0,\"ticks\":\"\"},\"colorscale\":[[0.0,\"#0d0887\"],[0.1111111111111111,\"#46039f\"],[0.2222222222222222,\"#7201a8\"],[0.3333333333333333,\"#9c179e\"],[0.4444444444444444,\"#bd3786\"],[0.5555555555555556,\"#d8576b\"],[0.6666666666666666,\"#ed7953\"],[0.7777777777777778,\"#fb9f3a\"],[0.8888888888888888,\"#fdca26\"],[1.0,\"#f0f921\"]]}],\"contourcarpet\":[{\"type\":\"contourcarpet\",\"colorbar\":{\"outlinewidth\":0,\"ticks\":\"\"}}],\"contour\":[{\"type\":\"contour\",\"colorbar\":{\"outlinewidth\":0,\"ticks\":\"\"},\"colorscale\":[[0.0,\"#0d0887\"],[0.1111111111111111,\"#46039f\"],[0.2222222222222222,\"#7201a8\"],[0.3333333333333333,\"#9c179e\"],[0.4444444444444444,\"#bd3786\"],[0.5555555555555556,\"#d8576b\"],[0.6666666666666666,\"#ed7953\"],[0.7777777777777778,\"#fb9f3a\"],[0.8888888888888888,\"#fdca26\"],[1.0,\"#f0f921\"]]}],\"surface\":[{\"type\":\"surface\",\"colorbar\":{\"outlinewidth\":0,\"ticks\":\"\"},\"colorscale\":[[0.0,\"#0d0887\"],[0.1111111111111111,\"#46039f\"],[0.2222222222222222,\"#7201a8\"],[0.3333333333333333,\"#9c179e\"],[0.4444444444444444,\"#bd3786\"],[0.5555555555555556,\"#d8576b\"],[0.6666666666666666,\"#ed7953\"],[0.7777777777777778,\"#fb9f3a\"],[0.8888888888888888,\"#fdca26\"],[1.0,\"#f0f921\"]]}],\"mesh3d\":[{\"type\":\"mesh3d\",\"colorbar\":{\"outlinewidth\":0,\"ticks\":\"\"}}],\"scatter\":[{\"fillpattern\":{\"fillmode\":\"overlay\",\"size\":10,\"solidity\":0.2},\"type\":\"scatter\"}],\"parcoords\":[{\"type\":\"parcoords\",\"line\":{\"colorbar\":{\"outlinewidth\":0,\"ticks\":\"\"}}}],\"scatterpolargl\":[{\"type\":\"scatterpolargl\",\"marker\":{\"colorbar\":{\"outlinewidth\":0,\"ticks\":\"\"}}}],\"bar\":[{\"error_x\":{\"color\":\"#2a3f5f\"},\"error_y\":{\"color\":\"#2a3f5f\"},\"marker\":{\"line\":{\"color\":\"#E5ECF6\",\"width\":0.5},\"pattern\":{\"fillmode\":\"overlay\",\"size\":10,\"solidity\":0.2}},\"type\":\"bar\"}],\"scattergeo\":[{\"type\":\"scattergeo\",\"marker\":{\"colorbar\":{\"outlinewidth\":0,\"ticks\":\"\"}}}],\"scatterpolar\":[{\"type\":\"scatterpolar\",\"marker\":{\"colorbar\":{\"outlinewidth\":0,\"ticks\":\"\"}}}],\"histogram\":[{\"marker\":{\"pattern\":{\"fillmode\":\"overlay\",\"size\":10,\"solidity\":0.2}},\"type\":\"histogram\"}],\"scattergl\":[{\"type\":\"scattergl\",\"marker\":{\"colorbar\":{\"outlinewidth\":0,\"ticks\":\"\"}}}],\"scatter3d\":[{\"type\":\"scatter3d\",\"line\":{\"colorbar\":{\"outlinewidth\":0,\"ticks\":\"\"}},\"marker\":{\"colorbar\":{\"outlinewidth\":0,\"ticks\":\"\"}}}],\"scattermapbox\":[{\"type\":\"scattermapbox\",\"marker\":{\"colorbar\":{\"outlinewidth\":0,\"ticks\":\"\"}}}],\"scatterternary\":[{\"type\":\"scatterternary\",\"marker\":{\"colorbar\":{\"outlinewidth\":0,\"ticks\":\"\"}}}],\"scattercarpet\":[{\"type\":\"scattercarpet\",\"marker\":{\"colorbar\":{\"outlinewidth\":0,\"ticks\":\"\"}}}],\"carpet\":[{\"aaxis\":{\"endlinecolor\":\"#2a3f5f\",\"gridcolor\":\"white\",\"linecolor\":\"white\",\"minorgridcolor\":\"white\",\"startlinecolor\":\"#2a3f5f\"},\"baxis\":{\"endlinecolor\":\"#2a3f5f\",\"gridcolor\":\"white\",\"linecolor\":\"white\",\"minorgridcolor\":\"white\",\"startlinecolor\":\"#2a3f5f\"},\"type\":\"carpet\"}],\"table\":[{\"cells\":{\"fill\":{\"color\":\"#EBF0F8\"},\"line\":{\"color\":\"white\"}},\"header\":{\"fill\":{\"color\":\"#C8D4E3\"},\"line\":{\"color\":\"white\"}},\"type\":\"table\"}],\"barpolar\":[{\"marker\":{\"line\":{\"color\":\"#E5ECF6\",\"width\":0.5},\"pattern\":{\"fillmode\":\"overlay\",\"size\":10,\"solidity\":0.2}},\"type\":\"barpolar\"}],\"pie\":[{\"automargin\":true,\"type\":\"pie\"}]},\"layout\":{\"autotypenumbers\":\"strict\",\"colorway\":[\"#636efa\",\"#EF553B\",\"#00cc96\",\"#ab63fa\",\"#FFA15A\",\"#19d3f3\",\"#FF6692\",\"#B6E880\",\"#FF97FF\",\"#FECB52\"],\"font\":{\"color\":\"#2a3f5f\"},\"hovermode\":\"closest\",\"hoverlabel\":{\"align\":\"left\"},\"paper_bgcolor\":\"white\",\"plot_bgcolor\":\"#E5ECF6\",\"polar\":{\"bgcolor\":\"#E5ECF6\",\"angularaxis\":{\"gridcolor\":\"white\",\"linecolor\":\"white\",\"ticks\":\"\"},\"radialaxis\":{\"gridcolor\":\"white\",\"linecolor\":\"white\",\"ticks\":\"\"}},\"ternary\":{\"bgcolor\":\"#E5ECF6\",\"aaxis\":{\"gridcolor\":\"white\",\"linecolor\":\"white\",\"ticks\":\"\"},\"baxis\":{\"gridcolor\":\"white\",\"linecolor\":\"white\",\"ticks\":\"\"},\"caxis\":{\"gridcolor\":\"white\",\"linecolor\":\"white\",\"ticks\":\"\"}},\"coloraxis\":{\"colorbar\":{\"outlinewidth\":0,\"ticks\":\"\"}},\"colorscale\":{\"sequential\":[[0.0,\"#0d0887\"],[0.1111111111111111,\"#46039f\"],[0.2222222222222222,\"#7201a8\"],[0.3333333333333333,\"#9c179e\"],[0.4444444444444444,\"#bd3786\"],[0.5555555555555556,\"#d8576b\"],[0.6666666666666666,\"#ed7953\"],[0.7777777777777778,\"#fb9f3a\"],[0.8888888888888888,\"#fdca26\"],[1.0,\"#f0f921\"]],\"sequentialminus\":[[0.0,\"#0d0887\"],[0.1111111111111111,\"#46039f\"],[0.2222222222222222,\"#7201a8\"],[0.3333333333333333,\"#9c179e\"],[0.4444444444444444,\"#bd3786\"],[0.5555555555555556,\"#d8576b\"],[0.6666666666666666,\"#ed7953\"],[0.7777777777777778,\"#fb9f3a\"],[0.8888888888888888,\"#fdca26\"],[1.0,\"#f0f921\"]],\"diverging\":[[0,\"#8e0152\"],[0.1,\"#c51b7d\"],[0.2,\"#de77ae\"],[0.3,\"#f1b6da\"],[0.4,\"#fde0ef\"],[0.5,\"#f7f7f7\"],[0.6,\"#e6f5d0\"],[0.7,\"#b8e186\"],[0.8,\"#7fbc41\"],[0.9,\"#4d9221\"],[1,\"#276419\"]]},\"xaxis\":{\"gridcolor\":\"white\",\"linecolor\":\"white\",\"ticks\":\"\",\"title\":{\"standoff\":15},\"zerolinecolor\":\"white\",\"automargin\":true,\"zerolinewidth\":2},\"yaxis\":{\"gridcolor\":\"white\",\"linecolor\":\"white\",\"ticks\":\"\",\"title\":{\"standoff\":15},\"zerolinecolor\":\"white\",\"automargin\":true,\"zerolinewidth\":2},\"scene\":{\"xaxis\":{\"backgroundcolor\":\"#E5ECF6\",\"gridcolor\":\"white\",\"linecolor\":\"white\",\"showbackground\":true,\"ticks\":\"\",\"zerolinecolor\":\"white\",\"gridwidth\":2},\"yaxis\":{\"backgroundcolor\":\"#E5ECF6\",\"gridcolor\":\"white\",\"linecolor\":\"white\",\"showbackground\":true,\"ticks\":\"\",\"zerolinecolor\":\"white\",\"gridwidth\":2},\"zaxis\":{\"backgroundcolor\":\"#E5ECF6\",\"gridcolor\":\"white\",\"linecolor\":\"white\",\"showbackground\":true,\"ticks\":\"\",\"zerolinecolor\":\"white\",\"gridwidth\":2}},\"shapedefaults\":{\"line\":{\"color\":\"#2a3f5f\"}},\"annotationdefaults\":{\"arrowcolor\":\"#2a3f5f\",\"arrowhead\":0,\"arrowwidth\":1},\"geo\":{\"bgcolor\":\"white\",\"landcolor\":\"#E5ECF6\",\"subunitcolor\":\"white\",\"showland\":true,\"showlakes\":true,\"lakecolor\":\"white\"},\"title\":{\"x\":0.05},\"mapbox\":{\"style\":\"light\"}}}},                        {\"responsive\": true}                    ).then(function(){\n",
              "                            \n",
              "var gd = document.getElementById('3d7590f2-5946-4033-96c0-562f917bf64b');\n",
              "var x = new MutationObserver(function (mutations, observer) {{\n",
              "        var display = window.getComputedStyle(gd).display;\n",
              "        if (!display || display === 'none') {{\n",
              "            console.log([gd, 'removed!']);\n",
              "            Plotly.purge(gd);\n",
              "            observer.disconnect();\n",
              "        }}\n",
              "}});\n",
              "\n",
              "// Listen for the removal of the full notebook cells\n",
              "var notebookContainer = gd.closest('#notebook-container');\n",
              "if (notebookContainer) {{\n",
              "    x.observe(notebookContainer, {childList: true});\n",
              "}}\n",
              "\n",
              "// Listen for the clearing of the current output cell\n",
              "var outputEl = gd.closest('.output');\n",
              "if (outputEl) {{\n",
              "    x.observe(outputEl, {childList: true});\n",
              "}}\n",
              "\n",
              "                        })                };                            </script>        </div>\n",
              "</body>\n",
              "</html>"
            ]
          },
          "metadata": {}
        }
      ],
      "source": [
        "def plot_2d_embeddings(embeddings, id_start=1, count=100):\n",
        "  # Get 1st and 2nd embedding dims for the desired tokens.\n",
        "  x1 = embeddings[id_start:id_start+count, 0]\n",
        "  x2 = embeddings[id_start:id_start+count, 1]\n",
        "\n",
        "  # Get the corresponding words from the reverse index (for labeling).\n",
        "  tokens = [reverse_index[i] for i in range(id_start, id_start+count)]\n",
        "\n",
        "  # Plot with the plotly library.\n",
        "  data = plotly.Scatter(x=x1, y=x2, text=tokens,\n",
        "                        mode='markers', textposition='bottom left',\n",
        "                        hoverinfo='text')\n",
        "  fig = plotly.Figure(data=[data],\n",
        "                      layout=plotly.Layout(title=\"Word Embeddings\",\n",
        "                                           hovermode='closest'))\n",
        "  fig.show()\n",
        "\n",
        "# Very frequent tokens tend to be more syntactic than semantic, so let's plot\n",
        "# some rarer words.\n",
        "plot_2d_embeddings(embeddings2, id_start=500, count=500)"
      ]
    },
    {
      "cell_type": "markdown",
      "metadata": {
        "id": "L-qBkNSnHjVm"
      },
      "source": [
        "### <span style=\"color:chocolate\">Exercise 8:</span> Interpreting embeddings (20 points)"
      ]
    },
    {
      "cell_type": "markdown",
      "metadata": {
        "id": "Z3Mm8MjRcZ20"
      },
      "source": [
        "Notice that the 2-D embeddings fall in a narrow diagonal band. Answer the following questions:\n",
        "\n",
        "1. Have the learned embeddings separated positive and negative words? What is the most negative word? Does this make sense?\n",
        "2. Give 2 examples of words that seem to have surprising embedding values and try to explain their positions. For example, what's going on with the tokens '7', '8', and '9'? What are two other surprising results?\n",
        "3. The embedding for 'crazy' is very close to (0,0). Explain what this means in terms of the model's output.\n",
        "4. Can you explain what you think the 2 learned embedding dimensions mean, if anything?"
      ]
    },
    {
      "cell_type": "markdown",
      "metadata": {
        "id": "x_qAAvvo2y3t"
      },
      "source": [
        "YOUR ANSWER HERE\n",
        "\n",
        "1. The learned embeddings do not clearly segregate positive from negative words along the visible diagonal spread. To determine the “most negative” word requires an analysis not just of the plot but also of how the embeddings correlate with sentiment labels in the training data, which isn’t directly observable from this plot alone. The most negative word is horrible, and this does make sense.\n",
        "\n",
        "2. \"Joke\" has a surprising embedding, being quite negative. This is initially surprising since we might believe that people are drawn to jokes and associate them with a positive sentiment. However, in the context of reviews people are likely calling movies that they're disappointed in \"a joke\" negatively. Simple has a very positive embedding, and that might be surprising given simple might be felt to be generally more nuetral. However, this might be explainable in the context of using simple as an adjective (i.e. it's simply good, great, awesome etc.). Tokens ‘7’, ‘8’, and ‘9’ have embeddings that seem unrelated to their numerical or typical lexical function, appearing in positions that might be influenced by their frequency of occurrence in specific contexts rather than their semantic content. They might also have very positive embedding because they correspond to ratings >5 which are considered good. (Tyler aside: Guessing here, I can't actually tell because they are not in my plot).\n",
        "\n",
        "3. The central positioning could imply a neutral embedding, where ‘crazy’ does not strongly sway the sentiment analysis in either a positive or negative direction. More likely, 'crazy' is contextually variable in the training set. Things might be 'crazy good' or 'crazy bad' depending on the context.\n",
        "\n",
        "4. Here's a guess. One dimension could capture the contextual usage of words. For instance, it might differentiate between words frequently used in formal versus informal contexts or in different genres of text. This variation could reflect the adaptability of words across various discourse types. It’s possible that the dimension encodes some aspect of sentiment or subjectivity, distinguishing between words that are commonly used in emotional or subjective statements versus those used in more objective or neutral contexts. This could explain why some emotionally charged words might cluster together.\n",
        "\n"
      ]
    },
    {
      "cell_type": "markdown",
      "metadata": {
        "id": "vW0pP8WWHjVm"
      },
      "source": [
        "----\n",
        "### <span style=\"color:chocolate\">Bonus question: </span> More data and bigger models (20 points)"
      ]
    },
    {
      "cell_type": "markdown",
      "metadata": {
        "id": "IXCitmUvxfwb"
      },
      "source": [
        "Remember how you limited your input sequences to 20 tokens and 1000 vocabulary entries? Let's see how well you can do using more data and bigger models (more parameters)."
      ]
    },
    {
      "cell_type": "markdown",
      "metadata": {
        "id": "aI7oDIjwHjVm"
      },
      "source": [
        "Using pieces of code from above, set up and train a model to achieve at least 80% accuracy on both training and validation data. Ensure the following elements are included:\n",
        "\n",
        "1. Truncate and pad input to the desired length;\n",
        "2. Limit the vocabulary to the desired size;\n",
        "3. Set up a model using embeddings;\n",
        "4. Use the averaging strategy rather than the concatenating strategy;\n",
        "5. Add additional layer(s) after the GlobalAveragePooling1D layer and before the output layer;\n",
        "6. Evaluate the model's performance on the test data and comment on its generalization performance. Hint: remember to apply the same preprocessing to the test data. Use the <span style=\"color:chocolate\">model.evaluate()</span> function for the final evaluation."
      ]
    },
    {
      "cell_type": "code",
      "source": [
        "# Parameters\n",
        "vocab_size = 20000  # increased vocabulary size\n",
        "sequence_length = 100  # increased sequence length\n",
        "embedding_dim = 64  # increased embedding dimension for more expressive p o w e r\n",
        "\n",
        "# Re-load and prepare data :O. We love a reload data :)\n",
        "(X_train, Y_train), (X_test, Y_test) = tf.keras.datasets.imdb.load_data(num_words=vocab_size)\n",
        "X_train_padded = pad_sequences(X_train, maxlen=sequence_length)\n",
        "X_test_padded = pad_sequences(X_test, maxlen=sequence_length)\n",
        "\n",
        "# Build the model\n",
        "def build_model(vocab_size, sequence_length, embedding_dim):\n",
        "    model = Sequential([\n",
        "        Embedding(input_dim=vocab_size, output_dim=embedding_dim, input_length=sequence_length),\n",
        "        GlobalAveragePooling1D(),\n",
        "        Dense(128, activation='relu'),  # Additional dense layer\n",
        "        Dense(1, activation='sigmoid')\n",
        "    ])\n",
        "    model.compile(optimizer='adam', loss='binary_crossentropy', metrics=['accuracy'])\n",
        "    return model\n",
        "\n",
        "# Create and train the model\n",
        "model = build_model(vocab_size, sequence_length, embedding_dim)\n",
        "history = model.fit(X_train_padded, Y_train, epochs=5, batch_size=64, validation_split=0.2, verbose=1)\n",
        "\n",
        "# Evaluate the model\n",
        "test_loss, test_accuracy = model.evaluate(X_test_padded, Y_test)\n",
        "print(f\"Test Loss: {test_loss}, Test Accuracy: {test_accuracy}\")\n",
        "\n",
        "# Display model summary\n",
        "model.summary()\n",
        "\n",
        "def plot_history(history):\n",
        "    plt.figure(figsize=(8, 4))\n",
        "    plt.plot(history.history['accuracy'], label='Training Accuracy')\n",
        "    plt.plot(history.history['val_accuracy'], label='Validation Accuracy')\n",
        "    plt.title('Training and Validation Accuracy')\n",
        "    plt.xlabel('Epoch')\n",
        "    plt.ylabel('Accuracy')\n",
        "    plt.legend()\n",
        "    plt.show()\n",
        "\n",
        "plot_history(history)"
      ],
      "metadata": {
        "colab": {
          "base_uri": "https://localhost:8080/",
          "height": 955
        },
        "id": "voZhQJPKWvFs",
        "outputId": "34137729-ebb5-4b86-98f1-9e05d520fd82"
      },
      "execution_count": 27,
      "outputs": [
        {
          "output_type": "stream",
          "name": "stdout",
          "text": [
            "Epoch 1/5\n",
            "313/313 [==============================] - 7s 21ms/step - loss: 0.4665 - accuracy: 0.7879 - val_loss: 0.3396 - val_accuracy: 0.8516\n",
            "Epoch 2/5\n",
            "313/313 [==============================] - 8s 25ms/step - loss: 0.2423 - accuracy: 0.9043 - val_loss: 0.3409 - val_accuracy: 0.8540\n",
            "Epoch 3/5\n",
            "313/313 [==============================] - 7s 21ms/step - loss: 0.1632 - accuracy: 0.9424 - val_loss: 0.4014 - val_accuracy: 0.8400\n",
            "Epoch 4/5\n",
            "313/313 [==============================] - 8s 24ms/step - loss: 0.1095 - accuracy: 0.9652 - val_loss: 0.4880 - val_accuracy: 0.8370\n",
            "Epoch 5/5\n",
            "313/313 [==============================] - 6s 21ms/step - loss: 0.0716 - accuracy: 0.9803 - val_loss: 0.5817 - val_accuracy: 0.8290\n",
            "782/782 [==============================] - 2s 3ms/step - loss: 0.6004 - accuracy: 0.8212\n",
            "Test Loss: 0.6004014611244202, Test Accuracy: 0.8211600184440613\n",
            "Model: \"sequential_5\"\n",
            "_________________________________________________________________\n",
            " Layer (type)                Output Shape              Param #   \n",
            "=================================================================\n",
            " embedding_5 (Embedding)     (None, 100, 64)           1280000   \n",
            "                                                                 \n",
            " global_average_pooling1d_5  (None, 64)                0         \n",
            "  (GlobalAveragePooling1D)                                       \n",
            "                                                                 \n",
            " dense_10 (Dense)            (None, 128)               8320      \n",
            "                                                                 \n",
            " dense_11 (Dense)            (None, 1)                 129       \n",
            "                                                                 \n",
            "=================================================================\n",
            "Total params: 1288449 (4.92 MB)\n",
            "Trainable params: 1288449 (4.92 MB)\n",
            "Non-trainable params: 0 (0.00 Byte)\n",
            "_________________________________________________________________\n"
          ]
        },
        {
          "output_type": "display_data",
          "data": {
            "text/plain": [
              "<Figure size 800x400 with 1 Axes>"
            ],
            "image/png": "[encoded data removed]"
          },
          "metadata": {}
        }
      ]
    },
    {
      "cell_type": "code",
      "source": [
        "# A little overfit :), but we hit 80!"
      ],
      "metadata": {
        "id": "6f9tquN-YEbK"
      },
      "execution_count": 28,
      "outputs": []
    }
  ],
  "metadata": {
    "colab": {
      "provenance": []
    },
    "kernelspec": {
      "display_name": "Python 3 (ipykernel)",
      "language": "python",
      "name": "python3"
    },
    "language_info": {
      "codemirror_mode": {
        "name": "ipython",
        "version": 3
      },
      "file_extension": ".py",
      "mimetype": "text/x-python",
      "name": "python",
      "nbconvert_exporter": "python",
      "pygments_lexer": "ipython3",
      "version": "3.12.2"
    }
  },
  "nbformat": 4,
  "nbformat_minor": 0
}