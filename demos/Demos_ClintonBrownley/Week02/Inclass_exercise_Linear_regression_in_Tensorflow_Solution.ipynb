{
  "nbformat": 4,
  "nbformat_minor": 0,
  "metadata": {
    "colab": {
      "provenance": []
    },
    "kernelspec": {
      "name": "python3",
      "display_name": "Python 3"
    },
    "language_info": {
      "name": "python"
    }
  },
  "cells": [
    {
      "cell_type": "code",
      "execution_count": null,
      "metadata": {
        "id": "n15kEBlU16ut"
      },
      "outputs": [],
      "source": [
        "import matplotlib.pyplot as plt\n",
        "import numpy as np\n",
        "import pandas as pd\n",
        "import seaborn as sns\n",
        "\n",
        "# Make NumPy printouts easier to read.\n",
        "np.set_printoptions(precision=3, suppress=True)"
      ]
    },
    {
      "cell_type": "code",
      "source": [
        "import tensorflow as tf\n",
        "\n",
        "from tensorflow import keras\n",
        "from tensorflow.keras import layers\n",
        "\n",
        "print(tf.__version__)"
      ],
      "metadata": {
        "colab": {
          "base_uri": "https://localhost:8080/"
        },
        "id": "0Vt44nod2p5v",
        "outputId": "5c27eb40-0ad3-4a40-9f1f-092e1212ab22"
      },
      "execution_count": null,
      "outputs": [
        {
          "output_type": "stream",
          "name": "stdout",
          "text": [
            "2.15.0\n"
          ]
        }
      ]
    },
    {
      "cell_type": "code",
      "execution_count": null,
      "metadata": {
        "colab": {
          "base_uri": "https://localhost:8080/"
        },
        "id": "thBxWujJ5OOl",
        "outputId": "f9d29a85-e11e-4d2b-b54b-3db79cbfe2b4"
      },
      "outputs": [
        {
          "output_type": "execute_result",
          "data": {
            "text/plain": [
              "(array([[258.],\n",
              "        [270.],\n",
              "        [294.],\n",
              "        [320.],\n",
              "        [342.],\n",
              "        [368.],\n",
              "        [396.],\n",
              "        [446.],\n",
              "        [480.],\n",
              "        [586.]]),\n",
              " array([[   258.,  66564.],\n",
              "        [   270.,  72900.],\n",
              "        [   294.,  86436.],\n",
              "        [   320., 102400.],\n",
              "        [   342., 116964.],\n",
              "        [   368., 135424.],\n",
              "        [   396., 156816.],\n",
              "        [   446., 198916.],\n",
              "        [   480., 230400.],\n",
              "        [   586., 343396.]]),\n",
              " array([236.4, 234.4, 252.8, 298.6, 314.2, 342.2, 360.8, 368. , 391.2,\n",
              "        390.8]))"
            ]
          },
          "metadata": {},
          "execution_count": 16
        }
      ],
      "source": [
        "X = np.array([258.0, 270.0, 294.0,\n",
        "              320.0, 342.0, 368.0,\n",
        "              396.0, 446.0, 480.0, 586.0])\n",
        "\n",
        "X_quad = np.stack((X, [x**2 for x in X]), axis=1)\n",
        "\n",
        "y = np.array([236.4, 234.4, 252.8,\n",
        "              298.6, 314.2, 342.2,\n",
        "              360.8, 368.0, 391.2,\n",
        "              390.8])\n",
        "\n",
        "X = X[:, np.newaxis]\n",
        "\n",
        "X, X_quad, y"
      ]
    },
    {
      "cell_type": "code",
      "source": [
        "plt.scatter(X, y, label='Training points')\n",
        "plt.ylim(200, 450)\n",
        "plt.xlabel('Explanatory variable')\n",
        "plt.ylabel('Predicted or known target values');"
      ],
      "metadata": {
        "colab": {
          "base_uri": "https://localhost:8080/",
          "height": 455
        },
        "id": "wCR4U6sb7rTk",
        "outputId": "514fc140-a9ef-4f4c-c743-33353268fe27"
      },
      "execution_count": null,
      "outputs": [
        {
          "output_type": "display_data",
          "data": {
            "text/plain": [
              "<Figure size 640x480 with 1 Axes>"
            ],
            "image/png": "[encoded data removed]"
          },
          "metadata": {}
        }
      ]
    },
    {
      "cell_type": "code",
      "source": [
        "# Clear session and set a random seed for consistent behavior.\n",
        "tf.keras.backend.clear_session()\n",
        "tf.random.set_seed(0)\n",
        "\n",
        "# Use Keras Sequential API to build a linear regression model.\n",
        "linear_model = keras.Sequential()\n",
        "\n",
        "# create input layer\n",
        "linear_model.add(tf.keras.Input(shape=(X.shape[1],),\n",
        "    name='Input'\n",
        "))\n",
        "\n",
        "# create output layer\n",
        "linear_model.add(keras.layers.Dense(\n",
        "    activation = None, # linear activation is used\n",
        "    units=1,           # there is a single output\n",
        "    use_bias=True      # include a learned bias parameter\n",
        "))\n",
        "\n",
        "# Use mean squared error as our loss and the Adam optimizer.\n",
        "optimizer = tf.keras.optimizers.Adam(learning_rate=0.01)\n",
        "linear_model.compile(loss='mse', optimizer=optimizer)\n",
        "\n",
        "# Return linear_model\n",
        "linear_model"
      ],
      "metadata": {
        "colab": {
          "base_uri": "https://localhost:8080/"
        },
        "id": "C4lEnJ1B6y_8",
        "outputId": "9eb96602-d9ca-4bbd-bac1-51fd7f411374"
      },
      "execution_count": null,
      "outputs": [
        {
          "output_type": "execute_result",
          "data": {
            "text/plain": [
              "<keras.src.engine.sequential.Sequential at 0x7fa5224229e0>"
            ]
          },
          "metadata": {},
          "execution_count": 93
        }
      ]
    },
    {
      "cell_type": "code",
      "source": [
        "history = linear_model.fit(X, y,\n",
        "                           epochs=10_000,\n",
        "                           verbose=0)\n",
        "history"
      ],
      "metadata": {
        "colab": {
          "base_uri": "https://localhost:8080/"
        },
        "id": "msC85QRG_OS6",
        "outputId": "0a2f4a7d-bcff-454b-a6fb-885e2d3876fa"
      },
      "execution_count": null,
      "outputs": [
        {
          "output_type": "execute_result",
          "data": {
            "text/plain": [
              "<keras.src.callbacks.History at 0x7fa522fadb70>"
            ]
          },
          "metadata": {},
          "execution_count": 94
        }
      ]
    },
    {
      "cell_type": "code",
      "source": [
        "# Use get_weights() which returns lists of weights and biases for the layer.\n",
        "weights, biases = linear_model.layers[0].get_weights()\n",
        "print('Weights:', weights)\n",
        "print('Biases:', biases)"
      ],
      "metadata": {
        "colab": {
          "base_uri": "https://localhost:8080/"
        },
        "id": "LFZsaKvoCQO-",
        "outputId": "c55c7d37-6c42-4c4c-e4bc-4a55c7565997"
      },
      "execution_count": null,
      "outputs": [
        {
          "output_type": "stream",
          "name": "stdout",
          "text": [
            "Weights: [[0.716]]\n",
            "Biases: [45.328]\n"
          ]
        }
      ]
    },
    {
      "cell_type": "code",
      "source": [
        "X_fit = np.arange(250, 600, 10)[:, np.newaxis]\n",
        "\n",
        "X_quad_fit = np.stack((X_fit, [x**2 for x in X_fit]), axis=1)"
      ],
      "metadata": {
        "id": "66n9SnK_FY5t"
      },
      "execution_count": null,
      "outputs": []
    },
    {
      "cell_type": "code",
      "source": [
        "# fit linear features\n",
        "y_lin_fit = linear_model.predict(X_fit)\n",
        "\n",
        "X_fit, y_lin_fit"
      ],
      "metadata": {
        "colab": {
          "base_uri": "https://localhost:8080/"
        },
        "id": "lLoSuWkj-Q0t",
        "outputId": "87ca69c1-6906-4ce5-bea7-d2bd8a13e788"
      },
      "execution_count": null,
      "outputs": [
        {
          "output_type": "stream",
          "name": "stdout",
          "text": [
            "2/2 [==============================] - 0s 5ms/step\n"
          ]
        },
        {
          "output_type": "execute_result",
          "data": {
            "text/plain": [
              "(array([[250],\n",
              "        [260],\n",
              "        [270],\n",
              "        [280],\n",
              "        [290],\n",
              "        [300],\n",
              "        [310],\n",
              "        [320],\n",
              "        [330],\n",
              "        [340],\n",
              "        [350],\n",
              "        [360],\n",
              "        [370],\n",
              "        [380],\n",
              "        [390],\n",
              "        [400],\n",
              "        [410],\n",
              "        [420],\n",
              "        [430],\n",
              "        [440],\n",
              "        [450],\n",
              "        [460],\n",
              "        [470],\n",
              "        [480],\n",
              "        [490],\n",
              "        [500],\n",
              "        [510],\n",
              "        [520],\n",
              "        [530],\n",
              "        [540],\n",
              "        [550],\n",
              "        [560],\n",
              "        [570],\n",
              "        [580],\n",
              "        [590]]),\n",
              " array([[224.26 ],\n",
              "        [231.418],\n",
              "        [238.575],\n",
              "        [245.732],\n",
              "        [252.89 ],\n",
              "        [260.047],\n",
              "        [267.204],\n",
              "        [274.362],\n",
              "        [281.519],\n",
              "        [288.676],\n",
              "        [295.834],\n",
              "        [302.991],\n",
              "        [310.148],\n",
              "        [317.305],\n",
              "        [324.463],\n",
              "        [331.62 ],\n",
              "        [338.777],\n",
              "        [345.935],\n",
              "        [353.092],\n",
              "        [360.249],\n",
              "        [367.407],\n",
              "        [374.564],\n",
              "        [381.721],\n",
              "        [388.879],\n",
              "        [396.036],\n",
              "        [403.193],\n",
              "        [410.35 ],\n",
              "        [417.508],\n",
              "        [424.665],\n",
              "        [431.822],\n",
              "        [438.98 ],\n",
              "        [446.137],\n",
              "        [453.294],\n",
              "        [460.452],\n",
              "        [467.609]], dtype=float32))"
            ]
          },
          "metadata": {},
          "execution_count": 97
        }
      ]
    },
    {
      "cell_type": "code",
      "source": [
        "plt.scatter(X, y, label='Training points')\n",
        "plt.plot(X_fit, y_lin_fit, label='Linear fit', linestyle='--')\n",
        "plt.ylim(200, 450)\n",
        "plt.xlabel('Explanatory variable')\n",
        "plt.ylabel('Predicted or known target values');"
      ],
      "metadata": {
        "colab": {
          "base_uri": "https://localhost:8080/",
          "height": 455
        },
        "id": "WvLTtXBB9FVS",
        "outputId": "248b4edd-3744-48d7-c4e6-1a5873e80e28"
      },
      "execution_count": null,
      "outputs": [
        {
          "output_type": "display_data",
          "data": {
            "text/plain": [
              "<Figure size 640x480 with 1 Axes>"
            ],
            "image/png": "[encoded data removed]"
          },
          "metadata": {}
        }
      ]
    },
    {
      "cell_type": "code",
      "source": [
        "hist = pd.DataFrame(history.history)\n",
        "hist['epoch'] = history.epoch\n",
        "hist.tail().round(1)"
      ],
      "metadata": {
        "colab": {
          "base_uri": "https://localhost:8080/",
          "height": 206
        },
        "id": "nOEsG3GZDgv5",
        "outputId": "80781c57-58e2-48d8-dbbd-3ce8ddd243c3"
      },
      "execution_count": null,
      "outputs": [
        {
          "output_type": "execute_result",
          "data": {
            "text/plain": [
              "       loss  epoch\n",
              "9995  887.2   9995\n",
              "9996  887.2   9996\n",
              "9997  887.1   9997\n",
              "9998  887.0   9998\n",
              "9999  886.9   9999"
            ],
            "text/html": [
              "\n",
              "  <div id=\"df-29fbf377-4177-4a31-bf09-2bf7715c604c\" class=\"colab-df-container\">\n",
              "    <div>\n",
              "<style scoped>\n",
              "    .dataframe tbody tr th:only-of-type {\n",
              "        vertical-align: middle;\n",
              "    }\n",
              "\n",
              "    .dataframe tbody tr th {\n",
              "        vertical-align: top;\n",
              "    }\n",
              "\n",
              "    .dataframe thead th {\n",
              "        text-align: right;\n",
              "    }\n",
              "</style>\n",
              "<table border=\"1\" class=\"dataframe\">\n",
              "  <thead>\n",
              "    <tr style=\"text-align: right;\">\n",
              "      <th></th>\n",
              "      <th>loss</th>\n",
              "      <th>epoch</th>\n",
              "    </tr>\n",
              "  </thead>\n",
              "  <tbody>\n",
              "    <tr>\n",
              "      <th>9995</th>\n",
              "      <td>887.2</td>\n",
              "      <td>9995</td>\n",
              "    </tr>\n",
              "    <tr>\n",
              "      <th>9996</th>\n",
              "      <td>887.2</td>\n",
              "      <td>9996</td>\n",
              "    </tr>\n",
              "    <tr>\n",
              "      <th>9997</th>\n",
              "      <td>887.1</td>\n",
              "      <td>9997</td>\n",
              "    </tr>\n",
              "    <tr>\n",
              "      <th>9998</th>\n",
              "      <td>887.0</td>\n",
              "      <td>9998</td>\n",
              "    </tr>\n",
              "    <tr>\n",
              "      <th>9999</th>\n",
              "      <td>886.9</td>\n",
              "      <td>9999</td>\n",
              "    </tr>\n",
              "  </tbody>\n",
              "</table>\n",
              "</div>\n",
              "    <div class=\"colab-df-buttons\">\n",
              "\n",
              "  <div class=\"colab-df-container\">\n",
              "    <button class=\"colab-df-convert\" onclick=\"convertToInteractive('df-29fbf377-4177-4a31-bf09-2bf7715c604c')\"\n",
              "            title=\"Convert this dataframe to an interactive table.\"\n",
              "            style=\"display:none;\">\n",
              "\n",
              "  <svg xmlns=\"http://www.w3.org/2000/svg\" height=\"24px\" viewBox=\"0 -960 960 960\">\n",
              "    <path d=\"M120-120v-720h720v720H120Zm60-500h600v-160H180v160Zm220 220h160v-160H400v160Zm0 220h160v-160H400v160ZM180-400h160v-160H180v160Zm440 0h160v-160H620v160ZM180-180h160v-160H180v160Zm440 0h160v-160H620v160Z\"/>\n",
              "  </svg>\n",
              "    </button>\n",
              "\n",
              "  <style>\n",
              "    .colab-df-container {\n",
              "      display:flex;\n",
              "      gap: 12px;\n",
              "    }\n",
              "\n",
              "    .colab-df-convert {\n",
              "      background-color: #E8F0FE;\n",
              "      border: none;\n",
              "      border-radius: 50%;\n",
              "      cursor: pointer;\n",
              "      display: none;\n",
              "      fill: #1967D2;\n",
              "      height: 32px;\n",
              "      padding: 0 0 0 0;\n",
              "      width: 32px;\n",
              "    }\n",
              "\n",
              "    .colab-df-convert:hover {\n",
              "      background-color: #E2EBFA;\n",
              "      box-shadow: 0px 1px 2px rgba(60, 64, 67, 0.3), 0px 1px 3px 1px rgba(60, 64, 67, 0.15);\n",
              "      fill: #174EA6;\n",
              "    }\n",
              "\n",
              "    .colab-df-buttons div {\n",
              "      margin-bottom: 4px;\n",
              "    }\n",
              "\n",
              "    [theme=dark] .colab-df-convert {\n",
              "      background-color: #3B4455;\n",
              "      fill: #D2E3FC;\n",
              "    }\n",
              "\n",
              "    [theme=dark] .colab-df-convert:hover {\n",
              "      background-color: #434B5C;\n",
              "      box-shadow: 0px 1px 3px 1px rgba(0, 0, 0, 0.15);\n",
              "      filter: drop-shadow(0px 1px 2px rgba(0, 0, 0, 0.3));\n",
              "      fill: #FFFFFF;\n",
              "    }\n",
              "  </style>\n",
              "\n",
              "    <script>\n",
              "      const buttonEl =\n",
              "        document.querySelector('#df-29fbf377-4177-4a31-bf09-2bf7715c604c button.colab-df-convert');\n",
              "      buttonEl.style.display =\n",
              "        google.colab.kernel.accessAllowed ? 'block' : 'none';\n",
              "\n",
              "      async function convertToInteractive(key) {\n",
              "        const element = document.querySelector('#df-29fbf377-4177-4a31-bf09-2bf7715c604c');\n",
              "        const dataTable =\n",
              "          await google.colab.kernel.invokeFunction('convertToInteractive',\n",
              "                                                    [key], {});\n",
              "        if (!dataTable) return;\n",
              "\n",
              "        const docLinkHtml = 'Like what you see? Visit the ' +\n",
              "          '<a target=\"_blank\" href=https://colab.research.google.com/notebooks/data_table.ipynb>data table notebook</a>'\n",
              "          + ' to learn more about interactive tables.';\n",
              "        element.innerHTML = '';\n",
              "        dataTable['output_type'] = 'display_data';\n",
              "        await google.colab.output.renderOutput(dataTable, element);\n",
              "        const docLink = document.createElement('div');\n",
              "        docLink.innerHTML = docLinkHtml;\n",
              "        element.appendChild(docLink);\n",
              "      }\n",
              "    </script>\n",
              "  </div>\n",
              "\n",
              "\n",
              "<div id=\"df-d22bcd64-1b5e-48f4-bbbf-1582339f079d\">\n",
              "  <button class=\"colab-df-quickchart\" onclick=\"quickchart('df-d22bcd64-1b5e-48f4-bbbf-1582339f079d')\"\n",
              "            title=\"Suggest charts\"\n",
              "            style=\"display:none;\">\n",
              "\n",
              "<svg xmlns=\"http://www.w3.org/2000/svg\" height=\"24px\"viewBox=\"0 0 24 24\"\n",
              "     width=\"24px\">\n",
              "    <g>\n",
              "        <path d=\"M19 3H5c-1.1 0-2 .9-2 2v14c0 1.1.9 2 2 2h14c1.1 0 2-.9 2-2V5c0-1.1-.9-2-2-2zM9 17H7v-7h2v7zm4 0h-2V7h2v10zm4 0h-2v-4h2v4z\"/>\n",
              "    </g>\n",
              "</svg>\n",
              "  </button>\n",
              "\n",
              "<style>\n",
              "  .colab-df-quickchart {\n",
              "      --bg-color: #E8F0FE;\n",
              "      --fill-color: #1967D2;\n",
              "      --hover-bg-color: #E2EBFA;\n",
              "      --hover-fill-color: #174EA6;\n",
              "      --disabled-fill-color: #AAA;\n",
              "      --disabled-bg-color: #DDD;\n",
              "  }\n",
              "\n",
              "  [theme=dark] .colab-df-quickchart {\n",
              "      --bg-color: #3B4455;\n",
              "      --fill-color: #D2E3FC;\n",
              "      --hover-bg-color: #434B5C;\n",
              "      --hover-fill-color: #FFFFFF;\n",
              "      --disabled-bg-color: #3B4455;\n",
              "      --disabled-fill-color: #666;\n",
              "  }\n",
              "\n",
              "  .colab-df-quickchart {\n",
              "    background-color: var(--bg-color);\n",
              "    border: none;\n",
              "    border-radius: 50%;\n",
              "    cursor: pointer;\n",
              "    display: none;\n",
              "    fill: var(--fill-color);\n",
              "    height: 32px;\n",
              "    padding: 0;\n",
              "    width: 32px;\n",
              "  }\n",
              "\n",
              "  .colab-df-quickchart:hover {\n",
              "    background-color: var(--hover-bg-color);\n",
              "    box-shadow: 0 1px 2px rgba(60, 64, 67, 0.3), 0 1px 3px 1px rgba(60, 64, 67, 0.15);\n",
              "    fill: var(--button-hover-fill-color);\n",
              "  }\n",
              "\n",
              "  .colab-df-quickchart-complete:disabled,\n",
              "  .colab-df-quickchart-complete:disabled:hover {\n",
              "    background-color: var(--disabled-bg-color);\n",
              "    fill: var(--disabled-fill-color);\n",
              "    box-shadow: none;\n",
              "  }\n",
              "\n",
              "  .colab-df-spinner {\n",
              "    border: 2px solid var(--fill-color);\n",
              "    border-color: transparent;\n",
              "    border-bottom-color: var(--fill-color);\n",
              "    animation:\n",
              "      spin 1s steps(1) infinite;\n",
              "  }\n",
              "\n",
              "  @keyframes spin {\n",
              "    0% {\n",
              "      border-color: transparent;\n",
              "      border-bottom-color: var(--fill-color);\n",
              "      border-left-color: var(--fill-color);\n",
              "    }\n",
              "    20% {\n",
              "      border-color: transparent;\n",
              "      border-left-color: var(--fill-color);\n",
              "      border-top-color: var(--fill-color);\n",
              "    }\n",
              "    30% {\n",
              "      border-color: transparent;\n",
              "      border-left-color: var(--fill-color);\n",
              "      border-top-color: var(--fill-color);\n",
              "      border-right-color: var(--fill-color);\n",
              "    }\n",
              "    40% {\n",
              "      border-color: transparent;\n",
              "      border-right-color: var(--fill-color);\n",
              "      border-top-color: var(--fill-color);\n",
              "    }\n",
              "    60% {\n",
              "      border-color: transparent;\n",
              "      border-right-color: var(--fill-color);\n",
              "    }\n",
              "    80% {\n",
              "      border-color: transparent;\n",
              "      border-right-color: var(--fill-color);\n",
              "      border-bottom-color: var(--fill-color);\n",
              "    }\n",
              "    90% {\n",
              "      border-color: transparent;\n",
              "      border-bottom-color: var(--fill-color);\n",
              "    }\n",
              "  }\n",
              "</style>\n",
              "\n",
              "  <script>\n",
              "    async function quickchart(key) {\n",
              "      const quickchartButtonEl =\n",
              "        document.querySelector('#' + key + ' button');\n",
              "      quickchartButtonEl.disabled = true;  // To prevent multiple clicks.\n",
              "      quickchartButtonEl.classList.add('colab-df-spinner');\n",
              "      try {\n",
              "        const charts = await google.colab.kernel.invokeFunction(\n",
              "            'suggestCharts', [key], {});\n",
              "      } catch (error) {\n",
              "        console.error('Error during call to suggestCharts:', error);\n",
              "      }\n",
              "      quickchartButtonEl.classList.remove('colab-df-spinner');\n",
              "      quickchartButtonEl.classList.add('colab-df-quickchart-complete');\n",
              "    }\n",
              "    (() => {\n",
              "      let quickchartButtonEl =\n",
              "        document.querySelector('#df-d22bcd64-1b5e-48f4-bbbf-1582339f079d button');\n",
              "      quickchartButtonEl.style.display =\n",
              "        google.colab.kernel.accessAllowed ? 'block' : 'none';\n",
              "    })();\n",
              "  </script>\n",
              "</div>\n",
              "\n",
              "    </div>\n",
              "  </div>\n"
            ],
            "application/vnd.google.colaboratory.intrinsic+json": {
              "type": "dataframe",
              "summary": "{\n  \"name\": \"hist\",\n  \"rows\": 5,\n  \"fields\": [\n    {\n      \"column\": \"loss\",\n      \"properties\": {\n        \"dtype\": \"number\",\n        \"std\": 0.13038404810408263,\n        \"min\": 886.9,\n        \"max\": 887.2,\n        \"num_unique_values\": 4,\n        \"samples\": [\n          887.1,\n          886.9,\n          887.2\n        ],\n        \"semantic_type\": \"\",\n        \"description\": \"\"\n      }\n    },\n    {\n      \"column\": \"epoch\",\n      \"properties\": {\n        \"dtype\": \"number\",\n        \"std\": 1,\n        \"min\": 9995,\n        \"max\": 9999,\n        \"num_unique_values\": 5,\n        \"samples\": [\n          9996,\n          9999,\n          9997\n        ],\n        \"semantic_type\": \"\",\n        \"description\": \"\"\n      }\n    }\n  ]\n}"
            }
          },
          "metadata": {},
          "execution_count": 99
        }
      ]
    },
    {
      "cell_type": "code",
      "source": [],
      "metadata": {
        "id": "5T2bcPn-HRiL"
      },
      "execution_count": null,
      "outputs": []
    },
    {
      "cell_type": "markdown",
      "source": [
        "## Exercise: Repeat the example using a quadratic model:"
      ],
      "metadata": {
        "id": "vrKG77sCDgXd"
      }
    },
    {
      "cell_type": "code",
      "source": [
        "X_quad.shape"
      ],
      "metadata": {
        "colab": {
          "base_uri": "https://localhost:8080/"
        },
        "id": "7mAJufsODzG6",
        "outputId": "1befb54e-2325-409e-827d-7230fae1aeb7"
      },
      "execution_count": null,
      "outputs": [
        {
          "output_type": "execute_result",
          "data": {
            "text/plain": [
              "(10, 2)"
            ]
          },
          "metadata": {},
          "execution_count": 77
        }
      ]
    },
    {
      "cell_type": "code",
      "source": [
        "# Clear session and set a random seed for consistent behavior.\n",
        "tf.keras.backend.clear_session()\n",
        "tf.random.set_seed(0)\n",
        "\n",
        "# Use Keras Sequential API to build a quadratic regression model.\n",
        "quadratic_model = keras.Sequential()\n",
        "\n",
        "# create input layer\n",
        "quadratic_model.add(tf.keras.Input(shape=(X_quad.shape[1],),\n",
        "    name='Input'\n",
        "))\n",
        "\n",
        "# create output layer\n",
        "quadratic_model.add(keras.layers.Dense(\n",
        "    activation = None, # linear activation is used\n",
        "    units=1,           # there is a single output\n",
        "    use_bias=True      # include a learned bias parameter\n",
        "))\n",
        "\n",
        "# Use mean squared error as our loss and the Adam optimizer.\n",
        "optimizer = tf.keras.optimizers.Adam(learning_rate=0.001)\n",
        "quadratic_model.compile(loss='mse', optimizer=optimizer)\n",
        "\n",
        "# Return quadratic_model\n",
        "quadratic_model"
      ],
      "metadata": {
        "colab": {
          "base_uri": "https://localhost:8080/"
        },
        "id": "4vxzVo4k-LxF",
        "outputId": "e2bc347c-2aaa-40c5-956e-d4f018b0ca42"
      },
      "execution_count": null,
      "outputs": [
        {
          "output_type": "execute_result",
          "data": {
            "text/plain": [
              "<keras.src.engine.sequential.Sequential at 0x7fa520819f30>"
            ]
          },
          "metadata": {},
          "execution_count": 83
        }
      ]
    },
    {
      "cell_type": "code",
      "source": [
        "history = quadratic_model.fit(X_quad, y,\n",
        "                              epochs=50_000,\n",
        "                              verbose=0)\n",
        "history"
      ],
      "metadata": {
        "colab": {
          "base_uri": "https://localhost:8080/"
        },
        "outputId": "ca5d367c-494b-45a3-d4f8-3b97d541c76e",
        "id": "6MPPuTlKEGfU"
      },
      "execution_count": null,
      "outputs": [
        {
          "output_type": "execute_result",
          "data": {
            "text/plain": [
              "<keras.src.callbacks.History at 0x7fa52244a590>"
            ]
          },
          "metadata": {},
          "execution_count": 88
        }
      ]
    },
    {
      "cell_type": "code",
      "source": [
        "# Use get_weights() which returns lists of weights and biases for the layer.\n",
        "weights, biases = quadratic_model.layers[0].get_weights()\n",
        "print('Weights:', weights)\n",
        "print('Biases:', biases)"
      ],
      "metadata": {
        "colab": {
          "base_uri": "https://localhost:8080/"
        },
        "outputId": "90389548-5076-49ce-ddc6-55197d011db0",
        "id": "84Kq_FqwEGfV"
      },
      "execution_count": null,
      "outputs": [
        {
          "output_type": "stream",
          "name": "stdout",
          "text": [
            "Weights: [[ 1.229]\n",
            " [-0.001]]\n",
            "Biases: [-10.328]\n"
          ]
        }
      ]
    },
    {
      "cell_type": "code",
      "source": [
        "# fit quadratic features\n",
        "y_quad_fit = quadratic_model.predict(X_quad_fit)\n",
        "\n",
        "X_quad_fit, y_quad_fit"
      ],
      "metadata": {
        "colab": {
          "base_uri": "https://localhost:8080/"
        },
        "outputId": "66cc19c5-db58-4408-d00b-312a508ca989",
        "id": "pZ8nmwT-EGfV"
      },
      "execution_count": null,
      "outputs": [
        {
          "output_type": "stream",
          "name": "stdout",
          "text": [
            "2/2 [==============================] - 0s 4ms/step\n"
          ]
        },
        {
          "output_type": "execute_result",
          "data": {
            "text/plain": [
              "(array([[[   250],\n",
              "         [ 62500]],\n",
              " \n",
              "        [[   260],\n",
              "         [ 67600]],\n",
              " \n",
              "        [[   270],\n",
              "         [ 72900]],\n",
              " \n",
              "        [[   280],\n",
              "         [ 78400]],\n",
              " \n",
              "        [[   290],\n",
              "         [ 84100]],\n",
              " \n",
              "        [[   300],\n",
              "         [ 90000]],\n",
              " \n",
              "        [[   310],\n",
              "         [ 96100]],\n",
              " \n",
              "        [[   320],\n",
              "         [102400]],\n",
              " \n",
              "        [[   330],\n",
              "         [108900]],\n",
              " \n",
              "        [[   340],\n",
              "         [115600]],\n",
              " \n",
              "        [[   350],\n",
              "         [122500]],\n",
              " \n",
              "        [[   360],\n",
              "         [129600]],\n",
              " \n",
              "        [[   370],\n",
              "         [136900]],\n",
              " \n",
              "        [[   380],\n",
              "         [144400]],\n",
              " \n",
              "        [[   390],\n",
              "         [152100]],\n",
              " \n",
              "        [[   400],\n",
              "         [160000]],\n",
              " \n",
              "        [[   410],\n",
              "         [168100]],\n",
              " \n",
              "        [[   420],\n",
              "         [176400]],\n",
              " \n",
              "        [[   430],\n",
              "         [184900]],\n",
              " \n",
              "        [[   440],\n",
              "         [193600]],\n",
              " \n",
              "        [[   450],\n",
              "         [202500]],\n",
              " \n",
              "        [[   460],\n",
              "         [211600]],\n",
              " \n",
              "        [[   470],\n",
              "         [220900]],\n",
              " \n",
              "        [[   480],\n",
              "         [230400]],\n",
              " \n",
              "        [[   490],\n",
              "         [240100]],\n",
              " \n",
              "        [[   500],\n",
              "         [250000]],\n",
              " \n",
              "        [[   510],\n",
              "         [260100]],\n",
              " \n",
              "        [[   520],\n",
              "         [270400]],\n",
              " \n",
              "        [[   530],\n",
              "         [280900]],\n",
              " \n",
              "        [[   540],\n",
              "         [291600]],\n",
              " \n",
              "        [[   550],\n",
              "         [302500]],\n",
              " \n",
              "        [[   560],\n",
              "         [313600]],\n",
              " \n",
              "        [[   570],\n",
              "         [324900]],\n",
              " \n",
              "        [[   580],\n",
              "         [336400]],\n",
              " \n",
              "        [[   590],\n",
              "         [348100]]]),\n",
              " array([[242.462],\n",
              "        [250.304],\n",
              "        [257.971],\n",
              "        [265.464],\n",
              "        [272.782],\n",
              "        [279.926],\n",
              "        [286.895],\n",
              "        [293.689],\n",
              "        [300.309],\n",
              "        [306.754],\n",
              "        [313.025],\n",
              "        [319.12 ],\n",
              "        [325.042],\n",
              "        [330.789],\n",
              "        [336.361],\n",
              "        [341.758],\n",
              "        [346.981],\n",
              "        [352.03 ],\n",
              "        [356.903],\n",
              "        [361.603],\n",
              "        [366.127],\n",
              "        [370.477],\n",
              "        [374.653],\n",
              "        [378.653],\n",
              "        [382.48 ],\n",
              "        [386.131],\n",
              "        [389.608],\n",
              "        [392.911],\n",
              "        [396.039],\n",
              "        [398.992],\n",
              "        [401.77 ],\n",
              "        [404.374],\n",
              "        [406.804],\n",
              "        [409.059],\n",
              "        [411.139]], dtype=float32))"
            ]
          },
          "metadata": {},
          "execution_count": 90
        }
      ]
    },
    {
      "cell_type": "code",
      "source": [
        "plt.scatter(X, y, label='Training points')\n",
        "plt.plot(X_fit, y_lin_fit, label='Linear fit', linestyle='--')\n",
        "plt.plot(X_fit, y_quad_fit, label='Quadratic fit')\n",
        "plt.ylim(200, 450)\n",
        "plt.xlabel('Explanatory variable')\n",
        "plt.ylabel('Predicted or known target values')\n",
        "plt.legend(loc='upper left')\n",
        "plt.tight_layout();"
      ],
      "metadata": {
        "colab": {
          "base_uri": "https://localhost:8080/",
          "height": 487
        },
        "outputId": "415175c4-710e-4efb-d4fb-5d7d788dbdf7",
        "id": "-rCQDlhfEGfV"
      },
      "execution_count": null,
      "outputs": [
        {
          "output_type": "display_data",
          "data": {
            "text/plain": [
              "<Figure size 640x480 with 1 Axes>"
            ],
            "image/png": "[encoded data removed]"
          },
          "metadata": {}
        }
      ]
    },
    {
      "cell_type": "code",
      "source": [
        "hist = pd.DataFrame(history.history)\n",
        "hist['epoch'] = history.epoch\n",
        "hist.tail().round(1)"
      ],
      "metadata": {
        "colab": {
          "base_uri": "https://localhost:8080/",
          "height": 206
        },
        "id": "O7lOiBH3E6DR",
        "outputId": "299b0235-090f-45a8-f2d8-638404dc3943"
      },
      "execution_count": null,
      "outputs": [
        {
          "output_type": "execute_result",
          "data": {
            "text/plain": [
              "        loss  epoch\n",
              "49995  263.0  49995\n",
              "49996  262.9  49996\n",
              "49997  263.2  49997\n",
              "49998  263.4  49998\n",
              "49999  263.3  49999"
            ],
            "text/html": [
              "\n",
              "  <div id=\"df-241fc4d8-8af3-40ed-a00b-a49d2fee17a1\" class=\"colab-df-container\">\n",
              "    <div>\n",
              "<style scoped>\n",
              "    .dataframe tbody tr th:only-of-type {\n",
              "        vertical-align: middle;\n",
              "    }\n",
              "\n",
              "    .dataframe tbody tr th {\n",
              "        vertical-align: top;\n",
              "    }\n",
              "\n",
              "    .dataframe thead th {\n",
              "        text-align: right;\n",
              "    }\n",
              "</style>\n",
              "<table border=\"1\" class=\"dataframe\">\n",
              "  <thead>\n",
              "    <tr style=\"text-align: right;\">\n",
              "      <th></th>\n",
              "      <th>loss</th>\n",
              "      <th>epoch</th>\n",
              "    </tr>\n",
              "  </thead>\n",
              "  <tbody>\n",
              "    <tr>\n",
              "      <th>49995</th>\n",
              "      <td>263.0</td>\n",
              "      <td>49995</td>\n",
              "    </tr>\n",
              "    <tr>\n",
              "      <th>49996</th>\n",
              "      <td>262.9</td>\n",
              "      <td>49996</td>\n",
              "    </tr>\n",
              "    <tr>\n",
              "      <th>49997</th>\n",
              "      <td>263.2</td>\n",
              "      <td>49997</td>\n",
              "    </tr>\n",
              "    <tr>\n",
              "      <th>49998</th>\n",
              "      <td>263.4</td>\n",
              "      <td>49998</td>\n",
              "    </tr>\n",
              "    <tr>\n",
              "      <th>49999</th>\n",
              "      <td>263.3</td>\n",
              "      <td>49999</td>\n",
              "    </tr>\n",
              "  </tbody>\n",
              "</table>\n",
              "</div>\n",
              "    <div class=\"colab-df-buttons\">\n",
              "\n",
              "  <div class=\"colab-df-container\">\n",
              "    <button class=\"colab-df-convert\" onclick=\"convertToInteractive('df-241fc4d8-8af3-40ed-a00b-a49d2fee17a1')\"\n",
              "            title=\"Convert this dataframe to an interactive table.\"\n",
              "            style=\"display:none;\">\n",
              "\n",
              "  <svg xmlns=\"http://www.w3.org/2000/svg\" height=\"24px\" viewBox=\"0 -960 960 960\">\n",
              "    <path d=\"M120-120v-720h720v720H120Zm60-500h600v-160H180v160Zm220 220h160v-160H400v160Zm0 220h160v-160H400v160ZM180-400h160v-160H180v160Zm440 0h160v-160H620v160ZM180-180h160v-160H180v160Zm440 0h160v-160H620v160Z\"/>\n",
              "  </svg>\n",
              "    </button>\n",
              "\n",
              "  <style>\n",
              "    .colab-df-container {\n",
              "      display:flex;\n",
              "      gap: 12px;\n",
              "    }\n",
              "\n",
              "    .colab-df-convert {\n",
              "      background-color: #E8F0FE;\n",
              "      border: none;\n",
              "      border-radius: 50%;\n",
              "      cursor: pointer;\n",
              "      display: none;\n",
              "      fill: #1967D2;\n",
              "      height: 32px;\n",
              "      padding: 0 0 0 0;\n",
              "      width: 32px;\n",
              "    }\n",
              "\n",
              "    .colab-df-convert:hover {\n",
              "      background-color: #E2EBFA;\n",
              "      box-shadow: 0px 1px 2px rgba(60, 64, 67, 0.3), 0px 1px 3px 1px rgba(60, 64, 67, 0.15);\n",
              "      fill: #174EA6;\n",
              "    }\n",
              "\n",
              "    .colab-df-buttons div {\n",
              "      margin-bottom: 4px;\n",
              "    }\n",
              "\n",
              "    [theme=dark] .colab-df-convert {\n",
              "      background-color: #3B4455;\n",
              "      fill: #D2E3FC;\n",
              "    }\n",
              "\n",
              "    [theme=dark] .colab-df-convert:hover {\n",
              "      background-color: #434B5C;\n",
              "      box-shadow: 0px 1px 3px 1px rgba(0, 0, 0, 0.15);\n",
              "      filter: drop-shadow(0px 1px 2px rgba(0, 0, 0, 0.3));\n",
              "      fill: #FFFFFF;\n",
              "    }\n",
              "  </style>\n",
              "\n",
              "    <script>\n",
              "      const buttonEl =\n",
              "        document.querySelector('#df-241fc4d8-8af3-40ed-a00b-a49d2fee17a1 button.colab-df-convert');\n",
              "      buttonEl.style.display =\n",
              "        google.colab.kernel.accessAllowed ? 'block' : 'none';\n",
              "\n",
              "      async function convertToInteractive(key) {\n",
              "        const element = document.querySelector('#df-241fc4d8-8af3-40ed-a00b-a49d2fee17a1');\n",
              "        const dataTable =\n",
              "          await google.colab.kernel.invokeFunction('convertToInteractive',\n",
              "                                                    [key], {});\n",
              "        if (!dataTable) return;\n",
              "\n",
              "        const docLinkHtml = 'Like what you see? Visit the ' +\n",
              "          '<a target=\"_blank\" href=https://colab.research.google.com/notebooks/data_table.ipynb>data table notebook</a>'\n",
              "          + ' to learn more about interactive tables.';\n",
              "        element.innerHTML = '';\n",
              "        dataTable['output_type'] = 'display_data';\n",
              "        await google.colab.output.renderOutput(dataTable, element);\n",
              "        const docLink = document.createElement('div');\n",
              "        docLink.innerHTML = docLinkHtml;\n",
              "        element.appendChild(docLink);\n",
              "      }\n",
              "    </script>\n",
              "  </div>\n",
              "\n",
              "\n",
              "<div id=\"df-838ac0e8-95eb-4702-90b0-82f9be94dd5b\">\n",
              "  <button class=\"colab-df-quickchart\" onclick=\"quickchart('df-838ac0e8-95eb-4702-90b0-82f9be94dd5b')\"\n",
              "            title=\"Suggest charts\"\n",
              "            style=\"display:none;\">\n",
              "\n",
              "<svg xmlns=\"http://www.w3.org/2000/svg\" height=\"24px\"viewBox=\"0 0 24 24\"\n",
              "     width=\"24px\">\n",
              "    <g>\n",
              "        <path d=\"M19 3H5c-1.1 0-2 .9-2 2v14c0 1.1.9 2 2 2h14c1.1 0 2-.9 2-2V5c0-1.1-.9-2-2-2zM9 17H7v-7h2v7zm4 0h-2V7h2v10zm4 0h-2v-4h2v4z\"/>\n",
              "    </g>\n",
              "</svg>\n",
              "  </button>\n",
              "\n",
              "<style>\n",
              "  .colab-df-quickchart {\n",
              "      --bg-color: #E8F0FE;\n",
              "      --fill-color: #1967D2;\n",
              "      --hover-bg-color: #E2EBFA;\n",
              "      --hover-fill-color: #174EA6;\n",
              "      --disabled-fill-color: #AAA;\n",
              "      --disabled-bg-color: #DDD;\n",
              "  }\n",
              "\n",
              "  [theme=dark] .colab-df-quickchart {\n",
              "      --bg-color: #3B4455;\n",
              "      --fill-color: #D2E3FC;\n",
              "      --hover-bg-color: #434B5C;\n",
              "      --hover-fill-color: #FFFFFF;\n",
              "      --disabled-bg-color: #3B4455;\n",
              "      --disabled-fill-color: #666;\n",
              "  }\n",
              "\n",
              "  .colab-df-quickchart {\n",
              "    background-color: var(--bg-color);\n",
              "    border: none;\n",
              "    border-radius: 50%;\n",
              "    cursor: pointer;\n",
              "    display: none;\n",
              "    fill: var(--fill-color);\n",
              "    height: 32px;\n",
              "    padding: 0;\n",
              "    width: 32px;\n",
              "  }\n",
              "\n",
              "  .colab-df-quickchart:hover {\n",
              "    background-color: var(--hover-bg-color);\n",
              "    box-shadow: 0 1px 2px rgba(60, 64, 67, 0.3), 0 1px 3px 1px rgba(60, 64, 67, 0.15);\n",
              "    fill: var(--button-hover-fill-color);\n",
              "  }\n",
              "\n",
              "  .colab-df-quickchart-complete:disabled,\n",
              "  .colab-df-quickchart-complete:disabled:hover {\n",
              "    background-color: var(--disabled-bg-color);\n",
              "    fill: var(--disabled-fill-color);\n",
              "    box-shadow: none;\n",
              "  }\n",
              "\n",
              "  .colab-df-spinner {\n",
              "    border: 2px solid var(--fill-color);\n",
              "    border-color: transparent;\n",
              "    border-bottom-color: var(--fill-color);\n",
              "    animation:\n",
              "      spin 1s steps(1) infinite;\n",
              "  }\n",
              "\n",
              "  @keyframes spin {\n",
              "    0% {\n",
              "      border-color: transparent;\n",
              "      border-bottom-color: var(--fill-color);\n",
              "      border-left-color: var(--fill-color);\n",
              "    }\n",
              "    20% {\n",
              "      border-color: transparent;\n",
              "      border-left-color: var(--fill-color);\n",
              "      border-top-color: var(--fill-color);\n",
              "    }\n",
              "    30% {\n",
              "      border-color: transparent;\n",
              "      border-left-color: var(--fill-color);\n",
              "      border-top-color: var(--fill-color);\n",
              "      border-right-color: var(--fill-color);\n",
              "    }\n",
              "    40% {\n",
              "      border-color: transparent;\n",
              "      border-right-color: var(--fill-color);\n",
              "      border-top-color: var(--fill-color);\n",
              "    }\n",
              "    60% {\n",
              "      border-color: transparent;\n",
              "      border-right-color: var(--fill-color);\n",
              "    }\n",
              "    80% {\n",
              "      border-color: transparent;\n",
              "      border-right-color: var(--fill-color);\n",
              "      border-bottom-color: var(--fill-color);\n",
              "    }\n",
              "    90% {\n",
              "      border-color: transparent;\n",
              "      border-bottom-color: var(--fill-color);\n",
              "    }\n",
              "  }\n",
              "</style>\n",
              "\n",
              "  <script>\n",
              "    async function quickchart(key) {\n",
              "      const quickchartButtonEl =\n",
              "        document.querySelector('#' + key + ' button');\n",
              "      quickchartButtonEl.disabled = true;  // To prevent multiple clicks.\n",
              "      quickchartButtonEl.classList.add('colab-df-spinner');\n",
              "      try {\n",
              "        const charts = await google.colab.kernel.invokeFunction(\n",
              "            'suggestCharts', [key], {});\n",
              "      } catch (error) {\n",
              "        console.error('Error during call to suggestCharts:', error);\n",
              "      }\n",
              "      quickchartButtonEl.classList.remove('colab-df-spinner');\n",
              "      quickchartButtonEl.classList.add('colab-df-quickchart-complete');\n",
              "    }\n",
              "    (() => {\n",
              "      let quickchartButtonEl =\n",
              "        document.querySelector('#df-838ac0e8-95eb-4702-90b0-82f9be94dd5b button');\n",
              "      quickchartButtonEl.style.display =\n",
              "        google.colab.kernel.accessAllowed ? 'block' : 'none';\n",
              "    })();\n",
              "  </script>\n",
              "</div>\n",
              "\n",
              "    </div>\n",
              "  </div>\n"
            ],
            "application/vnd.google.colaboratory.intrinsic+json": {
              "type": "dataframe",
              "summary": "{\n  \"name\": \"hist\",\n  \"rows\": 5,\n  \"fields\": [\n    {\n      \"column\": \"loss\",\n      \"properties\": {\n        \"dtype\": \"number\",\n        \"std\": 0.20736441353327914,\n        \"min\": 262.9,\n        \"max\": 263.4,\n        \"num_unique_values\": 5,\n        \"samples\": [\n          262.9,\n          263.3,\n          263.2\n        ],\n        \"semantic_type\": \"\",\n        \"description\": \"\"\n      }\n    },\n    {\n      \"column\": \"epoch\",\n      \"properties\": {\n        \"dtype\": \"number\",\n        \"std\": 1,\n        \"min\": 49995,\n        \"max\": 49999,\n        \"num_unique_values\": 5,\n        \"samples\": [\n          49996,\n          49999,\n          49997\n        ],\n        \"semantic_type\": \"\",\n        \"description\": \"\"\n      }\n    }\n  ]\n}"
            }
          },
          "metadata": {},
          "execution_count": 92
        }
      ]
    },
    {
      "cell_type": "code",
      "source": [],
      "metadata": {
        "id": "UR2m7_OpHLlp"
      },
      "execution_count": null,
      "outputs": []
    }
  ]
}