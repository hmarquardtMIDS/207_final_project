{
  "nbformat": 4,
  "nbformat_minor": 0,
  "metadata": {
    "colab": {
      "provenance": []
    },
    "kernelspec": {
      "name": "python3",
      "display_name": "Python 3"
    },
    "language_info": {
      "name": "python"
    }
  },
  "cells": [
    {
      "cell_type": "markdown",
      "source": [
        "## [Basic Gradient Descent Algorithm](https://realpython.com/gradient-descent-algorithm-python/)\n",
        "\n",
        "The gradient descent algorithm is an approximate and iterative method for mathematical optimization. You can use it to approach the minimum of any differentiable function.\n",
        "\n",
        "Although gradient descent sometimes gets stuck in a local minimum or a saddle point instead of finding the global minimum, it's widely used in practice. Data science and machine learning methods often apply it internally to optimize model parameters. For example, neural networks find weights and biases with gradient descent."
      ],
      "metadata": {
        "id": "UGKnjJMkhFp8"
      }
    },
    {
      "cell_type": "markdown",
      "source": [
        "## Cost Function: The Goal of Optimization\n",
        "\n",
        "The cost function, or loss function, is the function to be minimized (or maximized) by varying the decision variables. Many machine learning methods solve optimization problems under the surface.\n",
        "\n",
        "They tend to minimize the difference between actual and predicted outputs by adjusting the model parameters (like weights and biases for neural networks, decision rules for random forest or gradient boosting, and so on).\n",
        "\n",
        "In a regression problem, you typically have the vectors of input variables 𝐱 = (𝑥₁, …, 𝑥ᵣ) and the actual outputs 𝑦. You want to find a model that maps 𝐱 to a predicted response 𝑓(𝐱) so that 𝑓(𝐱) is as close as possible to 𝑦. For example, you might want to predict an output such as a person's salary given inputs like the person's number of years at the company or level of education.\n",
        "\n",
        "Your goal is to minimize the difference between the prediction 𝑓(𝐱) and the actual data 𝑦. This difference is called the residual.\n",
        "\n",
        "In this type of problem, you want to minimize the sum of squared residuals (SSR), where SSR = Σᵢ(𝑦ᵢ − 𝑓(𝐱ᵢ))² for all observations 𝑖 = 1, …, 𝑛, where 𝑛 is the total number of observations. Alternatively, you could use the mean squared error (MSE = SSR / 𝑛) instead of SSR.\n",
        "\n",
        "Both SSR and MSE use the square of the difference between the actual and predicted outputs. The lower the difference, the more accurate the prediction. A difference of zero indicates that the prediction is equal to the actual data.\n",
        "\n",
        "SSR or MSE is minimized by adjusting the model parameters. For example, in linear regression, you want to find the function 𝑓(𝐱) = 𝑏₀ + 𝑏₁𝑥₁ + ⋯ + 𝑏ᵣ𝑥ᵣ, so you need to determine the weights 𝑏₀, 𝑏₁, …, 𝑏ᵣ that minimize SSR or MSE."
      ],
      "metadata": {
        "id": "sth3TV-vhcCB"
      }
    },
    {
      "cell_type": "markdown",
      "source": [
        "## Gradient of a Function: Calculus Refresher\n",
        "\n",
        "In calculus, the derivative of a function shows you how much a value changes when you modify its argument (or arguments). Derivatives are important for optimization because the zero derivatives might indicate a minimum, maximum, or saddle point.\n",
        "\n",
        "The gradient of a function 𝐶 of several independent variables 𝑣₁, …, 𝑣ᵣ is denoted with ∇𝐶(𝑣₁, …, 𝑣ᵣ) and defined as the vector function of the partial derivatives of 𝐶 with respect to each independent variable: ∇𝐶 = (∂𝐶/∂𝑣₁, …, ∂𝐶/𝑣ᵣ). The symbol ∇ is called nabla.\n",
        "\n",
        "The nonzero value of the gradient of a function 𝐶 at a given point defines the direction and rate of the fastest increase of 𝐶. When working with gradient descent, you're interested in the direction of the fastest decrease in the cost function. This direction is determined by the negative gradient, −∇𝐶."
      ],
      "metadata": {
        "id": "OSzdxw_oh9th"
      }
    },
    {
      "cell_type": "markdown",
      "source": [
        "## Intuition Behind Gradient Descent\n",
        "\n",
        "To understand the gradient descent algorithm, imagine a drop of water sliding down the side of a bowl or a ball rolling down a hill. The drop and the ball tend to move in the direction of the fastest decrease until they reach the bottom. With time, they'll gain momentum and accelerate.\n",
        "\n",
        "The idea behind gradient descent is similar: you start with an arbitrarily chosen position of the point or vector 𝐯 = (𝑣₁, …, 𝑣ᵣ) and move it iteratively in the direction of the fastest decrease of the cost function. As mentioned, this is the direction of the negative gradient vector, −∇𝐶.\n",
        "\n",
        "Once you have a random starting point 𝐯 = (𝑣₁, …, 𝑣ᵣ), you update it, or move it to a new position in the direction of the negative gradient: 𝐯 → 𝐯 − 𝜂∇𝐶, where 𝜂 (pronounced “ee-tah”) is a small positive value called the learning rate.\n",
        "\n",
        "The learning rate determines how large the update or moving step is. It's a very important parameter. If 𝜂 is too small, then the algorithm might converge very slowly. Large 𝜂 values can also cause issues with convergence or make the algorithm divergent."
      ],
      "metadata": {
        "id": "D6Ht5QcYiRqE"
      }
    },
    {
      "cell_type": "markdown",
      "source": [
        "## Implementation of Basic Gradient Descent\n",
        "\n",
        "Now that you know how the basic gradient descent works, you can implement it in Python. You'll use only plain Python and NumPy, which enables you to write concise code when working with arrays (or vectors) and gain a performance boost.\n",
        "\n",
        "This is a basic implementation of the algorithm that starts with an arbitrary point, start, iteratively moves it toward the minimum, and returns a point that is hopefully at or near the minimum:"
      ],
      "metadata": {
        "id": "990fCxTeibKW"
      }
    },
    {
      "cell_type": "code",
      "execution_count": null,
      "metadata": {
        "id": "SXUQfe4hg8O0"
      },
      "outputs": [],
      "source": [
        "def gradient_descent(gradient, start, learn_rate, n_iter):\n",
        "    vector = start\n",
        "    for _ in range(n_iter):\n",
        "        diff = -learn_rate * gradient(vector)\n",
        "        vector += diff\n",
        "    return vector"
      ]
    },
    {
      "cell_type": "markdown",
      "source": [
        "gradient_descent() takes four arguments:\n",
        "* **gradient** is the function or any Python callable object that takes a vector and returns the gradient of the function you're trying to minimize.\n",
        "* **start** is the point where the algorithm starts its search, given as a sequence (tuple, list, NumPy array, and so on) or scalar (in the case of a one-dimensional problem).\n",
        "* **learn_rate** is the learning rate that controls the magnitude of the vector update.\n",
        "* **n_iter** is the number of iterations.\n",
        "\n",
        "This function does exactly what's described above: it takes a starting point (line 2), iteratively updates it according to the learning rate and the value of the gradient (lines 3 to 5), and finally returns the last position found.\n",
        "\n",
        "Before you apply gradient_descent(), you can add another termination criterion:"
      ],
      "metadata": {
        "id": "yWPZEbnJikLo"
      }
    },
    {
      "cell_type": "code",
      "source": [
        "import numpy as np\n",
        "\n",
        "def gradient_descent(\n",
        "    gradient, start, learn_rate, n_iter=50, tolerance=1e-06\n",
        "):\n",
        "    vector = start\n",
        "    vector_array = [start]\n",
        "    for i in range(n_iter):\n",
        "        diff = -learn_rate * gradient(vector)\n",
        "        if np.all(np.abs(diff) <= tolerance):\n",
        "            print(f'iteration: {i}: vector: {vector}')\n",
        "            break\n",
        "        print(f'iteration: {i}: vector: {vector}')\n",
        "        vector += diff\n",
        "        vector_array.append(vector)\n",
        "    return vector, vector_array"
      ],
      "metadata": {
        "id": "vep954nFi12g"
      },
      "execution_count": null,
      "outputs": []
    },
    {
      "cell_type": "markdown",
      "source": [
        "You now have the additional parameter tolerance (line 4), which specifies the minimal allowed movement in each iteration. You've also defined the default values for tolerance and n_iter, so you don't have to specify them each time you call gradient_descent().\n",
        "\n",
        "Lines 9 and 10 enable gradient_descent() to stop iterating and return the result before n_iter is reached if the vector update in the current iteration is less than or equal to tolerance. This often happens near the minimum, where gradients are usually very small. Unfortunately, it can also happen near a local minimum or a saddle point.\n",
        "\n",
        "Line 9 uses the convenient NumPy functions numpy.all() and numpy.abs() to compare the absolute values of diff and tolerance in a single statement. That's why you import numpy on line 1.\n",
        "\n",
        "Now that you have the first version of gradient_descent(), it's time to test your function. You’ll start with a small example and find the minimum of the function 𝐶 = 𝑣².\n",
        "\n",
        "This function has only one independent variable (𝑣), and its gradient is the derivative 2𝑣. It's a differentiable convex function, and the analytical way to find its minimum is straightforward. However, in practice, analytical differentiation can be difficult or even impossible and is often approximated with numerical methods.\n",
        "\n",
        "You need only one statement to test your gradient descent implementation:"
      ],
      "metadata": {
        "id": "ccIzfh6ejS3N"
      }
    },
    {
      "cell_type": "code",
      "source": [
        "vector, vector_array = gradient_descent(\n",
        "    gradient=lambda v: 2 * v, start=10.0, learn_rate=0.2\n",
        ")\n",
        "vector"
      ],
      "metadata": {
        "colab": {
          "base_uri": "https://localhost:8080/"
        },
        "id": "Te77ACBgi7ll",
        "outputId": "271a64b5-b95f-4695-d2f1-4b35412fa8ac"
      },
      "execution_count": null,
      "outputs": [
        {
          "output_type": "stream",
          "name": "stdout",
          "text": [
            "iteration: 0: vector: 10.0\n",
            "iteration: 1: vector: 6.0\n",
            "iteration: 2: vector: 3.5999999999999996\n",
            "iteration: 3: vector: 2.1599999999999997\n",
            "iteration: 4: vector: 1.2959999999999998\n",
            "iteration: 5: vector: 0.7775999999999998\n",
            "iteration: 6: vector: 0.46655999999999986\n",
            "iteration: 7: vector: 0.2799359999999999\n",
            "iteration: 8: vector: 0.16796159999999993\n",
            "iteration: 9: vector: 0.10077695999999996\n",
            "iteration: 10: vector: 0.06046617599999997\n",
            "iteration: 11: vector: 0.036279705599999976\n",
            "iteration: 12: vector: 0.021767823359999987\n",
            "iteration: 13: vector: 0.013060694015999992\n",
            "iteration: 14: vector: 0.007836416409599995\n",
            "iteration: 15: vector: 0.004701849845759997\n",
            "iteration: 16: vector: 0.002821109907455998\n",
            "iteration: 17: vector: 0.0016926659444735988\n",
            "iteration: 18: vector: 0.0010155995666841593\n",
            "iteration: 19: vector: 0.0006093597400104956\n",
            "iteration: 20: vector: 0.0003656158440062973\n",
            "iteration: 21: vector: 0.0002193695064037784\n",
            "iteration: 22: vector: 0.00013162170384226703\n",
            "iteration: 23: vector: 7.897302230536021e-05\n",
            "iteration: 24: vector: 4.7383813383216124e-05\n",
            "iteration: 25: vector: 2.8430288029929674e-05\n",
            "iteration: 26: vector: 1.7058172817957805e-05\n",
            "iteration: 27: vector: 1.0234903690774682e-05\n",
            "iteration: 28: vector: 6.1409422144648085e-06\n",
            "iteration: 29: vector: 3.684565328678885e-06\n",
            "iteration: 30: vector: 2.210739197207331e-06\n"
          ]
        },
        {
          "output_type": "execute_result",
          "data": {
            "text/plain": [
              "2.210739197207331e-06"
            ]
          },
          "metadata": {},
          "execution_count": 39
        }
      ]
    },
    {
      "cell_type": "markdown",
      "source": [
        "You use the lambda function lambda v: 2 * v to provide the gradient of 𝑣². You start from the value 10.0 and set the learning rate to 0.2. You get a result that's very close to zero, which is the correct minimum.\n",
        "\n",
        "The figure below shows the movement of the solution through the iterations:"
      ],
      "metadata": {
        "id": "RXLKwONijpkx"
      }
    },
    {
      "cell_type": "code",
      "source": [
        "import matplotlib.pyplot as plt\n",
        "\n",
        "xs = np.linspace(-10, 10) # np.arange(-10, 11)\n",
        "ys = xs**2\n",
        "vsq = [v**2 for v in vector_array]\n",
        "plt.plot(xs, ys, '-', vector_array, vsq, 'k-', vector_array, vsq, 'go')\n",
        "plt.xlim(-11,11)\n",
        "plt.ylabel('C(v)');"
      ],
      "metadata": {
        "colab": {
          "base_uri": "https://localhost:8080/",
          "height": 430
        },
        "id": "dc1QnW2djdZw",
        "outputId": "11d080a1-10ac-4349-8389-de1afd6590e2"
      },
      "execution_count": null,
      "outputs": [
        {
          "output_type": "display_data",
          "data": {
            "text/plain": [
              "<Figure size 640x480 with 1 Axes>"
            ],
            "image/png": "[encoded data removed]"
          },
          "metadata": {}
        }
      ]
    },
    {
      "cell_type": "markdown",
      "source": [
        "## Learning Rate Impact\n",
        "\n",
        "The learning rate is a very important parameter of the algorithm. Different learning rate values can significantly affect the behavior of gradient descent. Consider the previous example, but with a learning rate of 0.8 instead of 0.2:"
      ],
      "metadata": {
        "id": "ZG-MmWgpIWPs"
      }
    },
    {
      "cell_type": "code",
      "source": [
        "# A learning rate of 0.8 instead of 0.2\n",
        "_, varr = gradient_descent(gradient=lambda v: 2 * v, start=10.0, learn_rate=0.8)"
      ],
      "metadata": {
        "colab": {
          "base_uri": "https://localhost:8080/"
        },
        "id": "NfFTfuljJfT1",
        "outputId": "4ece79a1-d5ea-4116-817e-8a8718b41189"
      },
      "execution_count": null,
      "outputs": [
        {
          "output_type": "stream",
          "name": "stdout",
          "text": [
            "iteration: 0: vector: 10.0\n",
            "iteration: 1: vector: -6.0\n",
            "iteration: 2: vector: 3.6000000000000014\n",
            "iteration: 3: vector: -2.160000000000001\n",
            "iteration: 4: vector: 1.2960000000000007\n",
            "iteration: 5: vector: -0.7776000000000005\n",
            "iteration: 6: vector: 0.4665600000000003\n",
            "iteration: 7: vector: -0.2799360000000002\n",
            "iteration: 8: vector: 0.16796160000000016\n",
            "iteration: 9: vector: -0.10077696000000008\n",
            "iteration: 10: vector: 0.060466176000000066\n",
            "iteration: 11: vector: -0.036279705600000045\n",
            "iteration: 12: vector: 0.02176782336000003\n",
            "iteration: 13: vector: -0.013060694016000018\n",
            "iteration: 14: vector: 0.007836416409600012\n",
            "iteration: 15: vector: -0.004701849845760008\n",
            "iteration: 16: vector: 0.002821109907456005\n",
            "iteration: 17: vector: -0.001692665944473603\n",
            "iteration: 18: vector: 0.0010155995666841621\n",
            "iteration: 19: vector: -0.0006093597400104974\n",
            "iteration: 20: vector: 0.00036561584400629846\n",
            "iteration: 21: vector: -0.00021936950640377912\n",
            "iteration: 22: vector: 0.00013162170384226751\n",
            "iteration: 23: vector: -7.897302230536053e-05\n",
            "iteration: 24: vector: 4.738381338321632e-05\n",
            "iteration: 25: vector: -2.8430288029929792e-05\n",
            "iteration: 26: vector: 1.705817281795788e-05\n",
            "iteration: 27: vector: -1.0234903690774729e-05\n",
            "iteration: 28: vector: 6.140942214464838e-06\n",
            "iteration: 29: vector: -3.6845653286789035e-06\n",
            "iteration: 30: vector: 2.2107391972073423e-06\n",
            "iteration: 31: vector: -1.3264435183244054e-06\n",
            "iteration: 32: vector: 7.958661109946432e-07\n",
            "iteration: 33: vector: -4.77519666596786e-07\n"
          ]
        }
      ]
    },
    {
      "cell_type": "markdown",
      "source": [
        "You get another solution that's very close to zero, but the internal behavior of the algorithm is different. This is what happens with the value of 𝑣 through the iterations:"
      ],
      "metadata": {
        "id": "f16BbI23JniY"
      }
    },
    {
      "cell_type": "code",
      "source": [
        "vsq = [v**2 for v in varr]\n",
        "plt.plot(xs, ys, '-', varr, vsq, 'k-', varr, vsq, 'go')\n",
        "plt.xlim(-11,11)\n",
        "plt.ylabel('C(v)');"
      ],
      "metadata": {
        "colab": {
          "base_uri": "https://localhost:8080/",
          "height": 430
        },
        "id": "0tkXlJH5IK0s",
        "outputId": "635dbd7b-be36-4e45-9f1f-b2f0974180fa"
      },
      "execution_count": null,
      "outputs": [
        {
          "output_type": "display_data",
          "data": {
            "text/plain": [
              "<Figure size 640x480 with 1 Axes>"
            ],
            "image/png": "[encoded data removed]"
          },
          "metadata": {}
        }
      ]
    },
    {
      "cell_type": "markdown",
      "source": [
        "In this case, you again start with 𝑣 = 10, but because of the high learning rate, you get a large change in 𝑣 that passes to the other side of the optimum and becomes −6. It crosses zero a few more times before settling near it.\n",
        "\n",
        "Small learning rates can result in very slow convergence. If the number of iterations is limited, then the algorithm may return before the minimum is found. Otherwise, the whole process might take an unacceptably large amount of time. To illustrate this, run gradient_descent() again, this time with a much smaller learning rate of 0.005:"
      ],
      "metadata": {
        "id": "gOu3CnQmJu8l"
      }
    },
    {
      "cell_type": "code",
      "source": [
        "# A learning rate of 0.8 instead of 0.2\n",
        "_, varr = gradient_descent(gradient=lambda v: 2 * v, start=10.0, learn_rate=0.005)"
      ],
      "metadata": {
        "colab": {
          "base_uri": "https://localhost:8080/"
        },
        "id": "7FJHlv_uIKxz",
        "outputId": "28b07786-d014-4395-c7be-8c3bd9bac4eb"
      },
      "execution_count": null,
      "outputs": [
        {
          "output_type": "stream",
          "name": "stdout",
          "text": [
            "iteration: 0: vector: 10.0\n",
            "iteration: 1: vector: 9.9\n",
            "iteration: 2: vector: 9.801\n",
            "iteration: 3: vector: 9.70299\n",
            "iteration: 4: vector: 9.605960099999999\n",
            "iteration: 5: vector: 9.509900498999999\n",
            "iteration: 6: vector: 9.414801494009998\n",
            "iteration: 7: vector: 9.320653479069898\n",
            "iteration: 8: vector: 9.2274469442792\n",
            "iteration: 9: vector: 9.135172474836407\n",
            "iteration: 10: vector: 9.043820750088043\n",
            "iteration: 11: vector: 8.953382542587162\n",
            "iteration: 12: vector: 8.863848717161291\n",
            "iteration: 13: vector: 8.775210229989678\n",
            "iteration: 14: vector: 8.687458127689782\n",
            "iteration: 15: vector: 8.600583546412883\n",
            "iteration: 16: vector: 8.514577710948755\n",
            "iteration: 17: vector: 8.429431933839268\n",
            "iteration: 18: vector: 8.345137614500876\n",
            "iteration: 19: vector: 8.261686238355868\n",
            "iteration: 20: vector: 8.17906937597231\n",
            "iteration: 21: vector: 8.097278682212586\n",
            "iteration: 22: vector: 8.01630589539046\n",
            "iteration: 23: vector: 7.936142836436555\n",
            "iteration: 24: vector: 7.856781408072189\n",
            "iteration: 25: vector: 7.778213593991468\n",
            "iteration: 26: vector: 7.700431458051553\n",
            "iteration: 27: vector: 7.623427143471037\n",
            "iteration: 28: vector: 7.547192872036327\n",
            "iteration: 29: vector: 7.4717209433159635\n",
            "iteration: 30: vector: 7.397003733882804\n",
            "iteration: 31: vector: 7.323033696543976\n",
            "iteration: 32: vector: 7.249803359578536\n",
            "iteration: 33: vector: 7.177305325982751\n",
            "iteration: 34: vector: 7.1055322727229235\n",
            "iteration: 35: vector: 7.034476949995694\n",
            "iteration: 36: vector: 6.964132180495738\n",
            "iteration: 37: vector: 6.89449085869078\n",
            "iteration: 38: vector: 6.825545950103872\n",
            "iteration: 39: vector: 6.757290490602833\n",
            "iteration: 40: vector: 6.689717585696805\n",
            "iteration: 41: vector: 6.622820409839837\n",
            "iteration: 42: vector: 6.556592205741438\n",
            "iteration: 43: vector: 6.491026283684024\n",
            "iteration: 44: vector: 6.426116020847183\n",
            "iteration: 45: vector: 6.3618548606387115\n",
            "iteration: 46: vector: 6.298236312032325\n",
            "iteration: 47: vector: 6.235253948912002\n",
            "iteration: 48: vector: 6.172901409422882\n",
            "iteration: 49: vector: 6.111172395328653\n"
          ]
        }
      ]
    },
    {
      "cell_type": "code",
      "source": [
        "vsq = [v**2 for v in varr]\n",
        "plt.plot(xs, ys, '-', varr, vsq, 'k-', varr, vsq, 'go')\n",
        "plt.xlim(-11,11)\n",
        "plt.ylabel('C(v)');"
      ],
      "metadata": {
        "colab": {
          "base_uri": "https://localhost:8080/",
          "height": 430
        },
        "id": "DLU-4F6VIKvv",
        "outputId": "cd94ec2d-c62b-4b36-adcb-dfb35ea984e5"
      },
      "execution_count": null,
      "outputs": [
        {
          "output_type": "display_data",
          "data": {
            "text/plain": [
              "<Figure size 640x480 with 1 Axes>"
            ],
            "image/png": "[encoded data removed]"
          },
          "metadata": {}
        }
      ]
    },
    {
      "cell_type": "markdown",
      "source": [
        "The search process starts at 𝑣 = 10 as before, but it can't reach zero in fifty iterations. However, with a hundred iterations, the error will be much smaller, and with a thousand iterations, you'll be very close to zero.\n",
        "\n",
        "Nonconvex functions might have local minima or saddle points where the algorithm can get trapped. In such situations, your choice of learning rate or starting point can make the difference between finding a local minimum and finding the global minimum."
      ],
      "metadata": {
        "id": "0nXTiYTLKGL7"
      }
    },
    {
      "cell_type": "markdown",
      "source": [
        "## Ordinary Least Squares\n",
        "\n",
        "As you've already learned, linear regression and the ordinary least squares method start with the observed values of the inputs 𝐱 = (𝑥₁, …, 𝑥ᵣ) and outputs 𝑦. They define a linear function 𝑓(𝐱) = 𝑏₀ + 𝑏₁𝑥₁ + ⋯ + 𝑏ᵣ𝑥ᵣ, which is as close as possible to 𝑦.\n",
        "\n",
        "This is an optimization problem. It finds the values of weights 𝑏₀, 𝑏₁, …, 𝑏ᵣ that minimize the sum of squared residuals SSR = Σᵢ(𝑦ᵢ − 𝑓(𝐱ᵢ))² or the mean squared error MSE = SSR / 𝑛. Here, 𝑛 is the total number of observations and 𝑖 = 1, …, 𝑛.\n",
        "\n",
        "You can also use the cost function 𝐶 = SSR / (2𝑛), which is mathematically more convenient than SSR or MSE.\n",
        "\n",
        "The most basic form of linear regression is simple linear regression. It has only one set of inputs 𝑥 and two weights: 𝑏₀ and 𝑏₁. The equation of the regression line is 𝑓(𝑥) = 𝑏₀ + 𝑏₁𝑥. Although the optimal values of 𝑏₀ and 𝑏₁ can be calculated analytically, you'll use gradient descent to determine them.\n",
        "\n",
        "First, you need calculus to find the gradient of the cost function 𝐶 = Σᵢ(𝑦ᵢ − 𝑏₀ − 𝑏₁𝑥ᵢ)² / (2𝑛). Since you have two decision variables, 𝑏₀ and 𝑏₁, the gradient ∇𝐶 is a vector with two components:\n",
        "\n",
        "∂𝐶/∂𝑏₀ = (1/𝑛) Σᵢ(𝑏₀ + 𝑏₁𝑥ᵢ − 𝑦ᵢ) = mean(𝑏₀ + 𝑏₁𝑥ᵢ − 𝑦ᵢ)\n",
        "∂𝐶/∂𝑏₁ = (1/𝑛) Σᵢ(𝑏₀ + 𝑏₁𝑥ᵢ − 𝑦ᵢ) 𝑥ᵢ = mean((𝑏₀ + 𝑏₁𝑥ᵢ − 𝑦ᵢ) 𝑥ᵢ)\n",
        "You need the values of 𝑥 and 𝑦 to calculate the gradient of this cost function. Your gradient function will have as inputs not only 𝑏₀ and 𝑏₁ but also 𝑥 and 𝑦. This is how it might look:"
      ],
      "metadata": {
        "id": "QXwrfEJaKaCu"
      }
    },
    {
      "cell_type": "code",
      "source": [
        "def ssr_gradient(x, y, b):\n",
        "    res = b[0] + b[1] * x - y\n",
        "    return res.mean(), (res * x).mean()  # .mean() is a method of np.ndarray"
      ],
      "metadata": {
        "id": "lw5Fsu8CIKs5"
      },
      "execution_count": null,
      "outputs": []
    },
    {
      "cell_type": "markdown",
      "source": [
        "ssr_gradient() takes the arrays x and y, which contain the observation inputs and outputs, and the array b that holds the current values of the decision variables 𝑏₀ and 𝑏₁. This function first calculates the array of the residuals for each observation (res) and then returns the pair of values of ∂𝐶/∂𝑏₀ and ∂𝐶/∂𝑏₁.\n",
        "\n",
        "In this example, you can use the convenient NumPy method ndarray.mean() since you pass NumPy arrays as the arguments.\n",
        "\n",
        "gradient_descent() needs two small adjustments:\n",
        "\n",
        "Add x and y as the parameters of gradient_descent() on line 4.\n",
        "Provide x and y to the gradient function and make sure you convert your gradient tuple to a NumPy array on line 8.\n",
        "Here's how gradient_descent() looks after these changes:"
      ],
      "metadata": {
        "id": "AGqzR40JKpU4"
      }
    },
    {
      "cell_type": "code",
      "source": [
        "import numpy as np\n",
        "\n",
        "def gradient_descent(\n",
        "    gradient, x, y, start, learn_rate=0.1, n_iter=50, tolerance=1e-06\n",
        "):\n",
        "    vector = start\n",
        "    vector_array = [start]\n",
        "    for i in range(n_iter):\n",
        "        diff = -learn_rate * np.array(gradient(x, y, vector))\n",
        "        if np.all(np.abs(diff) <= tolerance):\n",
        "            # print(f'iteration: {i}: vector: {vector}')\n",
        "            break\n",
        "        # print(f'iteration: {i}: vector: {vector}')\n",
        "        vector += diff\n",
        "        vector_array.append(vector)\n",
        "    return vector, vector_array"
      ],
      "metadata": {
        "id": "BtXEbnlTIKqP"
      },
      "execution_count": null,
      "outputs": []
    },
    {
      "cell_type": "markdown",
      "source": [
        "gradient_descent() now accepts the observation inputs x and outputs y and can use them to calculate the gradient. Converting the output of gradient(x, y, vector) to a NumPy array enables elementwise multiplication of the gradient elements by the learning rate, which isn't necessary in the case of a single-variable function.\n",
        "\n",
        "Now apply your new version of gradient_descent() to find the regression line for some arbitrary values of x and y:"
      ],
      "metadata": {
        "id": "tLiWO3uLLKLf"
      }
    },
    {
      "cell_type": "code",
      "source": [
        "x = np.array([5, 15, 25, 35, 45, 55])\n",
        "y = np.array([5, 20, 14, 32, 22, 38])\n",
        "\n",
        "x, y"
      ],
      "metadata": {
        "colab": {
          "base_uri": "https://localhost:8080/"
        },
        "id": "YTZMs75oIKnH",
        "outputId": "2a27ab00-2387-47b4-891d-351290ca13ca"
      },
      "execution_count": null,
      "outputs": [
        {
          "output_type": "execute_result",
          "data": {
            "text/plain": [
              "(array([ 5, 15, 25, 35, 45, 55]), array([ 5, 20, 14, 32, 22, 38]))"
            ]
          },
          "metadata": {},
          "execution_count": 6
        }
      ]
    },
    {
      "cell_type": "code",
      "source": [
        "vector, _ = gradient_descent(\n",
        "    ssr_gradient, x, y, start=[0.5, 0.5], learn_rate=0.0008,\n",
        "    n_iter=100_000\n",
        ")\n",
        "vector"
      ],
      "metadata": {
        "colab": {
          "base_uri": "https://localhost:8080/"
        },
        "id": "mwmFwrEOOmhP",
        "outputId": "677cf17b-325e-4cbc-8cf9-0b48e3274380"
      },
      "execution_count": null,
      "outputs": [
        {
          "output_type": "execute_result",
          "data": {
            "text/plain": [
              "array([5.62822349, 0.54012867])"
            ]
          },
          "metadata": {},
          "execution_count": 101
        }
      ]
    },
    {
      "cell_type": "code",
      "source": [
        "def abline(slope, intercept):\n",
        "    \"\"\"Plot a line from slope and intercept\"\"\"\n",
        "    axes = plt.gca()\n",
        "    x_vals = np.array(axes.get_xlim())\n",
        "    y_vals = intercept + slope * x_vals\n",
        "    plt.plot(x_vals, y_vals, '--')"
      ],
      "metadata": {
        "id": "Rsfswb2HTWIM"
      },
      "execution_count": null,
      "outputs": []
    },
    {
      "cell_type": "code",
      "source": [
        "plt.scatter(x, y, c='steelblue', edgecolor='white', s=70)\n",
        "abline(vector[1], vector[0]);"
      ],
      "metadata": {
        "colab": {
          "base_uri": "https://localhost:8080/",
          "height": 430
        },
        "id": "XAlRXOC1SP7v",
        "outputId": "8d88599a-a267-4e8d-fcfc-fdaead37e7c4"
      },
      "execution_count": null,
      "outputs": [
        {
          "output_type": "display_data",
          "data": {
            "text/plain": [
              "<Figure size 640x480 with 1 Axes>"
            ],
            "image/png": "[encoded data removed]"
          },
          "metadata": {}
        }
      ]
    },
    {
      "cell_type": "markdown",
      "source": [
        "The result is an array with two values that correspond to the decision variables: 𝑏₀ = 5.63 and 𝑏₁ = 0.54. The best regression line is 𝑓(𝑥) = 5.63 + 0.54𝑥. As in the previous examples, this result heavily depends on the learning rate. You might not get such a good result with too low or too high of a learning rate."
      ],
      "metadata": {
        "id": "eEOml2jnLtk7"
      }
    },
    {
      "cell_type": "code",
      "source": [],
      "metadata": {
        "id": "R6dDKeZYeOAX"
      },
      "execution_count": null,
      "outputs": []
    },
    {
      "cell_type": "markdown",
      "source": [
        "## Exercise 1: Repeat gradient descent example using [Sebastian Raschka's implementation of gradient descent in Chapter 10 of Python Machine Learning](https://github.com/rasbt/python-machine-learning-book-3rd-edition/blob/master/ch10/ch10.ipynb):"
      ],
      "metadata": {
        "id": "cIy9rkzAeT9a"
      }
    },
    {
      "cell_type": "code",
      "source": [
        "class LinearRegressionGD(object):\n",
        "\n",
        "    def __init__(self, eta=0.001, n_iter=20):\n",
        "        self.eta = eta\n",
        "        self.n_iter = n_iter\n",
        "\n",
        "    def fit(self, X, y):\n",
        "        self.w_ = np.zeros(1 + X.shape[1])\n",
        "        self.cost_ = []\n",
        "\n",
        "        for i in range(self.n_iter):\n",
        "            output = self.net_input(X)\n",
        "            errors = (y - output)\n",
        "            self.w_[1:] += self.eta * X.T.dot(errors)\n",
        "            self.w_[0] += self.eta * errors.sum()\n",
        "            cost = (errors**2).sum() / 2.0\n",
        "            self.cost_.append(cost)\n",
        "        return self\n",
        "\n",
        "    def net_input(self, X):\n",
        "        return np.dot(X, self.w_[1:]) + self.w_[0]\n",
        "\n",
        "    def predict(self, X):\n",
        "        return self.net_input(X)"
      ],
      "metadata": {
        "id": "gIQq6oxJaURy"
      },
      "execution_count": null,
      "outputs": []
    },
    {
      "cell_type": "code",
      "source": [
        "lr = LinearRegressionGD(eta=0.0002, n_iter=100_000)\n",
        "\n",
        "lr.fit(x.reshape(-1,1), y)"
      ],
      "metadata": {
        "colab": {
          "base_uri": "https://localhost:8080/"
        },
        "id": "s0QGPpUvLJBb",
        "outputId": "ed534646-f1c2-4a3c-a56b-bc2c8d96123b"
      },
      "execution_count": null,
      "outputs": [
        {
          "output_type": "execute_result",
          "data": {
            "text/plain": [
              "<__main__.LinearRegressionGD at 0x7d8ea701f280>"
            ]
          },
          "metadata": {},
          "execution_count": 184
        }
      ]
    },
    {
      "cell_type": "code",
      "source": [
        "lr.w_"
      ],
      "metadata": {
        "colab": {
          "base_uri": "https://localhost:8080/"
        },
        "id": "rP6wtoxvIKkS",
        "outputId": "494caddb-96c7-41fa-d346-b9677982cf64"
      },
      "execution_count": null,
      "outputs": [
        {
          "output_type": "execute_result",
          "data": {
            "text/plain": [
              "array([5.63333333, 0.54      ])"
            ]
          },
          "metadata": {},
          "execution_count": 185
        }
      ]
    },
    {
      "cell_type": "code",
      "source": [],
      "metadata": {
        "id": "c1unMN0Rencd"
      },
      "execution_count": null,
      "outputs": []
    },
    {
      "cell_type": "markdown",
      "source": [
        "## Exercise 2: Repeat gradient descent example using [Geeks for Geeks' implementation of gradient descent](https://www.geeksforgeeks.org/how-to-implement-a-gradient-descent-in-python-to-find-a-local-minimum/):"
      ],
      "metadata": {
        "id": "GTUcD6RaMKnx"
      }
    },
    {
      "cell_type": "code",
      "source": [
        "def mean_squared_error(y_true, y_predicted):\n",
        "\n",
        "\t# Calculating the loss or cost\n",
        "\tcost = np.sum((y_true-y_predicted)**2) / len(y_true)\n",
        "\treturn cost"
      ],
      "metadata": {
        "id": "At7jXiZNYnMQ"
      },
      "execution_count": null,
      "outputs": []
    },
    {
      "cell_type": "code",
      "source": [
        "# Gradient Descent Function\n",
        "# Here iterations, learning_rate, stopping_threshold\n",
        "# are hyperparameters that can be tuned\n",
        "def gradient_descent(x, y,\n",
        "                     iterations = 1000,\n",
        "                     learning_rate = 0.0001,\n",
        "                     stopping_threshold = 1e-6):\n",
        "\n",
        "  # Initializing weight, bias, learning rate and iterations\n",
        "  current_weight = 0.1\n",
        "  current_bias = 0.01\n",
        "  iterations = iterations\n",
        "  learning_rate = learning_rate\n",
        "  n = float(len(x))\n",
        "\n",
        "  costs = []\n",
        "  weights = []\n",
        "  previous_cost = None\n",
        "\n",
        "  # Estimation of optimal parameters\n",
        "  for i in range(iterations):\n",
        "\n",
        "    # Making predictions\n",
        "    y_predicted = (current_weight * x) + current_bias\n",
        "\n",
        "    # Calculating the current cost\n",
        "    current_cost = mean_squared_error(y, y_predicted)\n",
        "\n",
        "    # If the change in cost is less than or equal to\n",
        "    # stopping_threshold we stop the gradient descent\n",
        "    if previous_cost and abs(previous_cost-current_cost)<=stopping_threshold:\n",
        "      break\n",
        "\n",
        "    previous_cost = current_cost\n",
        "\n",
        "    costs.append(current_cost)\n",
        "    weights.append(current_weight)\n",
        "\n",
        "    # Calculating the gradients\n",
        "    weight_derivative = -(2/n) * sum(x * (y-y_predicted))\n",
        "    bias_derivative = -(2/n) * sum(y-y_predicted)\n",
        "\n",
        "    # Updating weights and bias\n",
        "    current_weight = current_weight - (learning_rate * weight_derivative)\n",
        "    current_bias = current_bias - (learning_rate * bias_derivative)\n",
        "\n",
        "    # Printing the parameters for each 1000th iteration\n",
        "    # print(f\"Iteration {i+1}: Cost {current_cost}, Weight {current_weight}, Bias {current_bias}\")\n",
        "\n",
        "\n",
        "  # Visualizing the weights and cost at for all iterations\n",
        "  plt.figure(figsize = (8,6))\n",
        "  plt.plot(weights, costs)\n",
        "  plt.scatter(weights, costs, marker='o', color='red')\n",
        "  plt.title(\"Cost vs Weights\")\n",
        "  plt.ylabel(\"Cost\")\n",
        "  plt.xlabel(\"Weight\")\n",
        "  plt.show()\n",
        "\n",
        "  return current_weight, current_bias"
      ],
      "metadata": {
        "id": "HIF6AnqeYp1h"
      },
      "execution_count": null,
      "outputs": []
    },
    {
      "cell_type": "code",
      "source": [
        "estimated_weight, estimated_bias = gradient_descent(x, y, learning_rate=.0008, iterations=100_000)\n",
        "print(f\"\\n\\nEstimated Weight: {estimated_weight}\\nEstimated Bias: {estimated_bias}\\n\\n\")\n",
        "\n",
        "# Making predictions using estimated parameters\n",
        "y_pred = estimated_weight*x + estimated_bias\n",
        "\n",
        "# Plotting the regression line\n",
        "plt.figure(figsize = (8,6))\n",
        "plt.scatter(x, y, marker='o', color='red')\n",
        "plt.plot([min(x), max(x)],\n",
        "         [min(y_pred), max(y_pred)],\n",
        "         color='blue',\n",
        "         markerfacecolor='red',\n",
        "         markersize=10,\n",
        "         linestyle='dashed')\n",
        "plt.xlabel(\"X\")\n",
        "plt.ylabel(\"Y\");"
      ],
      "metadata": {
        "colab": {
          "base_uri": "https://localhost:8080/",
          "height": 1000
        },
        "id": "FC_M94hpSNG7",
        "outputId": "fe5c3984-51e2-4f98-a7d1-98658340d117"
      },
      "execution_count": null,
      "outputs": [
        {
          "output_type": "display_data",
          "data": {
            "text/plain": [
              "<Figure size 800x600 with 1 Axes>"
            ],
            "image/png": "[encoded data removed]"
          },
          "metadata": {}
        },
        {
          "output_type": "stream",
          "name": "stdout",
          "text": [
            "\n",
            "\n",
            "Estimated Weight: 0.5418184443769284\n",
            "Estimated Bias: 5.561115508089055\n",
            "\n",
            "\n"
          ]
        },
        {
          "output_type": "display_data",
          "data": {
            "text/plain": [
              "<Figure size 800x600 with 1 Axes>"
            ],
            "image/png": "[encoded data removed]"
          },
          "metadata": {}
        }
      ]
    },
    {
      "cell_type": "code",
      "source": [],
      "metadata": {
        "id": "GiqcivnDep2k"
      },
      "execution_count": null,
      "outputs": []
    },
    {
      "cell_type": "markdown",
      "source": [
        "## Exercise 3: Fit linear regression with scikit-learn"
      ],
      "metadata": {
        "id": "D8u5qhBiMAPL"
      }
    },
    {
      "cell_type": "code",
      "source": [
        "from sklearn.linear_model import LinearRegression\n",
        "slr = LinearRegression()\n",
        "slr.fit(x.reshape(-1,1), y)"
      ],
      "metadata": {
        "colab": {
          "base_uri": "https://localhost:8080/",
          "height": 75
        },
        "id": "u_QweG7VqISv",
        "outputId": "53977c3a-a59a-4300-c3a2-0cd60deca3e1"
      },
      "execution_count": null,
      "outputs": [
        {
          "output_type": "execute_result",
          "data": {
            "text/plain": [
              "LinearRegression()"
            ],
            "text/html": [
              "<style>#sk-container-id-5 {color: black;background-color: white;}#sk-container-id-5 pre{padding: 0;}#sk-container-id-5 div.sk-toggleable {background-color: white;}#sk-container-id-5 label.sk-toggleable__label {cursor: pointer;display: block;width: 100%;margin-bottom: 0;padding: 0.3em;box-sizing: border-box;text-align: center;}#sk-container-id-5 label.sk-toggleable__label-arrow:before {content: \"▸\";float: left;margin-right: 0.25em;color: #696969;}#sk-container-id-5 label.sk-toggleable__label-arrow:hover:before {color: black;}#sk-container-id-5 div.sk-estimator:hover label.sk-toggleable__label-arrow:before {color: black;}#sk-container-id-5 div.sk-toggleable__content {max-height: 0;max-width: 0;overflow: hidden;text-align: left;background-color: #f0f8ff;}#sk-container-id-5 div.sk-toggleable__content pre {margin: 0.2em;color: black;border-radius: 0.25em;background-color: #f0f8ff;}#sk-container-id-5 input.sk-toggleable__control:checked~div.sk-toggleable__content {max-height: 200px;max-width: 100%;overflow: auto;}#sk-container-id-5 input.sk-toggleable__control:checked~label.sk-toggleable__label-arrow:before {content: \"▾\";}#sk-container-id-5 div.sk-estimator input.sk-toggleable__control:checked~label.sk-toggleable__label {background-color: #d4ebff;}#sk-container-id-5 div.sk-label input.sk-toggleable__control:checked~label.sk-toggleable__label {background-color: #d4ebff;}#sk-container-id-5 input.sk-hidden--visually {border: 0;clip: rect(1px 1px 1px 1px);clip: rect(1px, 1px, 1px, 1px);height: 1px;margin: -1px;overflow: hidden;padding: 0;position: absolute;width: 1px;}#sk-container-id-5 div.sk-estimator {font-family: monospace;background-color: #f0f8ff;border: 1px dotted black;border-radius: 0.25em;box-sizing: border-box;margin-bottom: 0.5em;}#sk-container-id-5 div.sk-estimator:hover {background-color: #d4ebff;}#sk-container-id-5 div.sk-parallel-item::after {content: \"\";width: 100%;border-bottom: 1px solid gray;flex-grow: 1;}#sk-container-id-5 div.sk-label:hover label.sk-toggleable__label {background-color: #d4ebff;}#sk-container-id-5 div.sk-serial::before {content: \"\";position: absolute;border-left: 1px solid gray;box-sizing: border-box;top: 0;bottom: 0;left: 50%;z-index: 0;}#sk-container-id-5 div.sk-serial {display: flex;flex-direction: column;align-items: center;background-color: white;padding-right: 0.2em;padding-left: 0.2em;position: relative;}#sk-container-id-5 div.sk-item {position: relative;z-index: 1;}#sk-container-id-5 div.sk-parallel {display: flex;align-items: stretch;justify-content: center;background-color: white;position: relative;}#sk-container-id-5 div.sk-item::before, #sk-container-id-5 div.sk-parallel-item::before {content: \"\";position: absolute;border-left: 1px solid gray;box-sizing: border-box;top: 0;bottom: 0;left: 50%;z-index: -1;}#sk-container-id-5 div.sk-parallel-item {display: flex;flex-direction: column;z-index: 1;position: relative;background-color: white;}#sk-container-id-5 div.sk-parallel-item:first-child::after {align-self: flex-end;width: 50%;}#sk-container-id-5 div.sk-parallel-item:last-child::after {align-self: flex-start;width: 50%;}#sk-container-id-5 div.sk-parallel-item:only-child::after {width: 0;}#sk-container-id-5 div.sk-dashed-wrapped {border: 1px dashed gray;margin: 0 0.4em 0.5em 0.4em;box-sizing: border-box;padding-bottom: 0.4em;background-color: white;}#sk-container-id-5 div.sk-label label {font-family: monospace;font-weight: bold;display: inline-block;line-height: 1.2em;}#sk-container-id-5 div.sk-label-container {text-align: center;}#sk-container-id-5 div.sk-container {/* jupyter's `normalize.less` sets `[hidden] { display: none; }` but bootstrap.min.css set `[hidden] { display: none !important; }` so we also need the `!important` here to be able to override the default hidden behavior on the sphinx rendered scikit-learn.org. See: https://github.com/scikit-learn/scikit-learn/issues/21755 */display: inline-block !important;position: relative;}#sk-container-id-5 div.sk-text-repr-fallback {display: none;}</style><div id=\"sk-container-id-5\" class=\"sk-top-container\"><div class=\"sk-text-repr-fallback\"><pre>LinearRegression()</pre><b>In a Jupyter environment, please rerun this cell to show the HTML representation or trust the notebook. <br />On GitHub, the HTML representation is unable to render, please try loading this page with nbviewer.org.</b></div><div class=\"sk-container\" hidden><div class=\"sk-item\"><div class=\"sk-estimator sk-toggleable\"><input class=\"sk-toggleable__control sk-hidden--visually\" id=\"sk-estimator-id-5\" type=\"checkbox\" checked><label for=\"sk-estimator-id-5\" class=\"sk-toggleable__label sk-toggleable__label-arrow\">LinearRegression</label><div class=\"sk-toggleable__content\"><pre>LinearRegression()</pre></div></div></div></div></div>"
            ]
          },
          "metadata": {},
          "execution_count": 174
        }
      ]
    },
    {
      "cell_type": "code",
      "source": [
        "print(f'Intercept: {np.round(slr.intercept_,4)}\\nSlope: {np.round(slr.coef_[0],4)}')"
      ],
      "metadata": {
        "colab": {
          "base_uri": "https://localhost:8080/"
        },
        "id": "5qLfsd0et74A",
        "outputId": "dfe5ca0b-aa51-41f3-e323-0f5da6327b56"
      },
      "execution_count": null,
      "outputs": [
        {
          "output_type": "stream",
          "name": "stdout",
          "text": [
            "Intercept: 5.6333\n",
            "Slope: 0.54\n"
          ]
        }
      ]
    },
    {
      "cell_type": "code",
      "source": [],
      "metadata": {
        "id": "oE4OGjP7erB4"
      },
      "execution_count": null,
      "outputs": []
    },
    {
      "cell_type": "markdown",
      "source": [
        "## Minibatches in Stochastic Gradient Descent\n",
        "\n",
        "As in the case of the ordinary gradient descent, stochastic gradient descent starts with an initial vector of decision variables and updates it through several iterations. The difference between the two is in what happens inside the iterations:\n",
        "\n",
        "Stochastic gradient descent randomly divides the set of observations into minibatches.\n",
        "For each minibatch, the gradient is computed and the vector is moved.\n",
        "Once all minibatches are used, you say that the iteration, or epoch, is finished and start the next one.\n",
        "This algorithm randomly selects observations for minibatches, so you need to simulate this random (or pseudorandom) behavior. You can do that with random number generation. Python has the built-in random module, and NumPy has its own random generator. The latter is more convenient when you work with arrays.\n",
        "\n",
        "You'll create a new function called sgd() that is very similar to gradient_descent() but uses randomly selected minibatches to move along the search space:"
      ],
      "metadata": {
        "id": "IBIxtk6PumYi"
      }
    },
    {
      "cell_type": "code",
      "source": [
        "import numpy as np\n",
        "\n",
        "def sgd(\n",
        "    gradient, x, y, start, learn_rate=0.1, batch_size=1, n_iter=50,\n",
        "    tolerance=1e-06, dtype=\"float64\", random_state=None\n",
        "):\n",
        "    # Checking if the gradient is callable\n",
        "    if not callable(gradient):\n",
        "        raise TypeError(\"'gradient' must be callable\")\n",
        "\n",
        "    # Setting up the data type for NumPy arrays\n",
        "    dtype_ = np.dtype(dtype)\n",
        "\n",
        "    # Converting x and y to NumPy arrays\n",
        "    x, y = np.array(x, dtype=dtype_), np.array(y, dtype=dtype_)\n",
        "    n_obs = x.shape[0]\n",
        "    if n_obs != y.shape[0]:\n",
        "        raise ValueError(\"'x' and 'y' lengths do not match\")\n",
        "    xy = np.c_[x.reshape(n_obs, -1), y.reshape(n_obs, 1)]\n",
        "\n",
        "    # Initializing the random number generator\n",
        "    seed = None if random_state is None else int(random_state)\n",
        "    rng = np.random.default_rng(seed=seed)\n",
        "\n",
        "    # Initializing the values of the variables\n",
        "    vector = np.array(start, dtype=dtype_)\n",
        "\n",
        "    # Setting up and checking the learning rate\n",
        "    learn_rate = np.array(learn_rate, dtype=dtype_)\n",
        "    if np.any(learn_rate <= 0):\n",
        "        raise ValueError(\"'learn_rate' must be greater than zero\")\n",
        "\n",
        "    # Setting up and checking the size of minibatches\n",
        "    batch_size = int(batch_size)\n",
        "    if not 0 < batch_size <= n_obs:\n",
        "        raise ValueError(\n",
        "            \"'batch_size' must be greater than zero and less than \"\n",
        "            \"or equal to the number of observations\"\n",
        "        )\n",
        "\n",
        "    # Setting up and checking the maximal number of iterations\n",
        "    n_iter = int(n_iter)\n",
        "    if n_iter <= 0:\n",
        "        raise ValueError(\"'n_iter' must be greater than zero\")\n",
        "\n",
        "    # Setting up and checking the tolerance\n",
        "    tolerance = np.array(tolerance, dtype=dtype_)\n",
        "    if np.any(tolerance <= 0):\n",
        "        raise ValueError(\"'tolerance' must be greater than zero\")\n",
        "\n",
        "    # Performing the gradient descent loop\n",
        "    for _ in range(n_iter):\n",
        "        # Shuffle x and y\n",
        "        rng.shuffle(xy)\n",
        "\n",
        "        # Performing minibatch moves\n",
        "        for start in range(0, n_obs, batch_size):\n",
        "            stop = start + batch_size\n",
        "            x_batch, y_batch = xy[start:stop, :-1], xy[start:stop, -1:]\n",
        "\n",
        "            # Recalculating the difference\n",
        "            grad = np.array(gradient(x_batch, y_batch, vector), dtype_)\n",
        "            diff = -learn_rate * grad\n",
        "\n",
        "            # Checking if the absolute difference is small enough\n",
        "            if np.all(np.abs(diff) <= tolerance):\n",
        "                break\n",
        "\n",
        "            # Updating the values of the variables\n",
        "            vector += diff\n",
        "\n",
        "    return vector if vector.shape else vector.item()"
      ],
      "metadata": {
        "id": "l7KFCk2qulUk"
      },
      "execution_count": null,
      "outputs": []
    },
    {
      "cell_type": "markdown",
      "source": [
        "You have a new parameter here. With batch_size, you specify the number of observations in each minibatch. This is an essential parameter for stochastic gradient descent that can significantly affect performance. Lines 34 to 39 ensure that batch_size is a positive integer no larger than the total number of observations.\n",
        "\n",
        "Another new parameter is random_state. It defines the seed of the random number generator on line 22. The seed is used on line 23 as an argument to default_rng(), which creates an instance of Generator.\n",
        "\n",
        "If you pass the argument None for random_state, then the random number generator will return different numbers each time it's instantiated. If you want each instance of the generator to behave exactly the same way, then you need to specify seed. The easiest way is to provide an arbitrary integer.\n",
        "\n",
        "Line 16 deduces the number of observations with x.shape[0]. If x is a one-dimensional array, then this is its size. If x has two dimensions, then .shape[0] is the number of rows.\n",
        "\n",
        "On line 19, you use .reshape() to make sure that both x and y become two-dimensional arrays with n_obs rows and that y has exactly one column. numpy.c_[] conveniently concatenates the columns of x and y into a single array, xy. This is one way to make data suitable for random selection.\n",
        "\n",
        "Finally, on lines 52 to 70, you implement the for loop for the stochastic gradient descent. It differs from gradient_descent(). On line 54, you use the random number generator and its method .shuffle() to shuffle the observations. This is one of the ways to choose minibatches randomly.\n",
        "\n",
        "The inner for loop is repeated for each minibatch. The main difference from the ordinary gradient descent is that, on line 62, the gradient is calculated for the observations from a minibatch (x_batch and y_batch) instead of for all observations (x and y).\n",
        "\n",
        "On line 59, x_batch becomes a part of xy that contains the rows of the current minibatch (from start to stop) and the columns that correspond to x. y_batch holds the same rows from xy but only the last column (the outputs).\n",
        "\n",
        "Now you can test your implementation of stochastic gradient descent:"
      ],
      "metadata": {
        "id": "SGmnrY7vu8aZ"
      }
    },
    {
      "cell_type": "code",
      "source": [
        "sgd(ssr_gradient, x, y, start=[0.5, 0.5], learn_rate=0.0008,\n",
        "    batch_size=3, n_iter=100_000, random_state=0\n",
        ")"
      ],
      "metadata": {
        "colab": {
          "base_uri": "https://localhost:8080/"
        },
        "id": "wa35e6u4ulP0",
        "outputId": "bb3fa123-d217-4a2c-fb65-3b6515cdc4b3"
      },
      "execution_count": null,
      "outputs": [
        {
          "output_type": "execute_result",
          "data": {
            "text/plain": [
              "array([5.63093736, 0.53982921])"
            ]
          },
          "metadata": {},
          "execution_count": 7
        }
      ]
    },
    {
      "cell_type": "code",
      "source": [],
      "metadata": {
        "id": "xFim9-vcvqOZ"
      },
      "execution_count": null,
      "outputs": []
    },
    {
      "cell_type": "markdown",
      "source": [
        "## Exercise 4: Repeat stochastic gradient descent example using [Sebastian Raschka's implementation of stochastic gradient descent in Chapter 2 of Python Machine Learning](https://github.com/rasbt/python-machine-learning-book-3rd-edition/blob/master/ch02/ch02.ipynb):"
      ],
      "metadata": {
        "id": "rVpHrStLvyns"
      }
    },
    {
      "cell_type": "code",
      "source": [
        "class LinearRegressionSGD(object):\n",
        "    \"\"\"LinearRegressionSGD.\n",
        "\n",
        "    Parameters\n",
        "    ------------\n",
        "    eta : float\n",
        "      Learning rate (between 0.0 and 1.0)\n",
        "    n_iter : int\n",
        "      Passes over the training dataset.\n",
        "    shuffle : bool (default: True)\n",
        "      Shuffles training data every epoch if True to prevent cycles.\n",
        "    random_state : int\n",
        "      Random number generator seed for random weight\n",
        "      initialization.\n",
        "\n",
        "\n",
        "    Attributes\n",
        "    -----------\n",
        "    w_ : 1d-array\n",
        "      Weights after fitting.\n",
        "    cost_ : list\n",
        "      Sum-of-squares cost function value averaged over all\n",
        "      training examples in each epoch.\n",
        "\n",
        "\n",
        "    \"\"\"\n",
        "    def __init__(self, eta=0.01, n_iter=10, shuffle=True, random_state=None):\n",
        "        self.eta = eta\n",
        "        self.n_iter = n_iter\n",
        "        self.w_initialized = False\n",
        "        self.shuffle = shuffle\n",
        "        self.random_state = random_state\n",
        "\n",
        "    def fit(self, X, y):\n",
        "        \"\"\" Fit training data.\n",
        "\n",
        "        Parameters\n",
        "        ----------\n",
        "        X : {array-like}, shape = [n_examples, n_features]\n",
        "          Training vectors, where n_examples is the number of examples and\n",
        "          n_features is the number of features.\n",
        "        y : array-like, shape = [n_examples]\n",
        "          Target values.\n",
        "\n",
        "        Returns\n",
        "        -------\n",
        "        self : object\n",
        "\n",
        "        \"\"\"\n",
        "        self._initialize_weights(X.shape[1])\n",
        "        self.cost_ = []\n",
        "        for i in range(self.n_iter):\n",
        "            if self.shuffle:\n",
        "                X, y = self._shuffle(X, y)\n",
        "            cost = []\n",
        "            for xi, target in zip(X, y):\n",
        "                cost.append(self._update_weights(xi, target))\n",
        "            avg_cost = sum(cost) / len(y)\n",
        "            self.cost_.append(avg_cost)\n",
        "        return self\n",
        "\n",
        "    def partial_fit(self, X, y):\n",
        "        \"\"\"Fit training data without reinitializing the weights\"\"\"\n",
        "        if not self.w_initialized:\n",
        "            self._initialize_weights(X.shape[1])\n",
        "        if y.ravel().shape[0] > 1:\n",
        "            for xi, target in zip(X, y):\n",
        "                self._update_weights(xi, target)\n",
        "        else:\n",
        "            self._update_weights(X, y)\n",
        "        return self\n",
        "\n",
        "    def _shuffle(self, X, y):\n",
        "        \"\"\"Shuffle training data\"\"\"\n",
        "        r = self.rgen.permutation(len(y))\n",
        "        return X[r], y[r]\n",
        "\n",
        "    def _initialize_weights(self, m):\n",
        "        \"\"\"Initialize weights to small random numbers\"\"\"\n",
        "        self.rgen = np.random.RandomState(self.random_state)\n",
        "        self.w_ = self.rgen.normal(loc=0.0, scale=0.01, size=1 + m)\n",
        "        self.w_initialized = True\n",
        "\n",
        "    def _update_weights(self, xi, target):\n",
        "        \"\"\"Apply Adaline learning rule to update the weights\"\"\"\n",
        "        output = self.activation(self.net_input(xi))\n",
        "        error = (target - output)\n",
        "        self.w_[1:] += self.eta * xi.dot(error)\n",
        "        self.w_[0] += self.eta * error\n",
        "        cost = 0.5 * error**2\n",
        "        return cost\n",
        "\n",
        "    def net_input(self, X):\n",
        "        \"\"\"Calculate net input\"\"\"\n",
        "        return np.dot(X, self.w_[1:]) + self.w_[0]\n",
        "\n",
        "    def activation(self, X):\n",
        "        \"\"\"Compute linear activation\"\"\"\n",
        "        return X\n",
        "\n",
        "    def predict(self, X):\n",
        "        \"\"\"Return class label after unit step\"\"\"\n",
        "        return self.activation(self.net_input(X))"
      ],
      "metadata": {
        "id": "VpGvIwL1vqJ1"
      },
      "execution_count": null,
      "outputs": []
    },
    {
      "cell_type": "code",
      "source": [
        "linear_sgd = LinearRegressionSGD(n_iter=100_000, eta=0.0002, random_state=0)\n",
        "\n",
        "linear_sgd.fit(x.reshape(-1,1), y)"
      ],
      "metadata": {
        "colab": {
          "base_uri": "https://localhost:8080/"
        },
        "id": "wff8MZ09vqHi",
        "outputId": "7c19d47f-bdd1-44e1-d911-6fa25c75d973"
      },
      "execution_count": null,
      "outputs": [
        {
          "output_type": "execute_result",
          "data": {
            "text/plain": [
              "<__main__.LinearRegressionSGD at 0x7e011aa68ca0>"
            ]
          },
          "metadata": {},
          "execution_count": 16
        }
      ]
    },
    {
      "cell_type": "code",
      "source": [
        "linear_sgd.w_"
      ],
      "metadata": {
        "colab": {
          "base_uri": "https://localhost:8080/"
        },
        "id": "jnaDJ43fvqEx",
        "outputId": "b02938f5-14cb-4658-fd4b-f938ed44c8aa"
      },
      "execution_count": null,
      "outputs": [
        {
          "output_type": "execute_result",
          "data": {
            "text/plain": [
              "array([5.58469347, 0.49397086])"
            ]
          },
          "metadata": {},
          "execution_count": 17
        }
      ]
    },
    {
      "cell_type": "code",
      "source": [],
      "metadata": {
        "id": "8a3TELD8ulFw"
      },
      "execution_count": null,
      "outputs": []
    },
    {
      "cell_type": "markdown",
      "source": [
        "## Extra: Fit linear regression with fake data"
      ],
      "metadata": {
        "id": "sWZza2PhpVak"
      }
    },
    {
      "cell_type": "code",
      "source": [
        "import numpy as np\n",
        "import pandas as pd"
      ],
      "metadata": {
        "id": "WXBW9SzaqETX"
      },
      "execution_count": null,
      "outputs": []
    },
    {
      "cell_type": "code",
      "source": [
        "a = 0.2\n",
        "b = 0.3\n",
        "sigma = 0.1\n",
        "# set the random seed to get reproducible results\n",
        "# change the seed to experiment with variation due to random noise\n",
        "np.random.seed(4)  # consistent random number generation\n",
        "X = np.arange(1,21)\n",
        "deltas = sigma * np.random.normal(size=len(X))# added noise\n",
        "y = a + deltas + b * X\n",
        "\n",
        "fake = pd.DataFrame({'X': X, 'y': y})\n",
        "fake"
      ],
      "metadata": {
        "colab": {
          "base_uri": "https://localhost:8080/",
          "height": 677
        },
        "id": "uo9RlF99pXJP",
        "outputId": "fdc72934-f095-4af9-a6d6-fd5fb96dd72f"
      },
      "execution_count": null,
      "outputs": [
        {
          "output_type": "execute_result",
          "data": {
            "text/plain": [
              "     X         y\n",
              "0    1  0.505056\n",
              "1    2  0.849995\n",
              "2    3  1.000409\n",
              "3    4  1.469360\n",
              "4    5  1.658170\n",
              "5    6  1.841542\n",
              "6    7  2.235229\n",
              "7    8  2.659858\n",
              "8    9  2.933225\n",
              "9   10  3.085252\n",
              "10  11  3.561867\n",
              "11  12  3.791201\n",
              "12  13  4.142507\n",
              "13  14  4.433225\n",
              "14  15  4.584318\n",
              "15  16  5.035100\n",
              "16  17  5.239311\n",
              "17  18  5.754698\n",
              "18  19  5.972334\n",
              "19  20  6.204614"
            ],
            "text/html": [
              "\n",
              "  <div id=\"df-83929894-8577-46dc-bb8d-f15fe7d1229d\" class=\"colab-df-container\">\n",
              "    <div>\n",
              "<style scoped>\n",
              "    .dataframe tbody tr th:only-of-type {\n",
              "        vertical-align: middle;\n",
              "    }\n",
              "\n",
              "    .dataframe tbody tr th {\n",
              "        vertical-align: top;\n",
              "    }\n",
              "\n",
              "    .dataframe thead th {\n",
              "        text-align: right;\n",
              "    }\n",
              "</style>\n",
              "<table border=\"1\" class=\"dataframe\">\n",
              "  <thead>\n",
              "    <tr style=\"text-align: right;\">\n",
              "      <th></th>\n",
              "      <th>X</th>\n",
              "      <th>y</th>\n",
              "    </tr>\n",
              "  </thead>\n",
              "  <tbody>\n",
              "    <tr>\n",
              "      <th>0</th>\n",
              "      <td>1</td>\n",
              "      <td>0.505056</td>\n",
              "    </tr>\n",
              "    <tr>\n",
              "      <th>1</th>\n",
              "      <td>2</td>\n",
              "      <td>0.849995</td>\n",
              "    </tr>\n",
              "    <tr>\n",
              "      <th>2</th>\n",
              "      <td>3</td>\n",
              "      <td>1.000409</td>\n",
              "    </tr>\n",
              "    <tr>\n",
              "      <th>3</th>\n",
              "      <td>4</td>\n",
              "      <td>1.469360</td>\n",
              "    </tr>\n",
              "    <tr>\n",
              "      <th>4</th>\n",
              "      <td>5</td>\n",
              "      <td>1.658170</td>\n",
              "    </tr>\n",
              "    <tr>\n",
              "      <th>5</th>\n",
              "      <td>6</td>\n",
              "      <td>1.841542</td>\n",
              "    </tr>\n",
              "    <tr>\n",
              "      <th>6</th>\n",
              "      <td>7</td>\n",
              "      <td>2.235229</td>\n",
              "    </tr>\n",
              "    <tr>\n",
              "      <th>7</th>\n",
              "      <td>8</td>\n",
              "      <td>2.659858</td>\n",
              "    </tr>\n",
              "    <tr>\n",
              "      <th>8</th>\n",
              "      <td>9</td>\n",
              "      <td>2.933225</td>\n",
              "    </tr>\n",
              "    <tr>\n",
              "      <th>9</th>\n",
              "      <td>10</td>\n",
              "      <td>3.085252</td>\n",
              "    </tr>\n",
              "    <tr>\n",
              "      <th>10</th>\n",
              "      <td>11</td>\n",
              "      <td>3.561867</td>\n",
              "    </tr>\n",
              "    <tr>\n",
              "      <th>11</th>\n",
              "      <td>12</td>\n",
              "      <td>3.791201</td>\n",
              "    </tr>\n",
              "    <tr>\n",
              "      <th>12</th>\n",
              "      <td>13</td>\n",
              "      <td>4.142507</td>\n",
              "    </tr>\n",
              "    <tr>\n",
              "      <th>13</th>\n",
              "      <td>14</td>\n",
              "      <td>4.433225</td>\n",
              "    </tr>\n",
              "    <tr>\n",
              "      <th>14</th>\n",
              "      <td>15</td>\n",
              "      <td>4.584318</td>\n",
              "    </tr>\n",
              "    <tr>\n",
              "      <th>15</th>\n",
              "      <td>16</td>\n",
              "      <td>5.035100</td>\n",
              "    </tr>\n",
              "    <tr>\n",
              "      <th>16</th>\n",
              "      <td>17</td>\n",
              "      <td>5.239311</td>\n",
              "    </tr>\n",
              "    <tr>\n",
              "      <th>17</th>\n",
              "      <td>18</td>\n",
              "      <td>5.754698</td>\n",
              "    </tr>\n",
              "    <tr>\n",
              "      <th>18</th>\n",
              "      <td>19</td>\n",
              "      <td>5.972334</td>\n",
              "    </tr>\n",
              "    <tr>\n",
              "      <th>19</th>\n",
              "      <td>20</td>\n",
              "      <td>6.204614</td>\n",
              "    </tr>\n",
              "  </tbody>\n",
              "</table>\n",
              "</div>\n",
              "    <div class=\"colab-df-buttons\">\n",
              "\n",
              "  <div class=\"colab-df-container\">\n",
              "    <button class=\"colab-df-convert\" onclick=\"convertToInteractive('df-83929894-8577-46dc-bb8d-f15fe7d1229d')\"\n",
              "            title=\"Convert this dataframe to an interactive table.\"\n",
              "            style=\"display:none;\">\n",
              "\n",
              "  <svg xmlns=\"http://www.w3.org/2000/svg\" height=\"24px\" viewBox=\"0 -960 960 960\">\n",
              "    <path d=\"M120-120v-720h720v720H120Zm60-500h600v-160H180v160Zm220 220h160v-160H400v160Zm0 220h160v-160H400v160ZM180-400h160v-160H180v160Zm440 0h160v-160H620v160ZM180-180h160v-160H180v160Zm440 0h160v-160H620v160Z\"/>\n",
              "  </svg>\n",
              "    </button>\n",
              "\n",
              "  <style>\n",
              "    .colab-df-container {\n",
              "      display:flex;\n",
              "      gap: 12px;\n",
              "    }\n",
              "\n",
              "    .colab-df-convert {\n",
              "      background-color: #E8F0FE;\n",
              "      border: none;\n",
              "      border-radius: 50%;\n",
              "      cursor: pointer;\n",
              "      display: none;\n",
              "      fill: #1967D2;\n",
              "      height: 32px;\n",
              "      padding: 0 0 0 0;\n",
              "      width: 32px;\n",
              "    }\n",
              "\n",
              "    .colab-df-convert:hover {\n",
              "      background-color: #E2EBFA;\n",
              "      box-shadow: 0px 1px 2px rgba(60, 64, 67, 0.3), 0px 1px 3px 1px rgba(60, 64, 67, 0.15);\n",
              "      fill: #174EA6;\n",
              "    }\n",
              "\n",
              "    .colab-df-buttons div {\n",
              "      margin-bottom: 4px;\n",
              "    }\n",
              "\n",
              "    [theme=dark] .colab-df-convert {\n",
              "      background-color: #3B4455;\n",
              "      fill: #D2E3FC;\n",
              "    }\n",
              "\n",
              "    [theme=dark] .colab-df-convert:hover {\n",
              "      background-color: #434B5C;\n",
              "      box-shadow: 0px 1px 3px 1px rgba(0, 0, 0, 0.15);\n",
              "      filter: drop-shadow(0px 1px 2px rgba(0, 0, 0, 0.3));\n",
              "      fill: #FFFFFF;\n",
              "    }\n",
              "  </style>\n",
              "\n",
              "    <script>\n",
              "      const buttonEl =\n",
              "        document.querySelector('#df-83929894-8577-46dc-bb8d-f15fe7d1229d button.colab-df-convert');\n",
              "      buttonEl.style.display =\n",
              "        google.colab.kernel.accessAllowed ? 'block' : 'none';\n",
              "\n",
              "      async function convertToInteractive(key) {\n",
              "        const element = document.querySelector('#df-83929894-8577-46dc-bb8d-f15fe7d1229d');\n",
              "        const dataTable =\n",
              "          await google.colab.kernel.invokeFunction('convertToInteractive',\n",
              "                                                    [key], {});\n",
              "        if (!dataTable) return;\n",
              "\n",
              "        const docLinkHtml = 'Like what you see? Visit the ' +\n",
              "          '<a target=\"_blank\" href=https://colab.research.google.com/notebooks/data_table.ipynb>data table notebook</a>'\n",
              "          + ' to learn more about interactive tables.';\n",
              "        element.innerHTML = '';\n",
              "        dataTable['output_type'] = 'display_data';\n",
              "        await google.colab.output.renderOutput(dataTable, element);\n",
              "        const docLink = document.createElement('div');\n",
              "        docLink.innerHTML = docLinkHtml;\n",
              "        element.appendChild(docLink);\n",
              "      }\n",
              "    </script>\n",
              "  </div>\n",
              "\n",
              "\n",
              "<div id=\"df-acd2aa67-886b-4351-881e-3061cbf3db34\">\n",
              "  <button class=\"colab-df-quickchart\" onclick=\"quickchart('df-acd2aa67-886b-4351-881e-3061cbf3db34')\"\n",
              "            title=\"Suggest charts\"\n",
              "            style=\"display:none;\">\n",
              "\n",
              "<svg xmlns=\"http://www.w3.org/2000/svg\" height=\"24px\"viewBox=\"0 0 24 24\"\n",
              "     width=\"24px\">\n",
              "    <g>\n",
              "        <path d=\"M19 3H5c-1.1 0-2 .9-2 2v14c0 1.1.9 2 2 2h14c1.1 0 2-.9 2-2V5c0-1.1-.9-2-2-2zM9 17H7v-7h2v7zm4 0h-2V7h2v10zm4 0h-2v-4h2v4z\"/>\n",
              "    </g>\n",
              "</svg>\n",
              "  </button>\n",
              "\n",
              "<style>\n",
              "  .colab-df-quickchart {\n",
              "      --bg-color: #E8F0FE;\n",
              "      --fill-color: #1967D2;\n",
              "      --hover-bg-color: #E2EBFA;\n",
              "      --hover-fill-color: #174EA6;\n",
              "      --disabled-fill-color: #AAA;\n",
              "      --disabled-bg-color: #DDD;\n",
              "  }\n",
              "\n",
              "  [theme=dark] .colab-df-quickchart {\n",
              "      --bg-color: #3B4455;\n",
              "      --fill-color: #D2E3FC;\n",
              "      --hover-bg-color: #434B5C;\n",
              "      --hover-fill-color: #FFFFFF;\n",
              "      --disabled-bg-color: #3B4455;\n",
              "      --disabled-fill-color: #666;\n",
              "  }\n",
              "\n",
              "  .colab-df-quickchart {\n",
              "    background-color: var(--bg-color);\n",
              "    border: none;\n",
              "    border-radius: 50%;\n",
              "    cursor: pointer;\n",
              "    display: none;\n",
              "    fill: var(--fill-color);\n",
              "    height: 32px;\n",
              "    padding: 0;\n",
              "    width: 32px;\n",
              "  }\n",
              "\n",
              "  .colab-df-quickchart:hover {\n",
              "    background-color: var(--hover-bg-color);\n",
              "    box-shadow: 0 1px 2px rgba(60, 64, 67, 0.3), 0 1px 3px 1px rgba(60, 64, 67, 0.15);\n",
              "    fill: var(--button-hover-fill-color);\n",
              "  }\n",
              "\n",
              "  .colab-df-quickchart-complete:disabled,\n",
              "  .colab-df-quickchart-complete:disabled:hover {\n",
              "    background-color: var(--disabled-bg-color);\n",
              "    fill: var(--disabled-fill-color);\n",
              "    box-shadow: none;\n",
              "  }\n",
              "\n",
              "  .colab-df-spinner {\n",
              "    border: 2px solid var(--fill-color);\n",
              "    border-color: transparent;\n",
              "    border-bottom-color: var(--fill-color);\n",
              "    animation:\n",
              "      spin 1s steps(1) infinite;\n",
              "  }\n",
              "\n",
              "  @keyframes spin {\n",
              "    0% {\n",
              "      border-color: transparent;\n",
              "      border-bottom-color: var(--fill-color);\n",
              "      border-left-color: var(--fill-color);\n",
              "    }\n",
              "    20% {\n",
              "      border-color: transparent;\n",
              "      border-left-color: var(--fill-color);\n",
              "      border-top-color: var(--fill-color);\n",
              "    }\n",
              "    30% {\n",
              "      border-color: transparent;\n",
              "      border-left-color: var(--fill-color);\n",
              "      border-top-color: var(--fill-color);\n",
              "      border-right-color: var(--fill-color);\n",
              "    }\n",
              "    40% {\n",
              "      border-color: transparent;\n",
              "      border-right-color: var(--fill-color);\n",
              "      border-top-color: var(--fill-color);\n",
              "    }\n",
              "    60% {\n",
              "      border-color: transparent;\n",
              "      border-right-color: var(--fill-color);\n",
              "    }\n",
              "    80% {\n",
              "      border-color: transparent;\n",
              "      border-right-color: var(--fill-color);\n",
              "      border-bottom-color: var(--fill-color);\n",
              "    }\n",
              "    90% {\n",
              "      border-color: transparent;\n",
              "      border-bottom-color: var(--fill-color);\n",
              "    }\n",
              "  }\n",
              "</style>\n",
              "\n",
              "  <script>\n",
              "    async function quickchart(key) {\n",
              "      const quickchartButtonEl =\n",
              "        document.querySelector('#' + key + ' button');\n",
              "      quickchartButtonEl.disabled = true;  // To prevent multiple clicks.\n",
              "      quickchartButtonEl.classList.add('colab-df-spinner');\n",
              "      try {\n",
              "        const charts = await google.colab.kernel.invokeFunction(\n",
              "            'suggestCharts', [key], {});\n",
              "      } catch (error) {\n",
              "        console.error('Error during call to suggestCharts:', error);\n",
              "      }\n",
              "      quickchartButtonEl.classList.remove('colab-df-spinner');\n",
              "      quickchartButtonEl.classList.add('colab-df-quickchart-complete');\n",
              "    }\n",
              "    (() => {\n",
              "      let quickchartButtonEl =\n",
              "        document.querySelector('#df-acd2aa67-886b-4351-881e-3061cbf3db34 button');\n",
              "      quickchartButtonEl.style.display =\n",
              "        google.colab.kernel.accessAllowed ? 'block' : 'none';\n",
              "    })();\n",
              "  </script>\n",
              "</div>\n",
              "\n",
              "  <div id=\"id_db2c4157-25b6-4cab-b153-fd93bd0044db\">\n",
              "    <style>\n",
              "      .colab-df-generate {\n",
              "        background-color: #E8F0FE;\n",
              "        border: none;\n",
              "        border-radius: 50%;\n",
              "        cursor: pointer;\n",
              "        display: none;\n",
              "        fill: #1967D2;\n",
              "        height: 32px;\n",
              "        padding: 0 0 0 0;\n",
              "        width: 32px;\n",
              "      }\n",
              "\n",
              "      .colab-df-generate:hover {\n",
              "        background-color: #E2EBFA;\n",
              "        box-shadow: 0px 1px 2px rgba(60, 64, 67, 0.3), 0px 1px 3px 1px rgba(60, 64, 67, 0.15);\n",
              "        fill: #174EA6;\n",
              "      }\n",
              "\n",
              "      [theme=dark] .colab-df-generate {\n",
              "        background-color: #3B4455;\n",
              "        fill: #D2E3FC;\n",
              "      }\n",
              "\n",
              "      [theme=dark] .colab-df-generate:hover {\n",
              "        background-color: #434B5C;\n",
              "        box-shadow: 0px 1px 3px 1px rgba(0, 0, 0, 0.15);\n",
              "        filter: drop-shadow(0px 1px 2px rgba(0, 0, 0, 0.3));\n",
              "        fill: #FFFFFF;\n",
              "      }\n",
              "    </style>\n",
              "    <button class=\"colab-df-generate\" onclick=\"generateWithVariable('fake')\"\n",
              "            title=\"Generate code using this dataframe.\"\n",
              "            style=\"display:none;\">\n",
              "\n",
              "  <svg xmlns=\"http://www.w3.org/2000/svg\" height=\"24px\"viewBox=\"0 0 24 24\"\n",
              "       width=\"24px\">\n",
              "    <path d=\"M7,19H8.4L18.45,9,17,7.55,7,17.6ZM5,21V16.75L18.45,3.32a2,2,0,0,1,2.83,0l1.4,1.43a1.91,1.91,0,0,1,.58,1.4,1.91,1.91,0,0,1-.58,1.4L9.25,21ZM18.45,9,17,7.55Zm-12,3A5.31,5.31,0,0,0,4.9,8.1,5.31,5.31,0,0,0,1,6.5,5.31,5.31,0,0,0,4.9,4.9,5.31,5.31,0,0,0,6.5,1,5.31,5.31,0,0,0,8.1,4.9,5.31,5.31,0,0,0,12,6.5,5.46,5.46,0,0,0,6.5,12Z\"/>\n",
              "  </svg>\n",
              "    </button>\n",
              "    <script>\n",
              "      (() => {\n",
              "      const buttonEl =\n",
              "        document.querySelector('#id_db2c4157-25b6-4cab-b153-fd93bd0044db button.colab-df-generate');\n",
              "      buttonEl.style.display =\n",
              "        google.colab.kernel.accessAllowed ? 'block' : 'none';\n",
              "\n",
              "      buttonEl.onclick = () => {\n",
              "        google.colab.notebook.generateWithVariable('fake');\n",
              "      }\n",
              "      })();\n",
              "    </script>\n",
              "  </div>\n",
              "\n",
              "    </div>\n",
              "  </div>\n"
            ],
            "application/vnd.google.colaboratory.intrinsic+json": {
              "type": "dataframe",
              "variable_name": "fake",
              "summary": "{\n  \"name\": \"fake\",\n  \"rows\": 20,\n  \"fields\": [\n    {\n      \"column\": \"X\",\n      \"properties\": {\n        \"dtype\": \"number\",\n        \"std\": 5,\n        \"min\": 1,\n        \"max\": 20,\n        \"num_unique_values\": 20,\n        \"samples\": [\n          1,\n          18,\n          16\n        ],\n        \"semantic_type\": \"\",\n        \"description\": \"\"\n      }\n    },\n    {\n      \"column\": \"y\",\n      \"properties\": {\n        \"dtype\": \"number\",\n        \"std\": 1.7959483395364173,\n        \"min\": 0.505056170714294,\n        \"max\": 6.204613556723016,\n        \"num_unique_values\": 20,\n        \"samples\": [\n          0.505056170714294,\n          5.754697932901572,\n          5.035099715308253\n        ],\n        \"semantic_type\": \"\",\n        \"description\": \"\"\n      }\n    }\n  ]\n}"
            }
          },
          "metadata": {},
          "execution_count": 28
        }
      ]
    },
    {
      "cell_type": "code",
      "source": [],
      "metadata": {
        "id": "cY_IyE6VuR2m"
      },
      "execution_count": null,
      "outputs": []
    }
  ]
}